{
 "cells": [
  {
   "cell_type": "markdown",
   "metadata": {},
   "source": [
    "# AWS Deployment and Prediction Example (COVID Edition)"
   ]
  },
  {
   "cell_type": "markdown",
   "metadata": {},
   "source": [
    "This notebook is for deploying BTNx models for object detection, anomaly detection, and image classification to SageMaker. Please place this notebook and the other files in this directory (e.g. `.mar` files, etc.) in an AWS SageMaker instance, and then run this notebook sequentially to deploy the models."
   ]
  },
  {
   "cell_type": "code",
   "execution_count": null,
   "metadata": {},
   "outputs": [],
   "source": [
    "!pip install torchserve -q\n",
    "!pip install nvidia-ml-py3\n",
    "!pip install --upgrade pip\n",
    "!pip -q install sagemaker awscli boto3 pandas --upgrade \n",
    "!git clone https://github.com/pytorch/serve.git"
   ]
  },
  {
   "cell_type": "markdown",
   "metadata": {},
   "source": [
    "NOTE: You haven't updated the `sagemaker` in this notebook, whereas it is updated in `oraquick` notebook. Once you upgrade the sagemaker, you are going to have to change a few parameters."
   ]
  },
  {
   "cell_type": "code",
   "execution_count": 1,
   "metadata": {},
   "outputs": [
    {
     "name": "stdout",
     "output_type": "stream",
     "text": [
      "Name: sagemaker\n",
      "Version: 1.72.1\n",
      "Summary: Open source library for training and deploying models on Amazon SageMaker.\n",
      "Home-page: https://github.com/aws/sagemaker-python-sdk/\n",
      "Author: Amazon Web Services\n",
      "Author-email: None\n",
      "License: Apache License 2.0\n",
      "Location: /home/ec2-user/anaconda3/envs/pytorch_p36/lib/python3.6/site-packages\n",
      "Requires: scipy, protobuf3-to-dict, importlib-metadata, smdebug-rulesconfig, boto3, numpy, packaging, protobuf\n",
      "Required-by: \n"
     ]
    }
   ],
   "source": [
    "!pip show sagemaker"
   ]
  },
  {
   "cell_type": "code",
   "execution_count": 2,
   "metadata": {},
   "outputs": [],
   "source": [
    "import boto3\n",
    "import time\n",
    "import json\n",
    "import sagemaker\n",
    "\n",
    "import math\n",
    "import cv2\n",
    "import numpy as np\n",
    "from matplotlib import pyplot as plt\n",
    "%matplotlib inline\n",
    "\n",
    "import torch\n",
    "\n",
    "from sagemaker.model import Model\n",
    "from sagemaker.predictor import RealTimePredictor"
   ]
  },
  {
   "cell_type": "markdown",
   "metadata": {},
   "source": [
    "## Create a `boto3` session & specify a role with SageMaker access"
   ]
  },
  {
   "cell_type": "markdown",
   "metadata": {},
   "source": [
    "Create a `boto3` session and get the region, account, and other related information."
   ]
  },
  {
   "cell_type": "code",
   "execution_count": 3,
   "metadata": {},
   "outputs": [],
   "source": [
    "sess = boto3.Session()\n",
    "sm = sess.client('sagemaker')\n",
    "region = sess.region_name\n",
    "account = boto3.client('sts').get_caller_identity().get('Account')"
   ]
  },
  {
   "cell_type": "code",
   "execution_count": 4,
   "metadata": {},
   "outputs": [],
   "source": [
    "role = sagemaker.get_execution_role()\n",
    "sagemaker_session = sagemaker.Session(boto_session=sess)"
   ]
  },
  {
   "cell_type": "code",
   "execution_count": 5,
   "metadata": {},
   "outputs": [],
   "source": [
    "bucket_name = sagemaker_session.default_bucket()\n",
    "prefix = 'torchserve'"
   ]
  },
  {
   "cell_type": "code",
   "execution_count": 6,
   "metadata": {},
   "outputs": [
    {
     "data": {
      "text/plain": [
       "'sagemaker-us-east-2-364546270619'"
      ]
     },
     "execution_count": 6,
     "metadata": {},
     "output_type": "execute_result"
    }
   ],
   "source": [
    "bucket_name"
   ]
  },
  {
   "cell_type": "markdown",
   "metadata": {},
   "source": [
    "## Model Archive Setup"
   ]
  },
  {
   "cell_type": "markdown",
   "metadata": {},
   "source": [
    "I have uploaded the `maskrcnn.mar` file in the notebook instance through Jupyter Home. Another strategy would be to upload to Amazon S3 bucket. I think Darrell would know where to best store this in his pipeline."
   ]
  },
  {
   "cell_type": "code",
   "execution_count": 7,
   "metadata": {},
   "outputs": [
    {
     "name": "stdout",
     "output_type": "stream",
     "text": [
      "abbott_classifier.mar  btnx_maskrcnn.mar\toraquick_maskrcnn.mar\n",
      "abbott_maskrcnn.mar    btnx_outlier.mar\n",
      "btnx_classifier.mar    oraquick_classifier.mar\n"
     ]
    }
   ],
   "source": [
    "!ls -lf *.mar"
   ]
  },
  {
   "cell_type": "markdown",
   "metadata": {},
   "source": [
    "Create a compressed `.tar.gz` file out of the `maskrcnn.mar` file for Amazon to properly consume the model. Then, upload the model to the S3 bucket under the models' directory."
   ]
  },
  {
   "cell_type": "code",
   "execution_count": 9,
   "metadata": {},
   "outputs": [
    {
     "name": "stdout",
     "output_type": "stream",
     "text": [
      "btnx_maskrcnn.mar\n"
     ]
    }
   ],
   "source": [
    "model_file_name = 'btnx_maskrcnn'\n",
    "!tar cvfz {model_file_name}.tar.gz {model_file_name}.mar"
   ]
  },
  {
   "cell_type": "code",
   "execution_count": 10,
   "metadata": {},
   "outputs": [
    {
     "name": "stdout",
     "output_type": "stream",
     "text": [
      "upload: ./btnx_maskrcnn.tar.gz to s3://sagemaker-us-east-2-364546270619/torchserve/models/btnx_maskrcnn.tar.gz\n"
     ]
    }
   ],
   "source": [
    "!aws s3 cp {model_file_name}.tar.gz s3://{bucket_name}/{prefix}/models/"
   ]
  },
  {
   "cell_type": "code",
   "execution_count": 11,
   "metadata": {},
   "outputs": [
    {
     "name": "stdout",
     "output_type": "stream",
     "text": [
      "btnx_classifier.mar\n"
     ]
    }
   ],
   "source": [
    "model_file_name = 'btnx_classifier'\n",
    "!tar cvfz {model_file_name}.tar.gz {model_file_name}.mar"
   ]
  },
  {
   "cell_type": "code",
   "execution_count": 12,
   "metadata": {},
   "outputs": [
    {
     "name": "stdout",
     "output_type": "stream",
     "text": [
      "upload: ./btnx_classifier.tar.gz to s3://sagemaker-us-east-2-364546270619/torchserve/models/btnx_classifier.tar.gz\n"
     ]
    }
   ],
   "source": [
    "!aws s3 cp {model_file_name}.tar.gz s3://{bucket_name}/{prefix}/models/"
   ]
  },
  {
   "cell_type": "code",
   "execution_count": 8,
   "metadata": {},
   "outputs": [
    {
     "name": "stdout",
     "output_type": "stream",
     "text": [
      "btnx_outlier.mar\n"
     ]
    }
   ],
   "source": [
    "model_file_name = 'btnx_outlier'\n",
    "!tar cvfz {model_file_name}.tar.gz {model_file_name}.mar"
   ]
  },
  {
   "cell_type": "code",
   "execution_count": 9,
   "metadata": {},
   "outputs": [
    {
     "name": "stdout",
     "output_type": "stream",
     "text": [
      "upload: ./btnx_outlier.tar.gz to s3://sagemaker-us-east-2-364546270619/torchserve/models/btnx_outlier.tar.gz\n"
     ]
    }
   ],
   "source": [
    "!aws s3 cp {model_file_name}.tar.gz s3://{bucket_name}/{prefix}/models/"
   ]
  },
  {
   "cell_type": "markdown",
   "metadata": {},
   "source": [
    "## Create an Amazon ECR registry"
   ]
  },
  {
   "cell_type": "markdown",
   "metadata": {},
   "source": [
    "Create a new Docker container registry for the TorchServe container images. Amazon SageMaker pulls the TorchServe conatiner from this registry."
   ]
  },
  {
   "cell_type": "code",
   "execution_count": 10,
   "metadata": {},
   "outputs": [
    {
     "name": "stdout",
     "output_type": "stream",
     "text": [
      "\n",
      "An error occurred (RepositoryAlreadyExistsException) when calling the CreateRepository operation: The repository with name 'torchserve' already exists in the registry with id '364546270619'\n"
     ]
    }
   ],
   "source": [
    "registry_name = 'torchserve'\n",
    "!aws ecr create-repository --repository-name {registry_name}"
   ]
  },
  {
   "cell_type": "markdown",
   "metadata": {},
   "source": [
    "## Build a TorchServe Docker Container & Push to Amazon ECR"
   ]
  },
  {
   "cell_type": "markdown",
   "metadata": {},
   "source": [
    "Build a Docker container image locally and push it to the Amazon ECR repository we created in the previous step."
   ]
  },
  {
   "cell_type": "code",
   "execution_count": 11,
   "metadata": {},
   "outputs": [
    {
     "name": "stdout",
     "output_type": "stream",
     "text": [
      "total 2175284\n",
      "drwxr-xr-x  7 ec2-user ec2-user      4096 Nov  3 19:30 .\n",
      "drwx------ 22 ec2-user ec2-user      4096 Nov  3 19:29 ..\n",
      "-rw-rw-r--  1 ec2-user ec2-user  49947099 Oct 18 18:28 abbott_classifier.mar\n",
      "-rw-rw-r--  1 ec2-user ec2-user  49935819 Oct 18 18:29 abbott_classifier.tar.gz\n",
      "-rw-rw-r--  1 ec2-user ec2-user   9802724 Oct 18 19:19 abbott_deploy_and_predict.ipynb\n",
      "-rw-rw-r--  1 ec2-user ec2-user 163708310 Oct 18 18:22 abbott_maskrcnn.mar\n",
      "-rw-rw-r--  1 ec2-user ec2-user 163734196 Oct 18 18:29 abbott_maskrcnn.tar.gz\n",
      "-rw-rw-r--  1 ec2-user ec2-user    169443 Oct 18 19:04 abbott_sample.jpg\n",
      "-rw-rw-r--  1 ec2-user ec2-user  50148941 Oct 17 15:44 btnx_classifier.mar\n",
      "-rw-rw-r--  1 ec2-user ec2-user  50132759 Oct 17 15:45 btnx_classifier.tar.gz\n",
      "-rw-rw-r--  1 ec2-user ec2-user   3020797 Oct 17 16:43 btnx_deploy_and_predict.ipynb\n",
      "-rw-rw-r--  1 ec2-user ec2-user 163704698 May  3  2020 btnx_maskrcnn.mar\n",
      "-rw-rw-r--  1 ec2-user ec2-user 163730663 Oct 17 15:45 btnx_maskrcnn.tar.gz\n",
      "-rw-rw-r--  1 ec2-user ec2-user  12261655 Nov  3 19:29 btnx_outlier.mar\n",
      "-rw-rw-r--  1 ec2-user ec2-user  12263476 Nov  3 19:30 btnx_outlier.tar.gz\n",
      "-rw-rw-r--  1 ec2-user ec2-user     98041 May  3  2020 btnx_sample.jpg\n",
      "-rw-rw-r--  1 ec2-user ec2-user        69 Oct 18 19:07 classification_response.txt\n",
      "-rw-rw-r--  1 ec2-user ec2-user       334 Jun 21 20:27 config.properties\n",
      "-rw-rw-r--  1 ec2-user ec2-user   6958305 Oct 18 19:05 detection_response.txt\n",
      "-rw-rw-r--  1 ec2-user ec2-user       221 Apr 27  2020 dockerd-entrypoint.sh\n",
      "-rw-rw-r--  1 ec2-user ec2-user      1113 Apr 27  2020 Dockerfile\n",
      "-rw-rw-r--  1 ec2-user ec2-user       969 Oct 18 19:07 extracted_membrane.jpg\n",
      "-rw-rw-r--  1 ec2-user ec2-user    292314 Jun 26 16:47 initial_image.jpg\n",
      "-rw-rw-r--  1 ec2-user ec2-user      6501 Nov  3 19:28 invalid_zone.jpg\n",
      "drwxrwxr-x  2 ec2-user ec2-user      4096 Oct 17 16:52 .ipynb_checkpoints\n",
      "-rw-rw-r--  1 ec2-user ec2-user    110969 Jul  4  2018 kitten.jpg\n",
      "drwx------  2 ec2-user ec2-user     16384 Apr 27  2020 lost+found\n",
      "drwxrwxr-x 14 ec2-user ec2-user      4096 Apr 27  2020 old_serve\n",
      "-rw-rw-r--  1 ec2-user ec2-user 126080056 Sep 12 16:51 oraquick_classifier.mar\n",
      "-rw-rw-r--  1 ec2-user ec2-user 126076091 Sep 12 16:55 oraquick_classifier.tar.gz\n",
      "-rw-rw-r--  1 ec2-user ec2-user   6681547 Sep 12 20:37 oraquick_deploy_and_predict.ipynb\n",
      "-rw-rw-r--  1 ec2-user ec2-user 163704712 Sep 12 20:22 oraquick_maskrcnn.mar\n",
      "-rw-rw-r--  1 ec2-user ec2-user 163730567 Sep 12 20:26 oraquick_maskrcnn.tar.gz\n",
      "-rw-rw-r--  1 ec2-user ec2-user     63362 Sep 12 17:26 oraquick_sample.jpg\n",
      "-rw-rw-r--  1 ec2-user ec2-user      4145 Apr 28  2020 requirements.txt\n",
      "-rw-rw-r--  1 ec2-user ec2-user     59146 Apr 27  2020 sdigg_sample.jpg\n",
      "drwxrwxr-x 14 ec2-user ec2-user      4096 Apr 29  2020 serve\n",
      "drwxr-xr-x  2 ec2-user ec2-user      4096 Apr 27  2020 .sparkmagic\n",
      "-rw-rw-r--  1 ec2-user ec2-user 740911161 May  5 19:52 uzay_notebook_instance.tar.gz\n"
     ]
    }
   ],
   "source": [
    "# !sudo chown ec2-user:ec2-user lost+found\n",
    "!ls -al"
   ]
  },
  {
   "cell_type": "code",
   "execution_count": 12,
   "metadata": {
    "scrolled": true
   },
   "outputs": [
    {
     "name": "stdout",
     "output_type": "stream",
     "text": [
      "Sending build context to Docker daemon  2.353GB\n",
      "Step 1/16 : FROM ubuntu:18.04\n",
      "18.04: Pulling from library/ubuntu\n",
      "\n",
      "\u001b[1B57c49d0f: Pulling fs layer \n",
      "\u001b[1B40447d26: Pulling fs layer \n",
      "\u001b[1BDigest: sha256:646942475da61b4ce9cc5b3fadb42642ea90e5d0de46111458e100ff2c7031e6\u001b[2K\u001b[3A\u001b[2K\u001b[3A\u001b[2K\u001b[3A\u001b[2K\u001b[3A\u001b[2K\u001b[3A\u001b[2K\u001b[3A\u001b[2K\u001b[3A\u001b[2K\u001b[3A\u001b[2K\u001b[3A\u001b[2K\u001b[3A\u001b[2K\u001b[2A\u001b[2K\u001b[2A\u001b[2K\u001b[1A\u001b[2K\n",
      "Status: Downloaded newer image for ubuntu:18.04\n",
      " ---> 56def654ec22\n",
      "Step 2/16 : ENV PYTHONUNBUFFERED TRUE\n",
      " ---> Running in 09f24a5e5a36\n",
      "Removing intermediate container 09f24a5e5a36\n",
      " ---> 1da659a80926\n",
      "Step 3/16 : RUN apt-get update &&     DEBIAN_FRONTEND=noninteractive apt-get install --no-install-recommends -y     fakeroot     ca-certificates     dpkg-dev     g++     python3-dev     openjdk-11-jdk     curl     vim     && rm -rf /var/lib/apt/lists/*     && cd /tmp     && curl -O https://bootstrap.pypa.io/get-pip.py     && python3 get-pip.py\n",
      " ---> Running in a469b4ccc086\n",
      "Get:1 http://security.ubuntu.com/ubuntu bionic-security InRelease [88.7 kB]\n",
      "Get:2 http://archive.ubuntu.com/ubuntu bionic InRelease [242 kB]\n",
      "Get:3 http://security.ubuntu.com/ubuntu bionic-security/restricted amd64 Packages [213 kB]\n",
      "Get:4 http://archive.ubuntu.com/ubuntu bionic-updates InRelease [88.7 kB]\n",
      "Get:5 http://archive.ubuntu.com/ubuntu bionic-backports InRelease [74.6 kB]\n",
      "Get:6 http://security.ubuntu.com/ubuntu bionic-security/universe amd64 Packages [1353 kB]\n",
      "Get:7 http://archive.ubuntu.com/ubuntu bionic/multiverse amd64 Packages [186 kB]\n",
      "Get:8 http://archive.ubuntu.com/ubuntu bionic/universe amd64 Packages [11.3 MB]\n",
      "Get:9 http://security.ubuntu.com/ubuntu bionic-security/multiverse amd64 Packages [15.4 kB]\n",
      "Get:10 http://security.ubuntu.com/ubuntu bionic-security/main amd64 Packages [1749 kB]\n",
      "Get:11 http://archive.ubuntu.com/ubuntu bionic/main amd64 Packages [1344 kB]\n",
      "Get:12 http://archive.ubuntu.com/ubuntu bionic/restricted amd64 Packages [13.5 kB]\n",
      "Get:13 http://archive.ubuntu.com/ubuntu bionic-updates/restricted amd64 Packages [239 kB]\n",
      "Get:14 http://archive.ubuntu.com/ubuntu bionic-updates/main amd64 Packages [2167 kB]\n",
      "Get:15 http://archive.ubuntu.com/ubuntu bionic-updates/universe amd64 Packages [2118 kB]\n",
      "Get:16 http://archive.ubuntu.com/ubuntu bionic-updates/multiverse amd64 Packages [45.9 kB]\n",
      "Get:17 http://archive.ubuntu.com/ubuntu bionic-backports/universe amd64 Packages [11.4 kB]\n",
      "Get:18 http://archive.ubuntu.com/ubuntu bionic-backports/main amd64 Packages [11.3 kB]\n",
      "Fetched 21.3 MB in 3s (6882 kB/s)\n",
      "Reading package lists...\n",
      "Reading package lists...\n",
      "Building dependency tree...\n",
      "Reading state information...\n",
      "The following additional packages will be installed:\n",
      "  binutils binutils-common binutils-x86-64-linux-gnu ca-certificates-java cpp\n",
      "  cpp-7 dh-python fontconfig-config fonts-dejavu-core g++-7 gcc gcc-7\n",
      "  gcc-7-base java-common libasan4 libasn1-8-heimdal libasound2 libasound2-data\n",
      "  libatomic1 libavahi-client3 libavahi-common-data libavahi-common3\n",
      "  libbinutils libbsd0 libc-dev-bin libc6 libc6-dev libcc1-0 libcilkrts5\n",
      "  libcups2 libcurl4 libdbus-1-3 libdpkg-perl libdrm-amdgpu1 libdrm-common\n",
      "  libdrm-intel1 libdrm-nouveau2 libdrm-radeon1 libdrm2 libedit2 libelf1\n",
      "  libexpat1 libexpat1-dev libfakeroot libfontconfig1 libfreetype6 libgcc-7-dev\n",
      "  libgdbm-compat4 libgdbm5 libgif7 libgl1 libgl1-mesa-dri libglapi-mesa\n",
      "  libglvnd0 libglx-mesa0 libglx0 libgomp1 libgpm2 libgssapi-krb5-2\n",
      "  libgssapi3-heimdal libhcrypto4-heimdal libheimbase1-heimdal\n",
      "  libheimntlm0-heimdal libhx509-5-heimdal libisl19 libitm1 libjpeg-turbo8\n",
      "  libjpeg8 libk5crypto3 libkeyutils1 libkrb5-26-heimdal libkrb5-3\n",
      "  libkrb5support0 liblcms2-2 libldap-2.4-2 libldap-common libllvm10 liblsan0\n",
      "  libmpc3 libmpdec2 libmpfr6 libmpx2 libnghttp2-14 libnspr4 libnss3\n",
      "  libpciaccess0 libpcsclite1 libperl5.26 libpng16-16 libpsl5 libpython3-dev\n",
      "  libpython3-stdlib libpython3.6 libpython3.6-dev libpython3.6-minimal\n",
      "  libpython3.6-stdlib libquadmath0 libreadline7 libroken18-heimdal librtmp1\n",
      "  libsasl2-2 libsasl2-modules-db libsensors4 libsqlite3-0 libssl1.1\n",
      "  libstdc++-7-dev libtsan0 libubsan0 libwind0-heimdal libx11-6 libx11-data\n",
      "  libx11-xcb1 libxau6 libxcb-dri2-0 libxcb-dri3-0 libxcb-glx0 libxcb-present0\n",
      "  libxcb-sync1 libxcb1 libxdamage1 libxdmcp6 libxext6 libxfixes3 libxi6\n",
      "  libxrender1 libxshmfence1 libxtst6 libxxf86vm1 linux-libc-dev make\n",
      "  mime-support multiarch-support openjdk-11-jdk-headless openjdk-11-jre\n",
      "  openjdk-11-jre-headless openssl patch perl perl-base perl-modules-5.26\n",
      "  python3 python3-distutils python3-lib2to3 python3-minimal python3.6\n",
      "  python3.6-dev python3.6-minimal readline-common ucf vim-common vim-runtime\n",
      "  x11-common xxd xz-utils\n",
      "Suggested packages:\n",
      "  binutils-doc cpp-doc gcc-7-locales debian-keyring g++-multilib\n",
      "  g++-7-multilib gcc-7-doc libstdc++6-7-dbg gcc-multilib manpages-dev autoconf\n",
      "  automake libtool flex bison gdb gcc-doc gcc-7-multilib libgcc1-dbg\n",
      "  libgomp1-dbg libitm1-dbg libatomic1-dbg libasan4-dbg liblsan0-dbg\n",
      "  libtsan0-dbg libubsan0-dbg libcilkrts5-dbg libmpx2-dbg libquadmath0-dbg\n",
      "  default-jre libasound2-plugins alsa-utils glibc-doc locales cups-common\n",
      "  gnupg | gnupg2 git bzr gdbm-l10n gpm krb5-doc krb5-user liblcms2-utils\n",
      "  pciutils pcscd lm-sensors libstdc++-7-doc make-doc openjdk-11-demo\n",
      "  openjdk-11-source visualvm libnss-mdns fonts-dejavu-extra\n",
      "  fonts-ipafont-gothic fonts-ipafont-mincho fonts-wqy-microhei\n",
      "  | fonts-wqy-zenhei fonts-indic ed diffutils-doc perl-doc\n",
      "  libterm-readline-gnu-perl | libterm-readline-perl-perl python3-doc\n",
      "  python3-tk python3-venv python3.6-venv python3.6-doc binfmt-support\n",
      "  readline-doc ctags vim-doc vim-scripts\n",
      "Recommended packages:\n",
      "  build-essential gnupg | gnupg2 libalgorithm-merge-perl manpages manpages-dev\n",
      "  dbus libfile-fcntllock-perl liblocale-gettext-perl krb5-locales publicsuffix\n",
      "  libsasl2-modules file libxt-dev libatk-wrapper-java-jni fonts-dejavu-extra\n",
      "  netbase\n",
      "The following NEW packages will be installed:\n",
      "  binutils binutils-common binutils-x86-64-linux-gnu ca-certificates\n",
      "  ca-certificates-java cpp cpp-7 curl dh-python dpkg-dev fakeroot\n",
      "  fontconfig-config fonts-dejavu-core g++ g++-7 gcc gcc-7 gcc-7-base\n",
      "  java-common libasan4 libasn1-8-heimdal libasound2 libasound2-data libatomic1\n",
      "  libavahi-client3 libavahi-common-data libavahi-common3 libbinutils libbsd0\n",
      "  libc-dev-bin libc6-dev libcc1-0 libcilkrts5 libcups2 libcurl4 libdbus-1-3\n",
      "  libdpkg-perl libdrm-amdgpu1 libdrm-common libdrm-intel1 libdrm-nouveau2\n",
      "  libdrm-radeon1 libdrm2 libedit2 libelf1 libexpat1 libexpat1-dev libfakeroot\n",
      "  libfontconfig1 libfreetype6 libgcc-7-dev libgdbm-compat4 libgdbm5 libgif7\n",
      "  libgl1 libgl1-mesa-dri libglapi-mesa libglvnd0 libglx-mesa0 libglx0 libgomp1\n",
      "  libgpm2 libgssapi-krb5-2 libgssapi3-heimdal libhcrypto4-heimdal\n",
      "  libheimbase1-heimdal libheimntlm0-heimdal libhx509-5-heimdal libisl19\n",
      "  libitm1 libjpeg-turbo8 libjpeg8 libk5crypto3 libkeyutils1 libkrb5-26-heimdal\n",
      "  libkrb5-3 libkrb5support0 liblcms2-2 libldap-2.4-2 libldap-common libllvm10\n",
      "  liblsan0 libmpc3 libmpdec2 libmpfr6 libmpx2 libnghttp2-14 libnspr4 libnss3\n",
      "  libpciaccess0 libpcsclite1 libperl5.26 libpng16-16 libpsl5 libpython3-dev\n",
      "  libpython3-stdlib libpython3.6 libpython3.6-dev libpython3.6-minimal\n",
      "  libpython3.6-stdlib libquadmath0 libreadline7 libroken18-heimdal librtmp1\n",
      "  libsasl2-2 libsasl2-modules-db libsensors4 libsqlite3-0 libssl1.1\n",
      "  libstdc++-7-dev libtsan0 libubsan0 libwind0-heimdal libx11-6 libx11-data\n",
      "  libx11-xcb1 libxau6 libxcb-dri2-0 libxcb-dri3-0 libxcb-glx0 libxcb-present0\n",
      "  libxcb-sync1 libxcb1 libxdamage1 libxdmcp6 libxext6 libxfixes3 libxi6\n",
      "  libxrender1 libxshmfence1 libxtst6 libxxf86vm1 linux-libc-dev make\n",
      "  mime-support multiarch-support openjdk-11-jdk openjdk-11-jdk-headless\n",
      "  openjdk-11-jre openjdk-11-jre-headless openssl patch perl perl-modules-5.26\n",
      "  python3 python3-dev python3-distutils python3-lib2to3 python3-minimal\n",
      "  python3.6 python3.6-dev python3.6-minimal readline-common ucf vim vim-common\n",
      "  vim-runtime x11-common xxd xz-utils\n",
      "The following packages will be upgraded:\n",
      "  libc6 perl-base\n",
      "2 upgraded, 160 newly installed, 0 to remove and 1 not upgraded.\n",
      "Need to get 379 MB of archives.\n",
      "After this operation, 1083 MB of additional disk space will be used.\n",
      "Get:1 http://archive.ubuntu.com/ubuntu bionic-updates/main amd64 perl-base amd64 5.26.1-6ubuntu0.5 [1391 kB]\n",
      "Get:2 http://archive.ubuntu.com/ubuntu bionic-updates/main amd64 libc6 amd64 2.27-3ubuntu1.3 [2831 kB]\n",
      "Get:3 http://archive.ubuntu.com/ubuntu bionic-updates/main amd64 libssl1.1 amd64 1.1.1-1ubuntu2.1~18.04.6 [1301 kB]\n",
      "Get:4 http://archive.ubuntu.com/ubuntu bionic-updates/main amd64 libpython3.6-minimal amd64 3.6.9-1~18.04ubuntu1.3 [533 kB]\n",
      "Get:5 http://archive.ubuntu.com/ubuntu bionic-updates/main amd64 libexpat1 amd64 2.2.5-3ubuntu0.2 [80.5 kB]\n",
      "Get:6 http://archive.ubuntu.com/ubuntu bionic-updates/main amd64 python3.6-minimal amd64 3.6.9-1~18.04ubuntu1.3 [1609 kB]\n",
      "Get:7 http://archive.ubuntu.com/ubuntu bionic-updates/main amd64 python3-minimal amd64 3.6.7-1~18.04 [23.7 kB]\n",
      "Get:8 http://archive.ubuntu.com/ubuntu bionic/main amd64 mime-support all 3.60ubuntu1 [30.1 kB]\n",
      "Get:9 http://archive.ubuntu.com/ubuntu bionic/main amd64 libmpdec2 amd64 2.4.2-1ubuntu1 [84.1 kB]\n",
      "Get:10 http://archive.ubuntu.com/ubuntu bionic/main amd64 readline-common all 7.0-3 [52.9 kB]\n",
      "Get:11 http://archive.ubuntu.com/ubuntu bionic/main amd64 libreadline7 amd64 7.0-3 [124 kB]\n",
      "Get:12 http://archive.ubuntu.com/ubuntu bionic-updates/main amd64 libsqlite3-0 amd64 3.22.0-1ubuntu0.4 [499 kB]\n",
      "Get:13 http://archive.ubuntu.com/ubuntu bionic-updates/main amd64 libpython3.6-stdlib amd64 3.6.9-1~18.04ubuntu1.3 [1713 kB]\n",
      "Get:14 http://archive.ubuntu.com/ubuntu bionic-updates/main amd64 python3.6 amd64 3.6.9-1~18.04ubuntu1.3 [203 kB]\n",
      "Get:15 http://archive.ubuntu.com/ubuntu bionic-updates/main amd64 libpython3-stdlib amd64 3.6.7-1~18.04 [7240 B]\n",
      "Get:16 http://archive.ubuntu.com/ubuntu bionic-updates/main amd64 python3 amd64 3.6.7-1~18.04 [47.2 kB]\n",
      "Get:17 http://archive.ubuntu.com/ubuntu bionic-updates/main amd64 multiarch-support amd64 2.27-3ubuntu1.3 [6948 B]\n",
      "Get:18 http://archive.ubuntu.com/ubuntu bionic-updates/main amd64 libxau6 amd64 1:1.0.8-1ubuntu1 [7556 B]\n",
      "Get:19 http://archive.ubuntu.com/ubuntu bionic-updates/main amd64 libbsd0 amd64 0.8.7-1ubuntu0.1 [41.6 kB]\n",
      "Get:20 http://archive.ubuntu.com/ubuntu bionic/main amd64 libxdmcp6 amd64 1:1.1.2-3 [10.7 kB]\n",
      "Get:21 http://archive.ubuntu.com/ubuntu bionic-updates/main amd64 libxcb1 amd64 1.13-2~ubuntu18.04 [45.5 kB]\n",
      "Get:22 http://archive.ubuntu.com/ubuntu bionic-updates/main amd64 libx11-data all 2:1.6.4-3ubuntu0.3 [114 kB]\n",
      "Get:23 http://archive.ubuntu.com/ubuntu bionic-updates/main amd64 libx11-6 amd64 2:1.6.4-3ubuntu0.3 [571 kB]\n",
      "Get:24 http://archive.ubuntu.com/ubuntu bionic/main amd64 libxext6 amd64 2:1.3.3-1 [29.4 kB]\n",
      "Get:25 http://archive.ubuntu.com/ubuntu bionic-updates/main amd64 libjpeg-turbo8 amd64 1.5.2-0ubuntu5.18.04.4 [110 kB]\n",
      "Get:26 http://archive.ubuntu.com/ubuntu bionic/main amd64 libxxf86vm1 amd64 1:1.1.4-1 [10.6 kB]\n",
      "Get:27 http://archive.ubuntu.com/ubuntu bionic-updates/main amd64 perl-modules-5.26 all 5.26.1-6ubuntu0.5 [2762 kB]\n",
      "Get:28 http://archive.ubuntu.com/ubuntu bionic/main amd64 libgdbm5 amd64 1.14.1-6 [26.0 kB]\n",
      "Get:29 http://archive.ubuntu.com/ubuntu bionic/main amd64 libgdbm-compat4 amd64 1.14.1-6 [6084 B]\n",
      "Get:30 http://archive.ubuntu.com/ubuntu bionic-updates/main amd64 libperl5.26 amd64 5.26.1-6ubuntu0.5 [3534 kB]\n",
      "Get:31 http://archive.ubuntu.com/ubuntu bionic-updates/main amd64 perl amd64 5.26.1-6ubuntu0.5 [201 kB]\n",
      "Get:32 http://archive.ubuntu.com/ubuntu bionic-updates/main amd64 openssl amd64 1.1.1-1ubuntu2.1~18.04.6 [614 kB]\n",
      "Get:33 http://archive.ubuntu.com/ubuntu bionic-updates/main amd64 ca-certificates all 20201027ubuntu0.18.04.1 [153 kB]\n",
      "Get:34 http://archive.ubuntu.com/ubuntu bionic-updates/main amd64 libdbus-1-3 amd64 1.12.2-1ubuntu1.2 [175 kB]\n",
      "Get:35 http://archive.ubuntu.com/ubuntu bionic-updates/main amd64 libelf1 amd64 0.170-0.4ubuntu0.1 [44.8 kB]\n",
      "Get:36 http://archive.ubuntu.com/ubuntu bionic/main amd64 ucf all 3.0038 [50.5 kB]\n",
      "Get:37 http://archive.ubuntu.com/ubuntu bionic-updates/main amd64 xxd amd64 2:8.0.1453-1ubuntu1.4 [49.3 kB]\n",
      "Get:38 http://archive.ubuntu.com/ubuntu bionic-updates/main amd64 vim-common all 2:8.0.1453-1ubuntu1.4 [70.4 kB]\n",
      "Get:39 http://archive.ubuntu.com/ubuntu bionic/main amd64 xz-utils amd64 5.2.2-1.3 [83.8 kB]\n",
      "Get:40 http://archive.ubuntu.com/ubuntu bionic-updates/main amd64 libdrm-common all 2.4.101-2~18.04.1 [5560 B]\n",
      "Get:41 http://archive.ubuntu.com/ubuntu bionic-updates/main amd64 libdrm2 amd64 2.4.101-2~18.04.1 [32.3 kB]\n",
      "Get:42 http://archive.ubuntu.com/ubuntu bionic/main amd64 libedit2 amd64 3.1-20170329-1 [76.9 kB]\n",
      "Get:43 http://archive.ubuntu.com/ubuntu bionic-updates/main amd64 libkrb5support0 amd64 1.16-2ubuntu0.1 [30.9 kB]\n",
      "Get:44 http://archive.ubuntu.com/ubuntu bionic-updates/main amd64 libk5crypto3 amd64 1.16-2ubuntu0.1 [85.6 kB]\n",
      "Get:45 http://archive.ubuntu.com/ubuntu bionic/main amd64 libkeyutils1 amd64 1.5.9-9.2ubuntu2 [8720 B]\n",
      "Get:46 http://archive.ubuntu.com/ubuntu bionic-updates/main amd64 libkrb5-3 amd64 1.16-2ubuntu0.1 [279 kB]\n",
      "Get:47 http://archive.ubuntu.com/ubuntu bionic-updates/main amd64 libgssapi-krb5-2 amd64 1.16-2ubuntu0.1 [122 kB]\n",
      "Get:48 http://archive.ubuntu.com/ubuntu bionic-updates/main amd64 libpng16-16 amd64 1.6.34-1ubuntu0.18.04.2 [176 kB]\n",
      "Get:49 http://archive.ubuntu.com/ubuntu bionic/main amd64 libpsl5 amd64 0.19.1-5build1 [41.8 kB]\n",
      "Get:50 http://archive.ubuntu.com/ubuntu bionic-updates/main amd64 binutils-common amd64 2.30-21ubuntu1~18.04.4 [196 kB]\n",
      "Get:51 http://archive.ubuntu.com/ubuntu bionic-updates/main amd64 libbinutils amd64 2.30-21ubuntu1~18.04.4 [488 kB]\n",
      "Get:52 http://archive.ubuntu.com/ubuntu bionic-updates/main amd64 binutils-x86-64-linux-gnu amd64 2.30-21ubuntu1~18.04.4 [1839 kB]\n",
      "Get:53 http://archive.ubuntu.com/ubuntu bionic-updates/main amd64 binutils amd64 2.30-21ubuntu1~18.04.4 [3392 B]\n",
      "Get:54 http://archive.ubuntu.com/ubuntu bionic-updates/main amd64 java-common all 0.68ubuntu1~18.04.1 [14.5 kB]\n",
      "Get:55 http://archive.ubuntu.com/ubuntu bionic-updates/main amd64 libavahi-common-data amd64 0.7-3.1ubuntu1.2 [22.1 kB]\n",
      "Get:56 http://archive.ubuntu.com/ubuntu bionic-updates/main amd64 libavahi-common3 amd64 0.7-3.1ubuntu1.2 [21.6 kB]\n",
      "Get:57 http://archive.ubuntu.com/ubuntu bionic-updates/main amd64 libavahi-client3 amd64 0.7-3.1ubuntu1.2 [25.2 kB]\n",
      "Get:58 http://archive.ubuntu.com/ubuntu bionic-updates/main amd64 libcups2 amd64 2.2.7-1ubuntu2.8 [211 kB]\n",
      "Get:59 http://archive.ubuntu.com/ubuntu bionic-updates/main amd64 liblcms2-2 amd64 2.9-1ubuntu0.1 [139 kB]\n",
      "Get:60 http://archive.ubuntu.com/ubuntu bionic/main amd64 libjpeg8 amd64 8c-2ubuntu8 [2194 B]\n",
      "Get:61 http://archive.ubuntu.com/ubuntu bionic-updates/main amd64 libfreetype6 amd64 2.8.1-2ubuntu2.1 [335 kB]\n",
      "Get:62 http://archive.ubuntu.com/ubuntu bionic/main amd64 fonts-dejavu-core all 2.37-1 [1041 kB]\n",
      "Get:63 http://archive.ubuntu.com/ubuntu bionic/main amd64 fontconfig-config all 2.12.6-0ubuntu2 [55.8 kB]\n",
      "Get:64 http://archive.ubuntu.com/ubuntu bionic/main amd64 libfontconfig1 amd64 2.12.6-0ubuntu2 [137 kB]\n",
      "Get:65 http://archive.ubuntu.com/ubuntu bionic/main amd64 libnspr4 amd64 2:4.18-1ubuntu1 [112 kB]\n",
      "Get:66 http://archive.ubuntu.com/ubuntu bionic-updates/main amd64 libnss3 amd64 2:3.35-2ubuntu2.12 [1220 kB]\n",
      "Get:67 http://archive.ubuntu.com/ubuntu bionic-updates/main amd64 libasound2-data all 1.1.3-5ubuntu0.5 [38.7 kB]\n",
      "Get:68 http://archive.ubuntu.com/ubuntu bionic-updates/main amd64 libasound2 amd64 1.1.3-5ubuntu0.5 [360 kB]\n",
      "Get:69 http://archive.ubuntu.com/ubuntu bionic/main amd64 libpcsclite1 amd64 1.8.23-1 [21.3 kB]\n",
      "Get:70 http://archive.ubuntu.com/ubuntu bionic/main amd64 libxi6 amd64 2:1.7.9-1 [29.2 kB]\n",
      "Get:71 http://archive.ubuntu.com/ubuntu bionic/main amd64 libxrender1 amd64 1:0.9.10-1 [18.7 kB]\n",
      "Get:72 http://archive.ubuntu.com/ubuntu bionic-updates/main amd64 x11-common all 1:7.7+19ubuntu7.1 [22.5 kB]\n",
      "Get:73 http://archive.ubuntu.com/ubuntu bionic/main amd64 libxtst6 amd64 2:1.2.3-1 [12.8 kB]\n",
      "Get:74 http://archive.ubuntu.com/ubuntu bionic-updates/main amd64 openjdk-11-jre-headless amd64 11.0.9+11-0ubuntu1~18.04.1 [37.7 MB]\n",
      "Get:75 http://archive.ubuntu.com/ubuntu bionic-updates/main amd64 ca-certificates-java all 20180516ubuntu1~18.04.1 [12.2 kB]\n",
      "Get:76 http://archive.ubuntu.com/ubuntu bionic-updates/main amd64 gcc-7-base amd64 7.5.0-3ubuntu1~18.04 [18.3 kB]\n",
      "Get:77 http://archive.ubuntu.com/ubuntu bionic/main amd64 libisl19 amd64 0.19-1 [551 kB]\n",
      "Get:78 http://archive.ubuntu.com/ubuntu bionic/main amd64 libmpfr6 amd64 4.0.1-1 [243 kB]\n",
      "Get:79 http://archive.ubuntu.com/ubuntu bionic/main amd64 libmpc3 amd64 1.1.0-1 [40.8 kB]\n",
      "Get:80 http://archive.ubuntu.com/ubuntu bionic-updates/main amd64 cpp-7 amd64 7.5.0-3ubuntu1~18.04 [8591 kB]\n",
      "Get:81 http://archive.ubuntu.com/ubuntu bionic-updates/main amd64 cpp amd64 4:7.4.0-1ubuntu2.3 [27.7 kB]\n",
      "Get:82 http://archive.ubuntu.com/ubuntu bionic/main amd64 libroken18-heimdal amd64 7.5.0+dfsg-1 [41.3 kB]\n",
      "Get:83 http://archive.ubuntu.com/ubuntu bionic/main amd64 libasn1-8-heimdal amd64 7.5.0+dfsg-1 [175 kB]\n",
      "Get:84 http://archive.ubuntu.com/ubuntu bionic/main amd64 libheimbase1-heimdal amd64 7.5.0+dfsg-1 [29.3 kB]\n",
      "Get:85 http://archive.ubuntu.com/ubuntu bionic/main amd64 libhcrypto4-heimdal amd64 7.5.0+dfsg-1 [85.9 kB]\n",
      "Get:86 http://archive.ubuntu.com/ubuntu bionic/main amd64 libwind0-heimdal amd64 7.5.0+dfsg-1 [47.8 kB]\n",
      "Get:87 http://archive.ubuntu.com/ubuntu bionic/main amd64 libhx509-5-heimdal amd64 7.5.0+dfsg-1 [107 kB]\n",
      "Get:88 http://archive.ubuntu.com/ubuntu bionic/main amd64 libkrb5-26-heimdal amd64 7.5.0+dfsg-1 [206 kB]\n",
      "Get:89 http://archive.ubuntu.com/ubuntu bionic/main amd64 libheimntlm0-heimdal amd64 7.5.0+dfsg-1 [14.8 kB]\n",
      "Get:90 http://archive.ubuntu.com/ubuntu bionic/main amd64 libgssapi3-heimdal amd64 7.5.0+dfsg-1 [96.5 kB]\n",
      "Get:91 http://archive.ubuntu.com/ubuntu bionic-updates/main amd64 libsasl2-modules-db amd64 2.1.27~101-g0780600+dfsg-3ubuntu2.1 [14.8 kB]\n",
      "Get:92 http://archive.ubuntu.com/ubuntu bionic-updates/main amd64 libsasl2-2 amd64 2.1.27~101-g0780600+dfsg-3ubuntu2.1 [49.2 kB]\n",
      "Get:93 http://archive.ubuntu.com/ubuntu bionic-updates/main amd64 libldap-common all 2.4.45+dfsg-1ubuntu1.6 [17.0 kB]\n",
      "Get:94 http://archive.ubuntu.com/ubuntu bionic-updates/main amd64 libldap-2.4-2 amd64 2.4.45+dfsg-1ubuntu1.6 [155 kB]\n",
      "Get:95 http://archive.ubuntu.com/ubuntu bionic/main amd64 libnghttp2-14 amd64 1.30.0-1ubuntu1 [77.8 kB]\n",
      "Get:96 http://archive.ubuntu.com/ubuntu bionic/main amd64 librtmp1 amd64 2.4+20151223.gitfa8646d.1-1 [54.2 kB]\n",
      "Get:97 http://archive.ubuntu.com/ubuntu bionic-updates/main amd64 libcurl4 amd64 7.58.0-2ubuntu3.10 [214 kB]\n",
      "Get:98 http://archive.ubuntu.com/ubuntu bionic-updates/main amd64 curl amd64 7.58.0-2ubuntu3.10 [159 kB]\n",
      "Get:99 http://archive.ubuntu.com/ubuntu bionic-updates/main amd64 python3-lib2to3 all 3.6.9-1~18.04 [77.4 kB]\n",
      "Get:100 http://archive.ubuntu.com/ubuntu bionic-updates/main amd64 python3-distutils all 3.6.9-1~18.04 [144 kB]\n",
      "Get:101 http://archive.ubuntu.com/ubuntu bionic/main amd64 dh-python all 3.20180325ubuntu2 [89.2 kB]\n",
      "Get:102 http://archive.ubuntu.com/ubuntu bionic-updates/main amd64 libdpkg-perl all 1.19.0.5ubuntu2.3 [211 kB]\n",
      "Get:103 http://archive.ubuntu.com/ubuntu bionic-updates/main amd64 patch amd64 2.7.6-2ubuntu1.1 [102 kB]\n",
      "Get:104 http://archive.ubuntu.com/ubuntu bionic/main amd64 make amd64 4.1-9.1ubuntu1 [154 kB]\n",
      "Get:105 http://archive.ubuntu.com/ubuntu bionic-updates/main amd64 dpkg-dev all 1.19.0.5ubuntu2.3 [607 kB]\n",
      "Get:106 http://archive.ubuntu.com/ubuntu bionic/main amd64 libfakeroot amd64 1.22-2ubuntu1 [25.9 kB]\n",
      "Get:107 http://archive.ubuntu.com/ubuntu bionic/main amd64 fakeroot amd64 1.22-2ubuntu1 [62.3 kB]\n",
      "Get:108 http://archive.ubuntu.com/ubuntu bionic-updates/main amd64 libcc1-0 amd64 8.4.0-1ubuntu1~18.04 [39.4 kB]\n",
      "Get:109 http://archive.ubuntu.com/ubuntu bionic-updates/main amd64 libgomp1 amd64 8.4.0-1ubuntu1~18.04 [76.5 kB]\n",
      "Get:110 http://archive.ubuntu.com/ubuntu bionic-updates/main amd64 libitm1 amd64 8.4.0-1ubuntu1~18.04 [27.9 kB]\n",
      "Get:111 http://archive.ubuntu.com/ubuntu bionic-updates/main amd64 libatomic1 amd64 8.4.0-1ubuntu1~18.04 [9192 B]\n",
      "Get:112 http://archive.ubuntu.com/ubuntu bionic-updates/main amd64 libasan4 amd64 7.5.0-3ubuntu1~18.04 [358 kB]\n",
      "Get:113 http://archive.ubuntu.com/ubuntu bionic-updates/main amd64 liblsan0 amd64 8.4.0-1ubuntu1~18.04 [133 kB]\n",
      "Get:114 http://archive.ubuntu.com/ubuntu bionic-updates/main amd64 libtsan0 amd64 8.4.0-1ubuntu1~18.04 [288 kB]\n",
      "Get:115 http://archive.ubuntu.com/ubuntu bionic-updates/main amd64 libubsan0 amd64 7.5.0-3ubuntu1~18.04 [126 kB]\n",
      "Get:116 http://archive.ubuntu.com/ubuntu bionic-updates/main amd64 libcilkrts5 amd64 7.5.0-3ubuntu1~18.04 [42.5 kB]\n",
      "Get:117 http://archive.ubuntu.com/ubuntu bionic-updates/main amd64 libmpx2 amd64 8.4.0-1ubuntu1~18.04 [11.6 kB]\n",
      "Get:118 http://archive.ubuntu.com/ubuntu bionic-updates/main amd64 libquadmath0 amd64 8.4.0-1ubuntu1~18.04 [134 kB]\n",
      "Get:119 http://archive.ubuntu.com/ubuntu bionic-updates/main amd64 libgcc-7-dev amd64 7.5.0-3ubuntu1~18.04 [2378 kB]\n",
      "Get:120 http://archive.ubuntu.com/ubuntu bionic-updates/main amd64 gcc-7 amd64 7.5.0-3ubuntu1~18.04 [9381 kB]\n",
      "Get:121 http://archive.ubuntu.com/ubuntu bionic-updates/main amd64 gcc amd64 4:7.4.0-1ubuntu2.3 [5184 B]\n",
      "Get:122 http://archive.ubuntu.com/ubuntu bionic-updates/main amd64 libc-dev-bin amd64 2.27-3ubuntu1.3 [71.8 kB]\n",
      "Get:123 http://archive.ubuntu.com/ubuntu bionic-updates/main amd64 linux-libc-dev amd64 4.15.0-122.124 [998 kB]\n",
      "Get:124 http://archive.ubuntu.com/ubuntu bionic-updates/main amd64 libc6-dev amd64 2.27-3ubuntu1.3 [2586 kB]\n",
      "Get:125 http://archive.ubuntu.com/ubuntu bionic-updates/main amd64 libstdc++-7-dev amd64 7.5.0-3ubuntu1~18.04 [1471 kB]\n",
      "Get:126 http://archive.ubuntu.com/ubuntu bionic-updates/main amd64 g++-7 amd64 7.5.0-3ubuntu1~18.04 [9697 kB]\n",
      "Get:127 http://archive.ubuntu.com/ubuntu bionic-updates/main amd64 g++ amd64 4:7.4.0-1ubuntu2.3 [1568 B]\n",
      "Get:128 http://archive.ubuntu.com/ubuntu bionic-updates/main amd64 libdrm-amdgpu1 amd64 2.4.101-2~18.04.1 [18.2 kB]\n",
      "Get:129 http://archive.ubuntu.com/ubuntu bionic/main amd64 libpciaccess0 amd64 0.14-1 [17.9 kB]\n",
      "Get:130 http://archive.ubuntu.com/ubuntu bionic-updates/main amd64 libdrm-intel1 amd64 2.4.101-2~18.04.1 [60.0 kB]\n",
      "Get:131 http://archive.ubuntu.com/ubuntu bionic-updates/main amd64 libdrm-nouveau2 amd64 2.4.101-2~18.04.1 [16.5 kB]\n",
      "Get:132 http://archive.ubuntu.com/ubuntu bionic-updates/main amd64 libdrm-radeon1 amd64 2.4.101-2~18.04.1 [21.7 kB]\n",
      "Get:133 http://archive.ubuntu.com/ubuntu bionic-updates/main amd64 libexpat1-dev amd64 2.2.5-3ubuntu0.2 [122 kB]\n",
      "Get:134 http://archive.ubuntu.com/ubuntu bionic-updates/main amd64 libgif7 amd64 5.1.4-2ubuntu0.1 [30.9 kB]\n",
      "Get:135 http://archive.ubuntu.com/ubuntu bionic-updates/main amd64 libglapi-mesa amd64 20.0.8-0ubuntu1~18.04.1 [26.6 kB]\n",
      "Get:136 http://archive.ubuntu.com/ubuntu bionic-updates/main amd64 libllvm10 amd64 1:10.0.0-4ubuntu1~18.04.2 [15.4 MB]\n",
      "Get:137 http://archive.ubuntu.com/ubuntu bionic/main amd64 libsensors4 amd64 1:3.4.0-4 [28.8 kB]\n",
      "Get:138 http://archive.ubuntu.com/ubuntu bionic-updates/main amd64 libgl1-mesa-dri amd64 20.0.8-0ubuntu1~18.04.1 [9333 kB]\n",
      "Get:139 http://archive.ubuntu.com/ubuntu bionic-updates/main amd64 libx11-xcb1 amd64 2:1.6.4-3ubuntu0.3 [9628 B]\n",
      "Get:140 http://archive.ubuntu.com/ubuntu bionic-updates/main amd64 libxcb-dri2-0 amd64 1.13-2~ubuntu18.04 [6920 B]\n",
      "Get:141 http://archive.ubuntu.com/ubuntu bionic-updates/main amd64 libxcb-dri3-0 amd64 1.13-2~ubuntu18.04 [6568 B]\n",
      "Get:142 http://archive.ubuntu.com/ubuntu bionic-updates/main amd64 libxcb-glx0 amd64 1.13-2~ubuntu18.04 [22.1 kB]\n",
      "Get:143 http://archive.ubuntu.com/ubuntu bionic-updates/main amd64 libxcb-present0 amd64 1.13-2~ubuntu18.04 [5552 B]\n",
      "Get:144 http://archive.ubuntu.com/ubuntu bionic-updates/main amd64 libxcb-sync1 amd64 1.13-2~ubuntu18.04 [8808 B]\n",
      "Get:145 http://archive.ubuntu.com/ubuntu bionic/main amd64 libxdamage1 amd64 1:1.1.4-3 [6934 B]\n",
      "Get:146 http://archive.ubuntu.com/ubuntu bionic/main amd64 libxfixes3 amd64 1:5.0.3-1 [10.8 kB]\n",
      "Get:147 http://archive.ubuntu.com/ubuntu bionic/main amd64 libxshmfence1 amd64 1.3-1 [5028 B]\n",
      "Get:148 http://archive.ubuntu.com/ubuntu bionic-updates/main amd64 libglx-mesa0 amd64 20.0.8-0ubuntu1~18.04.1 [139 kB]\n",
      "Get:149 http://archive.ubuntu.com/ubuntu bionic/main amd64 libgpm2 amd64 1.20.7-5 [15.1 kB]\n",
      "Get:150 http://archive.ubuntu.com/ubuntu bionic-updates/main amd64 libpython3.6 amd64 3.6.9-1~18.04ubuntu1.3 [1414 kB]\n",
      "Get:151 http://archive.ubuntu.com/ubuntu bionic-updates/main amd64 libpython3.6-dev amd64 3.6.9-1~18.04ubuntu1.3 [44.9 MB]\n",
      "Get:152 http://archive.ubuntu.com/ubuntu bionic-updates/main amd64 libpython3-dev amd64 3.6.7-1~18.04 [7328 B]\n",
      "Get:153 http://archive.ubuntu.com/ubuntu bionic-updates/main amd64 libglvnd0 amd64 1.0.0-2ubuntu2.3 [47.0 kB]\n",
      "Get:154 http://archive.ubuntu.com/ubuntu bionic-updates/main amd64 libglx0 amd64 1.0.0-2ubuntu2.3 [28.1 kB]\n",
      "Get:155 http://archive.ubuntu.com/ubuntu bionic-updates/main amd64 libgl1 amd64 1.0.0-2ubuntu2.3 [86.2 kB]\n",
      "Get:156 http://archive.ubuntu.com/ubuntu bionic-updates/main amd64 openjdk-11-jre amd64 11.0.9+11-0ubuntu1~18.04.1 [34.4 kB]\n",
      "Get:157 http://archive.ubuntu.com/ubuntu bionic-updates/main amd64 openjdk-11-jdk-headless amd64 11.0.9+11-0ubuntu1~18.04.1 [194 MB]\n",
      "Get:158 http://archive.ubuntu.com/ubuntu bionic-updates/main amd64 openjdk-11-jdk amd64 11.0.9+11-0ubuntu1~18.04.1 [2268 kB]\n",
      "Get:159 http://archive.ubuntu.com/ubuntu bionic-updates/main amd64 python3.6-dev amd64 3.6.9-1~18.04ubuntu1.3 [508 kB]\n",
      "Get:160 http://archive.ubuntu.com/ubuntu bionic-updates/main amd64 python3-dev amd64 3.6.7-1~18.04 [1288 B]\n",
      "Get:161 http://archive.ubuntu.com/ubuntu bionic-updates/main amd64 vim-runtime all 2:8.0.1453-1ubuntu1.4 [5435 kB]\n",
      "Get:162 http://archive.ubuntu.com/ubuntu bionic-updates/main amd64 vim amd64 2:8.0.1453-1ubuntu1.4 [1152 kB]\n",
      "\u001b[91mdebconf: delaying package configuration, since apt-utils is not installed\n",
      "\u001b[0mFetched 379 MB in 25s (15.3 MB/s)\n",
      "(Reading database ... 4045 files and directories currently installed.)\n",
      "Preparing to unpack .../perl-base_5.26.1-6ubuntu0.5_amd64.deb ...\n",
      "Unpacking perl-base (5.26.1-6ubuntu0.5) over (5.26.1-6ubuntu0.3) ...\n",
      "Setting up perl-base (5.26.1-6ubuntu0.5) ...\n",
      "(Reading database ... 4045 files and directories currently installed.)\n",
      "Preparing to unpack .../libc6_2.27-3ubuntu1.3_amd64.deb ...\n",
      "Unpacking libc6:amd64 (2.27-3ubuntu1.3) over (2.27-3ubuntu1.2) ...\n",
      "Setting up libc6:amd64 (2.27-3ubuntu1.3) ...\n",
      "Selecting previously unselected package libssl1.1:amd64.\n",
      "(Reading database ... 4045 files and directories currently installed.)\n",
      "Preparing to unpack .../libssl1.1_1.1.1-1ubuntu2.1~18.04.6_amd64.deb ...\n",
      "Unpacking libssl1.1:amd64 (1.1.1-1ubuntu2.1~18.04.6) ...\n",
      "Selecting previously unselected package libpython3.6-minimal:amd64.\n",
      "Preparing to unpack .../libpython3.6-minimal_3.6.9-1~18.04ubuntu1.3_amd64.deb ...\n",
      "Unpacking libpython3.6-minimal:amd64 (3.6.9-1~18.04ubuntu1.3) ...\n",
      "Selecting previously unselected package libexpat1:amd64.\n",
      "Preparing to unpack .../libexpat1_2.2.5-3ubuntu0.2_amd64.deb ...\n",
      "Unpacking libexpat1:amd64 (2.2.5-3ubuntu0.2) ...\n",
      "Selecting previously unselected package python3.6-minimal.\n",
      "Preparing to unpack .../python3.6-minimal_3.6.9-1~18.04ubuntu1.3_amd64.deb ...\n",
      "Unpacking python3.6-minimal (3.6.9-1~18.04ubuntu1.3) ...\n",
      "Setting up libssl1.1:amd64 (1.1.1-1ubuntu2.1~18.04.6) ...\n",
      "Setting up libpython3.6-minimal:amd64 (3.6.9-1~18.04ubuntu1.3) ...\n",
      "Setting up libexpat1:amd64 (2.2.5-3ubuntu0.2) ...\n",
      "Setting up python3.6-minimal (3.6.9-1~18.04ubuntu1.3) ...\n",
      "Selecting previously unselected package python3-minimal.\n",
      "(Reading database ... 4302 files and directories currently installed.)\n",
      "Preparing to unpack .../0-python3-minimal_3.6.7-1~18.04_amd64.deb ...\n",
      "Unpacking python3-minimal (3.6.7-1~18.04) ...\n",
      "Selecting previously unselected package mime-support.\n",
      "Preparing to unpack .../1-mime-support_3.60ubuntu1_all.deb ...\n",
      "Unpacking mime-support (3.60ubuntu1) ...\n",
      "Selecting previously unselected package libmpdec2:amd64.\n",
      "Preparing to unpack .../2-libmpdec2_2.4.2-1ubuntu1_amd64.deb ...\n",
      "Unpacking libmpdec2:amd64 (2.4.2-1ubuntu1) ...\n",
      "Selecting previously unselected package readline-common.\n",
      "Preparing to unpack .../3-readline-common_7.0-3_all.deb ...\n",
      "Unpacking readline-common (7.0-3) ...\n",
      "Selecting previously unselected package libreadline7:amd64.\n",
      "Preparing to unpack .../4-libreadline7_7.0-3_amd64.deb ...\n",
      "Unpacking libreadline7:amd64 (7.0-3) ...\n",
      "Selecting previously unselected package libsqlite3-0:amd64.\n",
      "Preparing to unpack .../5-libsqlite3-0_3.22.0-1ubuntu0.4_amd64.deb ...\n",
      "Unpacking libsqlite3-0:amd64 (3.22.0-1ubuntu0.4) ...\n",
      "Selecting previously unselected package libpython3.6-stdlib:amd64.\n",
      "Preparing to unpack .../6-libpython3.6-stdlib_3.6.9-1~18.04ubuntu1.3_amd64.deb ...\n",
      "Unpacking libpython3.6-stdlib:amd64 (3.6.9-1~18.04ubuntu1.3) ...\n",
      "Selecting previously unselected package python3.6.\n",
      "Preparing to unpack .../7-python3.6_3.6.9-1~18.04ubuntu1.3_amd64.deb ...\n",
      "Unpacking python3.6 (3.6.9-1~18.04ubuntu1.3) ...\n",
      "Selecting previously unselected package libpython3-stdlib:amd64.\n",
      "Preparing to unpack .../8-libpython3-stdlib_3.6.7-1~18.04_amd64.deb ...\n",
      "Unpacking libpython3-stdlib:amd64 (3.6.7-1~18.04) ...\n",
      "Setting up python3-minimal (3.6.7-1~18.04) ...\n",
      "Selecting previously unselected package python3.\n",
      "(Reading database ... 4760 files and directories currently installed.)\n",
      "Preparing to unpack .../0-python3_3.6.7-1~18.04_amd64.deb ...\n",
      "Unpacking python3 (3.6.7-1~18.04) ...\n",
      "Selecting previously unselected package multiarch-support.\n",
      "Preparing to unpack .../1-multiarch-support_2.27-3ubuntu1.3_amd64.deb ...\n",
      "Unpacking multiarch-support (2.27-3ubuntu1.3) ...\n",
      "Selecting previously unselected package libxau6:amd64.\n",
      "Preparing to unpack .../2-libxau6_1%3a1.0.8-1ubuntu1_amd64.deb ...\n",
      "Unpacking libxau6:amd64 (1:1.0.8-1ubuntu1) ...\n",
      "Selecting previously unselected package libbsd0:amd64.\n",
      "Preparing to unpack .../3-libbsd0_0.8.7-1ubuntu0.1_amd64.deb ...\n",
      "Unpacking libbsd0:amd64 (0.8.7-1ubuntu0.1) ...\n",
      "Selecting previously unselected package libxdmcp6:amd64.\n",
      "Preparing to unpack .../4-libxdmcp6_1%3a1.1.2-3_amd64.deb ...\n",
      "Unpacking libxdmcp6:amd64 (1:1.1.2-3) ...\n",
      "Selecting previously unselected package libxcb1:amd64.\n",
      "Preparing to unpack .../5-libxcb1_1.13-2~ubuntu18.04_amd64.deb ...\n",
      "Unpacking libxcb1:amd64 (1.13-2~ubuntu18.04) ...\n",
      "Selecting previously unselected package libx11-data.\n",
      "Preparing to unpack .../6-libx11-data_2%3a1.6.4-3ubuntu0.3_all.deb ...\n",
      "Unpacking libx11-data (2:1.6.4-3ubuntu0.3) ...\n",
      "Selecting previously unselected package libx11-6:amd64.\n",
      "Preparing to unpack .../7-libx11-6_2%3a1.6.4-3ubuntu0.3_amd64.deb ...\n",
      "Unpacking libx11-6:amd64 (2:1.6.4-3ubuntu0.3) ...\n",
      "Setting up multiarch-support (2.27-3ubuntu1.3) ...\n",
      "Selecting previously unselected package libxext6:amd64.\n",
      "(Reading database ... 5084 files and directories currently installed.)\n",
      "Preparing to unpack .../000-libxext6_2%3a1.3.3-1_amd64.deb ...\n",
      "Unpacking libxext6:amd64 (2:1.3.3-1) ...\n",
      "Selecting previously unselected package libjpeg-turbo8:amd64.\n",
      "Preparing to unpack .../001-libjpeg-turbo8_1.5.2-0ubuntu5.18.04.4_amd64.deb ...\n",
      "Unpacking libjpeg-turbo8:amd64 (1.5.2-0ubuntu5.18.04.4) ...\n",
      "Selecting previously unselected package libxxf86vm1:amd64.\n",
      "Preparing to unpack .../002-libxxf86vm1_1%3a1.1.4-1_amd64.deb ...\n",
      "Unpacking libxxf86vm1:amd64 (1:1.1.4-1) ...\n",
      "Selecting previously unselected package perl-modules-5.26.\n",
      "Preparing to unpack .../003-perl-modules-5.26_5.26.1-6ubuntu0.5_all.deb ...\n",
      "Unpacking perl-modules-5.26 (5.26.1-6ubuntu0.5) ...\n",
      "Selecting previously unselected package libgdbm5:amd64.\n",
      "Preparing to unpack .../004-libgdbm5_1.14.1-6_amd64.deb ...\n",
      "Unpacking libgdbm5:amd64 (1.14.1-6) ...\n",
      "Selecting previously unselected package libgdbm-compat4:amd64.\n",
      "Preparing to unpack .../005-libgdbm-compat4_1.14.1-6_amd64.deb ...\n",
      "Unpacking libgdbm-compat4:amd64 (1.14.1-6) ...\n",
      "Selecting previously unselected package libperl5.26:amd64.\n",
      "Preparing to unpack .../006-libperl5.26_5.26.1-6ubuntu0.5_amd64.deb ...\n",
      "Unpacking libperl5.26:amd64 (5.26.1-6ubuntu0.5) ...\n",
      "Selecting previously unselected package perl.\n",
      "Preparing to unpack .../007-perl_5.26.1-6ubuntu0.5_amd64.deb ...\n",
      "Unpacking perl (5.26.1-6ubuntu0.5) ...\n",
      "Selecting previously unselected package openssl.\n",
      "Preparing to unpack .../008-openssl_1.1.1-1ubuntu2.1~18.04.6_amd64.deb ...\n",
      "Unpacking openssl (1.1.1-1ubuntu2.1~18.04.6) ...\n",
      "Selecting previously unselected package ca-certificates.\n",
      "Preparing to unpack .../009-ca-certificates_20201027ubuntu0.18.04.1_all.deb ...\n",
      "Unpacking ca-certificates (20201027ubuntu0.18.04.1) ...\n",
      "Selecting previously unselected package libdbus-1-3:amd64.\n",
      "Preparing to unpack .../010-libdbus-1-3_1.12.2-1ubuntu1.2_amd64.deb ...\n",
      "Unpacking libdbus-1-3:amd64 (1.12.2-1ubuntu1.2) ...\n",
      "Selecting previously unselected package libelf1:amd64.\n",
      "Preparing to unpack .../011-libelf1_0.170-0.4ubuntu0.1_amd64.deb ...\n",
      "Unpacking libelf1:amd64 (0.170-0.4ubuntu0.1) ...\n",
      "Selecting previously unselected package ucf.\n",
      "Preparing to unpack .../012-ucf_3.0038_all.deb ...\n",
      "Moving old data out of the way\n",
      "Unpacking ucf (3.0038) ...\n",
      "Selecting previously unselected package xxd.\n",
      "Preparing to unpack .../013-xxd_2%3a8.0.1453-1ubuntu1.4_amd64.deb ...\n",
      "Unpacking xxd (2:8.0.1453-1ubuntu1.4) ...\n",
      "Selecting previously unselected package vim-common.\n",
      "Preparing to unpack .../014-vim-common_2%3a8.0.1453-1ubuntu1.4_all.deb ...\n",
      "Unpacking vim-common (2:8.0.1453-1ubuntu1.4) ...\n",
      "Selecting previously unselected package xz-utils.\n",
      "Preparing to unpack .../015-xz-utils_5.2.2-1.3_amd64.deb ...\n",
      "Unpacking xz-utils (5.2.2-1.3) ...\n",
      "Selecting previously unselected package libdrm-common.\n",
      "Preparing to unpack .../016-libdrm-common_2.4.101-2~18.04.1_all.deb ...\n",
      "Unpacking libdrm-common (2.4.101-2~18.04.1) ...\n",
      "Selecting previously unselected package libdrm2:amd64.\n",
      "Preparing to unpack .../017-libdrm2_2.4.101-2~18.04.1_amd64.deb ...\n",
      "Unpacking libdrm2:amd64 (2.4.101-2~18.04.1) ...\n",
      "Selecting previously unselected package libedit2:amd64.\n",
      "Preparing to unpack .../018-libedit2_3.1-20170329-1_amd64.deb ...\n",
      "Unpacking libedit2:amd64 (3.1-20170329-1) ...\n",
      "Selecting previously unselected package libkrb5support0:amd64.\n",
      "Preparing to unpack .../019-libkrb5support0_1.16-2ubuntu0.1_amd64.deb ...\n",
      "Unpacking libkrb5support0:amd64 (1.16-2ubuntu0.1) ...\n",
      "Selecting previously unselected package libk5crypto3:amd64.\n",
      "Preparing to unpack .../020-libk5crypto3_1.16-2ubuntu0.1_amd64.deb ...\n",
      "Unpacking libk5crypto3:amd64 (1.16-2ubuntu0.1) ...\n",
      "Selecting previously unselected package libkeyutils1:amd64.\n",
      "Preparing to unpack .../021-libkeyutils1_1.5.9-9.2ubuntu2_amd64.deb ...\n",
      "Unpacking libkeyutils1:amd64 (1.5.9-9.2ubuntu2) ...\n",
      "Selecting previously unselected package libkrb5-3:amd64.\n",
      "Preparing to unpack .../022-libkrb5-3_1.16-2ubuntu0.1_amd64.deb ...\n",
      "Unpacking libkrb5-3:amd64 (1.16-2ubuntu0.1) ...\n",
      "Selecting previously unselected package libgssapi-krb5-2:amd64.\n",
      "Preparing to unpack .../023-libgssapi-krb5-2_1.16-2ubuntu0.1_amd64.deb ...\n",
      "Unpacking libgssapi-krb5-2:amd64 (1.16-2ubuntu0.1) ...\n",
      "Selecting previously unselected package libpng16-16:amd64.\n",
      "Preparing to unpack .../024-libpng16-16_1.6.34-1ubuntu0.18.04.2_amd64.deb ...\n",
      "Unpacking libpng16-16:amd64 (1.6.34-1ubuntu0.18.04.2) ...\n",
      "Selecting previously unselected package libpsl5:amd64.\n",
      "Preparing to unpack .../025-libpsl5_0.19.1-5build1_amd64.deb ...\n",
      "Unpacking libpsl5:amd64 (0.19.1-5build1) ...\n",
      "Selecting previously unselected package binutils-common:amd64.\n",
      "Preparing to unpack .../026-binutils-common_2.30-21ubuntu1~18.04.4_amd64.deb ...\n",
      "Unpacking binutils-common:amd64 (2.30-21ubuntu1~18.04.4) ...\n",
      "Selecting previously unselected package libbinutils:amd64.\n",
      "Preparing to unpack .../027-libbinutils_2.30-21ubuntu1~18.04.4_amd64.deb ...\n",
      "Unpacking libbinutils:amd64 (2.30-21ubuntu1~18.04.4) ...\n",
      "Selecting previously unselected package binutils-x86-64-linux-gnu.\n",
      "Preparing to unpack .../028-binutils-x86-64-linux-gnu_2.30-21ubuntu1~18.04.4_amd64.deb ...\n",
      "Unpacking binutils-x86-64-linux-gnu (2.30-21ubuntu1~18.04.4) ...\n",
      "Selecting previously unselected package binutils.\n",
      "Preparing to unpack .../029-binutils_2.30-21ubuntu1~18.04.4_amd64.deb ...\n",
      "Unpacking binutils (2.30-21ubuntu1~18.04.4) ...\n",
      "Selecting previously unselected package java-common.\n",
      "Preparing to unpack .../030-java-common_0.68ubuntu1~18.04.1_all.deb ...\n",
      "Unpacking java-common (0.68ubuntu1~18.04.1) ...\n",
      "Selecting previously unselected package libavahi-common-data:amd64.\n",
      "Preparing to unpack .../031-libavahi-common-data_0.7-3.1ubuntu1.2_amd64.deb ...\n",
      "Unpacking libavahi-common-data:amd64 (0.7-3.1ubuntu1.2) ...\n",
      "Selecting previously unselected package libavahi-common3:amd64.\n",
      "Preparing to unpack .../032-libavahi-common3_0.7-3.1ubuntu1.2_amd64.deb ...\n",
      "Unpacking libavahi-common3:amd64 (0.7-3.1ubuntu1.2) ...\n",
      "Selecting previously unselected package libavahi-client3:amd64.\n",
      "Preparing to unpack .../033-libavahi-client3_0.7-3.1ubuntu1.2_amd64.deb ...\n",
      "Unpacking libavahi-client3:amd64 (0.7-3.1ubuntu1.2) ...\n",
      "Selecting previously unselected package libcups2:amd64.\n",
      "Preparing to unpack .../034-libcups2_2.2.7-1ubuntu2.8_amd64.deb ...\n",
      "Unpacking libcups2:amd64 (2.2.7-1ubuntu2.8) ...\n",
      "Selecting previously unselected package liblcms2-2:amd64.\n",
      "Preparing to unpack .../035-liblcms2-2_2.9-1ubuntu0.1_amd64.deb ...\n",
      "Unpacking liblcms2-2:amd64 (2.9-1ubuntu0.1) ...\n",
      "Selecting previously unselected package libjpeg8:amd64.\n",
      "Preparing to unpack .../036-libjpeg8_8c-2ubuntu8_amd64.deb ...\n",
      "Unpacking libjpeg8:amd64 (8c-2ubuntu8) ...\n",
      "Selecting previously unselected package libfreetype6:amd64.\n",
      "Preparing to unpack .../037-libfreetype6_2.8.1-2ubuntu2.1_amd64.deb ...\n",
      "Unpacking libfreetype6:amd64 (2.8.1-2ubuntu2.1) ...\n",
      "Selecting previously unselected package fonts-dejavu-core.\n",
      "Preparing to unpack .../038-fonts-dejavu-core_2.37-1_all.deb ...\n",
      "Unpacking fonts-dejavu-core (2.37-1) ...\n",
      "Selecting previously unselected package fontconfig-config.\n",
      "Preparing to unpack .../039-fontconfig-config_2.12.6-0ubuntu2_all.deb ...\n",
      "Unpacking fontconfig-config (2.12.6-0ubuntu2) ...\n",
      "Selecting previously unselected package libfontconfig1:amd64.\n",
      "Preparing to unpack .../040-libfontconfig1_2.12.6-0ubuntu2_amd64.deb ...\n",
      "Unpacking libfontconfig1:amd64 (2.12.6-0ubuntu2) ...\n",
      "Selecting previously unselected package libnspr4:amd64.\n",
      "Preparing to unpack .../041-libnspr4_2%3a4.18-1ubuntu1_amd64.deb ...\n",
      "Unpacking libnspr4:amd64 (2:4.18-1ubuntu1) ...\n",
      "Selecting previously unselected package libnss3:amd64.\n",
      "Preparing to unpack .../042-libnss3_2%3a3.35-2ubuntu2.12_amd64.deb ...\n",
      "Unpacking libnss3:amd64 (2:3.35-2ubuntu2.12) ...\n",
      "Selecting previously unselected package libasound2-data.\n",
      "Preparing to unpack .../043-libasound2-data_1.1.3-5ubuntu0.5_all.deb ...\n",
      "Unpacking libasound2-data (1.1.3-5ubuntu0.5) ...\n",
      "Selecting previously unselected package libasound2:amd64.\n",
      "Preparing to unpack .../044-libasound2_1.1.3-5ubuntu0.5_amd64.deb ...\n",
      "Unpacking libasound2:amd64 (1.1.3-5ubuntu0.5) ...\n",
      "Selecting previously unselected package libpcsclite1:amd64.\n",
      "Preparing to unpack .../045-libpcsclite1_1.8.23-1_amd64.deb ...\n",
      "Unpacking libpcsclite1:amd64 (1.8.23-1) ...\n",
      "Selecting previously unselected package libxi6:amd64.\n",
      "Preparing to unpack .../046-libxi6_2%3a1.7.9-1_amd64.deb ...\n",
      "Unpacking libxi6:amd64 (2:1.7.9-1) ...\n",
      "Selecting previously unselected package libxrender1:amd64.\n",
      "Preparing to unpack .../047-libxrender1_1%3a0.9.10-1_amd64.deb ...\n",
      "Unpacking libxrender1:amd64 (1:0.9.10-1) ...\n",
      "Selecting previously unselected package x11-common.\n",
      "Preparing to unpack .../048-x11-common_1%3a7.7+19ubuntu7.1_all.deb ...\n",
      "dpkg-query: no packages found matching nux-tools\n",
      "Unpacking x11-common (1:7.7+19ubuntu7.1) ...\n",
      "Selecting previously unselected package libxtst6:amd64.\n",
      "Preparing to unpack .../049-libxtst6_2%3a1.2.3-1_amd64.deb ...\n",
      "Unpacking libxtst6:amd64 (2:1.2.3-1) ...\n",
      "Selecting previously unselected package openjdk-11-jre-headless:amd64.\n",
      "Preparing to unpack .../050-openjdk-11-jre-headless_11.0.9+11-0ubuntu1~18.04.1_amd64.deb ...\n",
      "Unpacking openjdk-11-jre-headless:amd64 (11.0.9+11-0ubuntu1~18.04.1) ...\n",
      "Selecting previously unselected package ca-certificates-java.\n",
      "Preparing to unpack .../051-ca-certificates-java_20180516ubuntu1~18.04.1_all.deb ...\n",
      "Unpacking ca-certificates-java (20180516ubuntu1~18.04.1) ...\n",
      "Selecting previously unselected package gcc-7-base:amd64.\n",
      "Preparing to unpack .../052-gcc-7-base_7.5.0-3ubuntu1~18.04_amd64.deb ...\n",
      "Unpacking gcc-7-base:amd64 (7.5.0-3ubuntu1~18.04) ...\n",
      "Selecting previously unselected package libisl19:amd64.\n",
      "Preparing to unpack .../053-libisl19_0.19-1_amd64.deb ...\n",
      "Unpacking libisl19:amd64 (0.19-1) ...\n",
      "Selecting previously unselected package libmpfr6:amd64.\n",
      "Preparing to unpack .../054-libmpfr6_4.0.1-1_amd64.deb ...\n",
      "Unpacking libmpfr6:amd64 (4.0.1-1) ...\n",
      "Selecting previously unselected package libmpc3:amd64.\n",
      "Preparing to unpack .../055-libmpc3_1.1.0-1_amd64.deb ...\n",
      "Unpacking libmpc3:amd64 (1.1.0-1) ...\n",
      "Selecting previously unselected package cpp-7.\n",
      "Preparing to unpack .../056-cpp-7_7.5.0-3ubuntu1~18.04_amd64.deb ...\n",
      "Unpacking cpp-7 (7.5.0-3ubuntu1~18.04) ...\n",
      "Selecting previously unselected package cpp.\n",
      "Preparing to unpack .../057-cpp_4%3a7.4.0-1ubuntu2.3_amd64.deb ...\n",
      "Unpacking cpp (4:7.4.0-1ubuntu2.3) ...\n",
      "Selecting previously unselected package libroken18-heimdal:amd64.\n",
      "Preparing to unpack .../058-libroken18-heimdal_7.5.0+dfsg-1_amd64.deb ...\n",
      "Unpacking libroken18-heimdal:amd64 (7.5.0+dfsg-1) ...\n",
      "Selecting previously unselected package libasn1-8-heimdal:amd64.\n",
      "Preparing to unpack .../059-libasn1-8-heimdal_7.5.0+dfsg-1_amd64.deb ...\n",
      "Unpacking libasn1-8-heimdal:amd64 (7.5.0+dfsg-1) ...\n",
      "Selecting previously unselected package libheimbase1-heimdal:amd64.\n",
      "Preparing to unpack .../060-libheimbase1-heimdal_7.5.0+dfsg-1_amd64.deb ...\n",
      "Unpacking libheimbase1-heimdal:amd64 (7.5.0+dfsg-1) ...\n",
      "Selecting previously unselected package libhcrypto4-heimdal:amd64.\n",
      "Preparing to unpack .../061-libhcrypto4-heimdal_7.5.0+dfsg-1_amd64.deb ...\n",
      "Unpacking libhcrypto4-heimdal:amd64 (7.5.0+dfsg-1) ...\n",
      "Selecting previously unselected package libwind0-heimdal:amd64.\n",
      "Preparing to unpack .../062-libwind0-heimdal_7.5.0+dfsg-1_amd64.deb ...\n",
      "Unpacking libwind0-heimdal:amd64 (7.5.0+dfsg-1) ...\n",
      "Selecting previously unselected package libhx509-5-heimdal:amd64.\n",
      "Preparing to unpack .../063-libhx509-5-heimdal_7.5.0+dfsg-1_amd64.deb ...\n",
      "Unpacking libhx509-5-heimdal:amd64 (7.5.0+dfsg-1) ...\n",
      "Selecting previously unselected package libkrb5-26-heimdal:amd64.\n",
      "Preparing to unpack .../064-libkrb5-26-heimdal_7.5.0+dfsg-1_amd64.deb ...\n",
      "Unpacking libkrb5-26-heimdal:amd64 (7.5.0+dfsg-1) ...\n",
      "Selecting previously unselected package libheimntlm0-heimdal:amd64.\n",
      "Preparing to unpack .../065-libheimntlm0-heimdal_7.5.0+dfsg-1_amd64.deb ...\n",
      "Unpacking libheimntlm0-heimdal:amd64 (7.5.0+dfsg-1) ...\n",
      "Selecting previously unselected package libgssapi3-heimdal:amd64.\n",
      "Preparing to unpack .../066-libgssapi3-heimdal_7.5.0+dfsg-1_amd64.deb ...\n",
      "Unpacking libgssapi3-heimdal:amd64 (7.5.0+dfsg-1) ...\n",
      "Selecting previously unselected package libsasl2-modules-db:amd64.\n",
      "Preparing to unpack .../067-libsasl2-modules-db_2.1.27~101-g0780600+dfsg-3ubuntu2.1_amd64.deb ...\n",
      "Unpacking libsasl2-modules-db:amd64 (2.1.27~101-g0780600+dfsg-3ubuntu2.1) ...\n",
      "Selecting previously unselected package libsasl2-2:amd64.\n",
      "Preparing to unpack .../068-libsasl2-2_2.1.27~101-g0780600+dfsg-3ubuntu2.1_amd64.deb ...\n",
      "Unpacking libsasl2-2:amd64 (2.1.27~101-g0780600+dfsg-3ubuntu2.1) ...\n",
      "Selecting previously unselected package libldap-common.\n",
      "Preparing to unpack .../069-libldap-common_2.4.45+dfsg-1ubuntu1.6_all.deb ...\n",
      "Unpacking libldap-common (2.4.45+dfsg-1ubuntu1.6) ...\n",
      "Selecting previously unselected package libldap-2.4-2:amd64.\n",
      "Preparing to unpack .../070-libldap-2.4-2_2.4.45+dfsg-1ubuntu1.6_amd64.deb ...\n",
      "Unpacking libldap-2.4-2:amd64 (2.4.45+dfsg-1ubuntu1.6) ...\n",
      "Selecting previously unselected package libnghttp2-14:amd64.\n",
      "Preparing to unpack .../071-libnghttp2-14_1.30.0-1ubuntu1_amd64.deb ...\n",
      "Unpacking libnghttp2-14:amd64 (1.30.0-1ubuntu1) ...\n",
      "Selecting previously unselected package librtmp1:amd64.\n",
      "Preparing to unpack .../072-librtmp1_2.4+20151223.gitfa8646d.1-1_amd64.deb ...\n",
      "Unpacking librtmp1:amd64 (2.4+20151223.gitfa8646d.1-1) ...\n",
      "Selecting previously unselected package libcurl4:amd64.\n",
      "Preparing to unpack .../073-libcurl4_7.58.0-2ubuntu3.10_amd64.deb ...\n",
      "Unpacking libcurl4:amd64 (7.58.0-2ubuntu3.10) ...\n",
      "Selecting previously unselected package curl.\n",
      "Preparing to unpack .../074-curl_7.58.0-2ubuntu3.10_amd64.deb ...\n",
      "Unpacking curl (7.58.0-2ubuntu3.10) ...\n",
      "Selecting previously unselected package python3-lib2to3.\n",
      "Preparing to unpack .../075-python3-lib2to3_3.6.9-1~18.04_all.deb ...\n",
      "Unpacking python3-lib2to3 (3.6.9-1~18.04) ...\n",
      "Selecting previously unselected package python3-distutils.\n",
      "Preparing to unpack .../076-python3-distutils_3.6.9-1~18.04_all.deb ...\n",
      "Unpacking python3-distutils (3.6.9-1~18.04) ...\n",
      "Selecting previously unselected package dh-python.\n",
      "Preparing to unpack .../077-dh-python_3.20180325ubuntu2_all.deb ...\n",
      "Unpacking dh-python (3.20180325ubuntu2) ...\n",
      "Selecting previously unselected package libdpkg-perl.\n",
      "Preparing to unpack .../078-libdpkg-perl_1.19.0.5ubuntu2.3_all.deb ...\n",
      "Unpacking libdpkg-perl (1.19.0.5ubuntu2.3) ...\n",
      "Selecting previously unselected package patch.\n",
      "Preparing to unpack .../079-patch_2.7.6-2ubuntu1.1_amd64.deb ...\n",
      "Unpacking patch (2.7.6-2ubuntu1.1) ...\n",
      "Selecting previously unselected package make.\n",
      "Preparing to unpack .../080-make_4.1-9.1ubuntu1_amd64.deb ...\n",
      "Unpacking make (4.1-9.1ubuntu1) ...\n",
      "Selecting previously unselected package dpkg-dev.\n",
      "Preparing to unpack .../081-dpkg-dev_1.19.0.5ubuntu2.3_all.deb ...\n",
      "Unpacking dpkg-dev (1.19.0.5ubuntu2.3) ...\n",
      "Selecting previously unselected package libfakeroot:amd64.\n",
      "Preparing to unpack .../082-libfakeroot_1.22-2ubuntu1_amd64.deb ...\n",
      "Unpacking libfakeroot:amd64 (1.22-2ubuntu1) ...\n",
      "Selecting previously unselected package fakeroot.\n",
      "Preparing to unpack .../083-fakeroot_1.22-2ubuntu1_amd64.deb ...\n",
      "Unpacking fakeroot (1.22-2ubuntu1) ...\n",
      "Selecting previously unselected package libcc1-0:amd64.\n",
      "Preparing to unpack .../084-libcc1-0_8.4.0-1ubuntu1~18.04_amd64.deb ...\n",
      "Unpacking libcc1-0:amd64 (8.4.0-1ubuntu1~18.04) ...\n",
      "Selecting previously unselected package libgomp1:amd64.\n",
      "Preparing to unpack .../085-libgomp1_8.4.0-1ubuntu1~18.04_amd64.deb ...\n",
      "Unpacking libgomp1:amd64 (8.4.0-1ubuntu1~18.04) ...\n",
      "Selecting previously unselected package libitm1:amd64.\n",
      "Preparing to unpack .../086-libitm1_8.4.0-1ubuntu1~18.04_amd64.deb ...\n",
      "Unpacking libitm1:amd64 (8.4.0-1ubuntu1~18.04) ...\n",
      "Selecting previously unselected package libatomic1:amd64.\n",
      "Preparing to unpack .../087-libatomic1_8.4.0-1ubuntu1~18.04_amd64.deb ...\n",
      "Unpacking libatomic1:amd64 (8.4.0-1ubuntu1~18.04) ...\n",
      "Selecting previously unselected package libasan4:amd64.\n",
      "Preparing to unpack .../088-libasan4_7.5.0-3ubuntu1~18.04_amd64.deb ...\n",
      "Unpacking libasan4:amd64 (7.5.0-3ubuntu1~18.04) ...\n",
      "Selecting previously unselected package liblsan0:amd64.\n",
      "Preparing to unpack .../089-liblsan0_8.4.0-1ubuntu1~18.04_amd64.deb ...\n",
      "Unpacking liblsan0:amd64 (8.4.0-1ubuntu1~18.04) ...\n",
      "Selecting previously unselected package libtsan0:amd64.\n",
      "Preparing to unpack .../090-libtsan0_8.4.0-1ubuntu1~18.04_amd64.deb ...\n",
      "Unpacking libtsan0:amd64 (8.4.0-1ubuntu1~18.04) ...\n",
      "Selecting previously unselected package libubsan0:amd64.\n",
      "Preparing to unpack .../091-libubsan0_7.5.0-3ubuntu1~18.04_amd64.deb ...\n",
      "Unpacking libubsan0:amd64 (7.5.0-3ubuntu1~18.04) ...\n",
      "Selecting previously unselected package libcilkrts5:amd64.\n",
      "Preparing to unpack .../092-libcilkrts5_7.5.0-3ubuntu1~18.04_amd64.deb ...\n",
      "Unpacking libcilkrts5:amd64 (7.5.0-3ubuntu1~18.04) ...\n",
      "Selecting previously unselected package libmpx2:amd64.\n",
      "Preparing to unpack .../093-libmpx2_8.4.0-1ubuntu1~18.04_amd64.deb ...\n",
      "Unpacking libmpx2:amd64 (8.4.0-1ubuntu1~18.04) ...\n",
      "Selecting previously unselected package libquadmath0:amd64.\n",
      "Preparing to unpack .../094-libquadmath0_8.4.0-1ubuntu1~18.04_amd64.deb ...\n",
      "Unpacking libquadmath0:amd64 (8.4.0-1ubuntu1~18.04) ...\n",
      "Selecting previously unselected package libgcc-7-dev:amd64.\n",
      "Preparing to unpack .../095-libgcc-7-dev_7.5.0-3ubuntu1~18.04_amd64.deb ...\n",
      "Unpacking libgcc-7-dev:amd64 (7.5.0-3ubuntu1~18.04) ...\n",
      "Selecting previously unselected package gcc-7.\n",
      "Preparing to unpack .../096-gcc-7_7.5.0-3ubuntu1~18.04_amd64.deb ...\n",
      "Unpacking gcc-7 (7.5.0-3ubuntu1~18.04) ...\n",
      "Selecting previously unselected package gcc.\n",
      "Preparing to unpack .../097-gcc_4%3a7.4.0-1ubuntu2.3_amd64.deb ...\n",
      "Unpacking gcc (4:7.4.0-1ubuntu2.3) ...\n",
      "Selecting previously unselected package libc-dev-bin.\n",
      "Preparing to unpack .../098-libc-dev-bin_2.27-3ubuntu1.3_amd64.deb ...\n",
      "Unpacking libc-dev-bin (2.27-3ubuntu1.3) ...\n",
      "Selecting previously unselected package linux-libc-dev:amd64.\n",
      "Preparing to unpack .../099-linux-libc-dev_4.15.0-122.124_amd64.deb ...\n",
      "Unpacking linux-libc-dev:amd64 (4.15.0-122.124) ...\n",
      "Selecting previously unselected package libc6-dev:amd64.\n",
      "Preparing to unpack .../100-libc6-dev_2.27-3ubuntu1.3_amd64.deb ...\n",
      "Unpacking libc6-dev:amd64 (2.27-3ubuntu1.3) ...\n",
      "Selecting previously unselected package libstdc++-7-dev:amd64.\n",
      "Preparing to unpack .../101-libstdc++-7-dev_7.5.0-3ubuntu1~18.04_amd64.deb ...\n",
      "Unpacking libstdc++-7-dev:amd64 (7.5.0-3ubuntu1~18.04) ...\n",
      "Selecting previously unselected package g++-7.\n",
      "Preparing to unpack .../102-g++-7_7.5.0-3ubuntu1~18.04_amd64.deb ...\n",
      "Unpacking g++-7 (7.5.0-3ubuntu1~18.04) ...\n",
      "Selecting previously unselected package g++.\n",
      "Preparing to unpack .../103-g++_4%3a7.4.0-1ubuntu2.3_amd64.deb ...\n",
      "Unpacking g++ (4:7.4.0-1ubuntu2.3) ...\n",
      "Selecting previously unselected package libdrm-amdgpu1:amd64.\n",
      "Preparing to unpack .../104-libdrm-amdgpu1_2.4.101-2~18.04.1_amd64.deb ...\n",
      "Unpacking libdrm-amdgpu1:amd64 (2.4.101-2~18.04.1) ...\n",
      "Selecting previously unselected package libpciaccess0:amd64.\n",
      "Preparing to unpack .../105-libpciaccess0_0.14-1_amd64.deb ...\n",
      "Unpacking libpciaccess0:amd64 (0.14-1) ...\n",
      "Selecting previously unselected package libdrm-intel1:amd64.\n",
      "Preparing to unpack .../106-libdrm-intel1_2.4.101-2~18.04.1_amd64.deb ...\n",
      "Unpacking libdrm-intel1:amd64 (2.4.101-2~18.04.1) ...\n",
      "Selecting previously unselected package libdrm-nouveau2:amd64.\n",
      "Preparing to unpack .../107-libdrm-nouveau2_2.4.101-2~18.04.1_amd64.deb ...\n",
      "Unpacking libdrm-nouveau2:amd64 (2.4.101-2~18.04.1) ...\n",
      "Selecting previously unselected package libdrm-radeon1:amd64.\n",
      "Preparing to unpack .../108-libdrm-radeon1_2.4.101-2~18.04.1_amd64.deb ...\n",
      "Unpacking libdrm-radeon1:amd64 (2.4.101-2~18.04.1) ...\n",
      "Selecting previously unselected package libexpat1-dev:amd64.\n",
      "Preparing to unpack .../109-libexpat1-dev_2.2.5-3ubuntu0.2_amd64.deb ...\n",
      "Unpacking libexpat1-dev:amd64 (2.2.5-3ubuntu0.2) ...\n",
      "Selecting previously unselected package libgif7:amd64.\n",
      "Preparing to unpack .../110-libgif7_5.1.4-2ubuntu0.1_amd64.deb ...\n",
      "Unpacking libgif7:amd64 (5.1.4-2ubuntu0.1) ...\n",
      "Selecting previously unselected package libglapi-mesa:amd64.\n",
      "Preparing to unpack .../111-libglapi-mesa_20.0.8-0ubuntu1~18.04.1_amd64.deb ...\n",
      "Unpacking libglapi-mesa:amd64 (20.0.8-0ubuntu1~18.04.1) ...\n",
      "Selecting previously unselected package libllvm10:amd64.\n",
      "Preparing to unpack .../112-libllvm10_1%3a10.0.0-4ubuntu1~18.04.2_amd64.deb ...\n",
      "Unpacking libllvm10:amd64 (1:10.0.0-4ubuntu1~18.04.2) ...\n",
      "Selecting previously unselected package libsensors4:amd64.\n",
      "Preparing to unpack .../113-libsensors4_1%3a3.4.0-4_amd64.deb ...\n",
      "Unpacking libsensors4:amd64 (1:3.4.0-4) ...\n",
      "Selecting previously unselected package libgl1-mesa-dri:amd64.\n",
      "Preparing to unpack .../114-libgl1-mesa-dri_20.0.8-0ubuntu1~18.04.1_amd64.deb ...\n",
      "Unpacking libgl1-mesa-dri:amd64 (20.0.8-0ubuntu1~18.04.1) ...\n",
      "Selecting previously unselected package libx11-xcb1:amd64.\n",
      "Preparing to unpack .../115-libx11-xcb1_2%3a1.6.4-3ubuntu0.3_amd64.deb ...\n",
      "Unpacking libx11-xcb1:amd64 (2:1.6.4-3ubuntu0.3) ...\n",
      "Selecting previously unselected package libxcb-dri2-0:amd64.\n",
      "Preparing to unpack .../116-libxcb-dri2-0_1.13-2~ubuntu18.04_amd64.deb ...\n",
      "Unpacking libxcb-dri2-0:amd64 (1.13-2~ubuntu18.04) ...\n",
      "Selecting previously unselected package libxcb-dri3-0:amd64.\n",
      "Preparing to unpack .../117-libxcb-dri3-0_1.13-2~ubuntu18.04_amd64.deb ...\n",
      "Unpacking libxcb-dri3-0:amd64 (1.13-2~ubuntu18.04) ...\n",
      "Selecting previously unselected package libxcb-glx0:amd64.\n",
      "Preparing to unpack .../118-libxcb-glx0_1.13-2~ubuntu18.04_amd64.deb ...\n",
      "Unpacking libxcb-glx0:amd64 (1.13-2~ubuntu18.04) ...\n",
      "Selecting previously unselected package libxcb-present0:amd64.\n",
      "Preparing to unpack .../119-libxcb-present0_1.13-2~ubuntu18.04_amd64.deb ...\n",
      "Unpacking libxcb-present0:amd64 (1.13-2~ubuntu18.04) ...\n",
      "Selecting previously unselected package libxcb-sync1:amd64.\n",
      "Preparing to unpack .../120-libxcb-sync1_1.13-2~ubuntu18.04_amd64.deb ...\n",
      "Unpacking libxcb-sync1:amd64 (1.13-2~ubuntu18.04) ...\n",
      "Selecting previously unselected package libxdamage1:amd64.\n",
      "Preparing to unpack .../121-libxdamage1_1%3a1.1.4-3_amd64.deb ...\n",
      "Unpacking libxdamage1:amd64 (1:1.1.4-3) ...\n",
      "Selecting previously unselected package libxfixes3:amd64.\n",
      "Preparing to unpack .../122-libxfixes3_1%3a5.0.3-1_amd64.deb ...\n",
      "Unpacking libxfixes3:amd64 (1:5.0.3-1) ...\n",
      "Selecting previously unselected package libxshmfence1:amd64.\n",
      "Preparing to unpack .../123-libxshmfence1_1.3-1_amd64.deb ...\n",
      "Unpacking libxshmfence1:amd64 (1.3-1) ...\n",
      "Selecting previously unselected package libglx-mesa0:amd64.\n",
      "Preparing to unpack .../124-libglx-mesa0_20.0.8-0ubuntu1~18.04.1_amd64.deb ...\n",
      "Unpacking libglx-mesa0:amd64 (20.0.8-0ubuntu1~18.04.1) ...\n",
      "Selecting previously unselected package libgpm2:amd64.\n",
      "Preparing to unpack .../125-libgpm2_1.20.7-5_amd64.deb ...\n",
      "Unpacking libgpm2:amd64 (1.20.7-5) ...\n",
      "Selecting previously unselected package libpython3.6:amd64.\n",
      "Preparing to unpack .../126-libpython3.6_3.6.9-1~18.04ubuntu1.3_amd64.deb ...\n",
      "Unpacking libpython3.6:amd64 (3.6.9-1~18.04ubuntu1.3) ...\n",
      "Selecting previously unselected package libpython3.6-dev:amd64.\n",
      "Preparing to unpack .../127-libpython3.6-dev_3.6.9-1~18.04ubuntu1.3_amd64.deb ...\n",
      "Unpacking libpython3.6-dev:amd64 (3.6.9-1~18.04ubuntu1.3) ...\n",
      "Selecting previously unselected package libpython3-dev:amd64.\n",
      "Preparing to unpack .../128-libpython3-dev_3.6.7-1~18.04_amd64.deb ...\n",
      "Unpacking libpython3-dev:amd64 (3.6.7-1~18.04) ...\n",
      "Selecting previously unselected package libglvnd0:amd64.\n",
      "Preparing to unpack .../129-libglvnd0_1.0.0-2ubuntu2.3_amd64.deb ...\n",
      "Unpacking libglvnd0:amd64 (1.0.0-2ubuntu2.3) ...\n",
      "Selecting previously unselected package libglx0:amd64.\n",
      "Preparing to unpack .../130-libglx0_1.0.0-2ubuntu2.3_amd64.deb ...\n",
      "Unpacking libglx0:amd64 (1.0.0-2ubuntu2.3) ...\n",
      "Selecting previously unselected package libgl1:amd64.\n",
      "Preparing to unpack .../131-libgl1_1.0.0-2ubuntu2.3_amd64.deb ...\n",
      "Unpacking libgl1:amd64 (1.0.0-2ubuntu2.3) ...\n",
      "Selecting previously unselected package openjdk-11-jre:amd64.\n",
      "Preparing to unpack .../132-openjdk-11-jre_11.0.9+11-0ubuntu1~18.04.1_amd64.deb ...\n",
      "Unpacking openjdk-11-jre:amd64 (11.0.9+11-0ubuntu1~18.04.1) ...\n",
      "Selecting previously unselected package openjdk-11-jdk-headless:amd64.\n",
      "Preparing to unpack .../133-openjdk-11-jdk-headless_11.0.9+11-0ubuntu1~18.04.1_amd64.deb ...\n",
      "Unpacking openjdk-11-jdk-headless:amd64 (11.0.9+11-0ubuntu1~18.04.1) ...\n",
      "Selecting previously unselected package openjdk-11-jdk:amd64.\n",
      "Preparing to unpack .../134-openjdk-11-jdk_11.0.9+11-0ubuntu1~18.04.1_amd64.deb ...\n",
      "Unpacking openjdk-11-jdk:amd64 (11.0.9+11-0ubuntu1~18.04.1) ...\n",
      "Selecting previously unselected package python3.6-dev.\n",
      "Preparing to unpack .../135-python3.6-dev_3.6.9-1~18.04ubuntu1.3_amd64.deb ...\n",
      "Unpacking python3.6-dev (3.6.9-1~18.04ubuntu1.3) ...\n",
      "Selecting previously unselected package python3-dev.\n",
      "Preparing to unpack .../136-python3-dev_3.6.7-1~18.04_amd64.deb ...\n",
      "Unpacking python3-dev (3.6.7-1~18.04) ...\n",
      "Selecting previously unselected package vim-runtime.\n",
      "Preparing to unpack .../137-vim-runtime_2%3a8.0.1453-1ubuntu1.4_all.deb ...\n",
      "Adding 'diversion of /usr/share/vim/vim80/doc/help.txt to /usr/share/vim/vim80/doc/help.txt.vim-tiny by vim-runtime'\n",
      "Adding 'diversion of /usr/share/vim/vim80/doc/tags to /usr/share/vim/vim80/doc/tags.vim-tiny by vim-runtime'\n",
      "Unpacking vim-runtime (2:8.0.1453-1ubuntu1.4) ...\n",
      "Selecting previously unselected package vim.\n",
      "Preparing to unpack .../138-vim_2%3a8.0.1453-1ubuntu1.4_amd64.deb ...\n",
      "Unpacking vim (2:8.0.1453-1ubuntu1.4) ...\n",
      "Setting up libquadmath0:amd64 (8.4.0-1ubuntu1~18.04) ...\n",
      "Setting up libedit2:amd64 (3.1-20170329-1) ...\n",
      "Setting up libgomp1:amd64 (8.4.0-1ubuntu1~18.04) ...\n",
      "Setting up libatomic1:amd64 (8.4.0-1ubuntu1~18.04) ...\n",
      "Setting up libglvnd0:amd64 (1.0.0-2ubuntu2.3) ...\n",
      "Setting up readline-common (7.0-3) ...\n",
      "Setting up libcc1-0:amd64 (8.4.0-1ubuntu1~18.04) ...\n",
      "Setting up make (4.1-9.1ubuntu1) ...\n",
      "Setting up libllvm10:amd64 (1:10.0.0-4ubuntu1~18.04.2) ...\n",
      "Setting up libnghttp2-14:amd64 (1.30.0-1ubuntu1) ...\n",
      "Setting up mime-support (3.60ubuntu1) ...\n",
      "Setting up xxd (2:8.0.1453-1ubuntu1.4) ...\n",
      "Setting up libpng16-16:amd64 (1.6.34-1ubuntu0.18.04.2) ...\n",
      "Setting up liblcms2-2:amd64 (2.9-1ubuntu0.1) ...\n",
      "Setting up libpcsclite1:amd64 (1.8.23-1) ...\n",
      "Setting up libgpm2:amd64 (1.20.7-5) ...\n",
      "Setting up libldap-common (2.4.45+dfsg-1ubuntu1.6) ...\n",
      "Setting up fonts-dejavu-core (2.37-1) ...\n",
      "Setting up libreadline7:amd64 (7.0-3) ...\n",
      "Setting up libpsl5:amd64 (0.19.1-5build1) ...\n",
      "Setting up libelf1:amd64 (0.170-0.4ubuntu0.1) ...\n",
      "Setting up libtsan0:amd64 (8.4.0-1ubuntu1~18.04) ...\n",
      "Setting up libasound2-data (1.1.3-5ubuntu0.5) ...\n",
      "Setting up libxshmfence1:amd64 (1.3-1) ...\n",
      "Setting up libsasl2-modules-db:amd64 (2.1.27~101-g0780600+dfsg-3ubuntu2.1) ...\n",
      "Setting up linux-libc-dev:amd64 (4.15.0-122.124) ...\n",
      "Setting up libmpfr6:amd64 (4.0.1-1) ...\n",
      "Setting up java-common (0.68ubuntu1~18.04.1) ...\n",
      "Setting up libsasl2-2:amd64 (2.1.27~101-g0780600+dfsg-3ubuntu2.1) ...\n",
      "Setting up libgif7:amd64 (5.1.4-2ubuntu0.1) ...\n",
      "Setting up libjpeg-turbo8:amd64 (1.5.2-0ubuntu5.18.04.4) ...\n",
      "Setting up libroken18-heimdal:amd64 (7.5.0+dfsg-1) ...\n",
      "Setting up libglapi-mesa:amd64 (20.0.8-0ubuntu1~18.04.1) ...\n",
      "Setting up librtmp1:amd64 (2.4+20151223.gitfa8646d.1-1) ...\n",
      "Setting up perl-modules-5.26 (5.26.1-6ubuntu0.5) ...\n",
      "Setting up libgdbm5:amd64 (1.14.1-6) ...\n",
      "Setting up libbsd0:amd64 (0.8.7-1ubuntu0.1) ...\n",
      "Setting up libkrb5support0:amd64 (1.16-2ubuntu0.1) ...\n",
      "Setting up libnspr4:amd64 (2:4.18-1ubuntu1) ...\n",
      "Setting up ucf (3.0038) ...\n",
      "Setting up libfreetype6:amd64 (2.8.1-2ubuntu2.1) ...\n",
      "Setting up libasound2:amd64 (1.1.3-5ubuntu0.5) ...\n",
      "Setting up libdrm-common (2.4.101-2~18.04.1) ...\n",
      "Setting up liblsan0:amd64 (8.4.0-1ubuntu1~18.04) ...\n",
      "Setting up gcc-7-base:amd64 (7.5.0-3ubuntu1~18.04) ...\n",
      "Setting up binutils-common:amd64 (2.30-21ubuntu1~18.04.4) ...\n",
      "Setting up libmpx2:amd64 (8.4.0-1ubuntu1~18.04) ...\n",
      "Setting up libx11-xcb1:amd64 (2:1.6.4-3ubuntu0.3) ...\n",
      "Setting up patch (2.7.6-2ubuntu1.1) ...\n",
      "Setting up xz-utils (5.2.2-1.3) ...\n",
      "update-alternatives: using /usr/bin/xz to provide /usr/bin/lzma (lzma) in auto mode\n",
      "update-alternatives: warning: skip creation of /usr/share/man/man1/lzma.1.gz because associated file /usr/share/man/man1/xz.1.gz (of link group lzma) doesn't exist\n",
      "update-alternatives: warning: skip creation of /usr/share/man/man1/unlzma.1.gz because associated file /usr/share/man/man1/unxz.1.gz (of link group lzma) doesn't exist\n",
      "update-alternatives: warning: skip creation of /usr/share/man/man1/lzcat.1.gz because associated file /usr/share/man/man1/xzcat.1.gz (of link group lzma) doesn't exist\n",
      "update-alternatives: warning: skip creation of /usr/share/man/man1/lzmore.1.gz because associated file /usr/share/man/man1/xzmore.1.gz (of link group lzma) doesn't exist\n",
      "update-alternatives: warning: skip creation of /usr/share/man/man1/lzless.1.gz because associated file /usr/share/man/man1/xzless.1.gz (of link group lzma) doesn't exist\n",
      "update-alternatives: warning: skip creation of /usr/share/man/man1/lzdiff.1.gz because associated file /usr/share/man/man1/xzdiff.1.gz (of link group lzma) doesn't exist\n",
      "update-alternatives: warning: skip creation of /usr/share/man/man1/lzcmp.1.gz because associated file /usr/share/man/man1/xzcmp.1.gz (of link group lzma) doesn't exist\n",
      "update-alternatives: warning: skip creation of /usr/share/man/man1/lzgrep.1.gz because associated file /usr/share/man/man1/xzgrep.1.gz (of link group lzma) doesn't exist\n",
      "update-alternatives: warning: skip creation of /usr/share/man/man1/lzegrep.1.gz because associated file /usr/share/man/man1/xzegrep.1.gz (of link group lzma) doesn't exist\n",
      "update-alternatives: warning: skip creation of /usr/share/man/man1/lzfgrep.1.gz because associated file /usr/share/man/man1/xzfgrep.1.gz (of link group lzma) doesn't exist\n",
      "Setting up libheimbase1-heimdal:amd64 (7.5.0+dfsg-1) ...\n",
      "Setting up libfakeroot:amd64 (1.22-2ubuntu1) ...\n",
      "Setting up openssl (1.1.1-1ubuntu2.1~18.04.6) ...\n",
      "Setting up vim-common (2:8.0.1453-1ubuntu1.4) ...\n",
      "Setting up libsqlite3-0:amd64 (3.22.0-1ubuntu0.4) ...\n",
      "Setting up libpciaccess0:amd64 (0.14-1) ...\n",
      "Setting up libsensors4:amd64 (1:3.4.0-4) ...\n",
      "Setting up vim-runtime (2:8.0.1453-1ubuntu1.4) ...\n",
      "Setting up libmpc3:amd64 (1.1.0-1) ...\n",
      "Setting up libc-dev-bin (2.27-3ubuntu1.3) ...\n",
      "Setting up libxdmcp6:amd64 (1:1.1.2-3) ...\n",
      "Setting up libgdbm-compat4:amd64 (1.14.1-6) ...\n",
      "Setting up libkeyutils1:amd64 (1.5.9-9.2ubuntu2) ...\n",
      "Setting up x11-common (1:7.7+19ubuntu7.1) ...\n",
      "update-rc.d: warning: start and stop actions are no longer supported; falling back to defaults\n",
      "invoke-rc.d: could not determine current runlevel\n",
      "invoke-rc.d: policy-rc.d denied execution of start.\n",
      "Setting up ca-certificates (20201027ubuntu0.18.04.1) ...\n",
      "Updating certificates in /etc/ssl/certs...\n",
      "138 added, 0 removed; done.\n",
      "Setting up libc6-dev:amd64 (2.27-3ubuntu1.3) ...\n",
      "Setting up libitm1:amd64 (8.4.0-1ubuntu1~18.04) ...\n",
      "Setting up libx11-data (2:1.6.4-3ubuntu0.3) ...\n",
      "Setting up libxau6:amd64 (1:1.0.8-1ubuntu1) ...\n",
      "Setting up libmpdec2:amd64 (2.4.2-1ubuntu1) ...\n",
      "Setting up libdbus-1-3:amd64 (1.12.2-1ubuntu1.2) ...\n",
      "Setting up libavahi-common-data:amd64 (0.7-3.1ubuntu1.2) ...\n",
      "Setting up libjpeg8:amd64 (8c-2ubuntu8) ...\n",
      "Setting up libisl19:amd64 (0.19-1) ...\n",
      "Setting up libpython3.6-stdlib:amd64 (3.6.9-1~18.04ubuntu1.3) ...\n",
      "Setting up libk5crypto3:amd64 (1.16-2ubuntu0.1) ...\n",
      "Setting up fontconfig-config (2.12.6-0ubuntu2) ...\n",
      "Setting up python3.6 (3.6.9-1~18.04ubuntu1.3) ...\n",
      "Setting up libwind0-heimdal:amd64 (7.5.0+dfsg-1) ...\n",
      "Setting up libasan4:amd64 (7.5.0-3ubuntu1~18.04) ...\n",
      "Setting up libbinutils:amd64 (2.30-21ubuntu1~18.04.4) ...\n",
      "Setting up libcilkrts5:amd64 (7.5.0-3ubuntu1~18.04) ...\n",
      "Setting up libasn1-8-heimdal:amd64 (7.5.0+dfsg-1) ...\n",
      "Setting up libubsan0:amd64 (7.5.0-3ubuntu1~18.04) ...\n",
      "Setting up libhcrypto4-heimdal:amd64 (7.5.0+dfsg-1) ...\n",
      "Setting up libnss3:amd64 (2:3.35-2ubuntu2.12) ...\n",
      "Setting up fakeroot (1.22-2ubuntu1) ...\n",
      "update-alternatives: using /usr/bin/fakeroot-sysv to provide /usr/bin/fakeroot (fakeroot) in auto mode\n",
      "update-alternatives: warning: skip creation of /usr/share/man/man1/fakeroot.1.gz because associated file /usr/share/man/man1/fakeroot-sysv.1.gz (of link group fakeroot) doesn't exist\n",
      "update-alternatives: warning: skip creation of /usr/share/man/man1/faked.1.gz because associated file /usr/share/man/man1/faked-sysv.1.gz (of link group fakeroot) doesn't exist\n",
      "update-alternatives: warning: skip creation of /usr/share/man/es/man1/fakeroot.1.gz because associated file /usr/share/man/es/man1/fakeroot-sysv.1.gz (of link group fakeroot) doesn't exist\n",
      "update-alternatives: warning: skip creation of /usr/share/man/es/man1/faked.1.gz because associated file /usr/share/man/es/man1/faked-sysv.1.gz (of link group fakeroot) doesn't exist\n",
      "update-alternatives: warning: skip creation of /usr/share/man/fr/man1/fakeroot.1.gz because associated file /usr/share/man/fr/man1/fakeroot-sysv.1.gz (of link group fakeroot) doesn't exist\n",
      "update-alternatives: warning: skip creation of /usr/share/man/fr/man1/faked.1.gz because associated file /usr/share/man/fr/man1/faked-sysv.1.gz (of link group fakeroot) doesn't exist\n",
      "update-alternatives: warning: skip creation of /usr/share/man/sv/man1/fakeroot.1.gz because associated file /usr/share/man/sv/man1/fakeroot-sysv.1.gz (of link group fakeroot) doesn't exist\n",
      "update-alternatives: warning: skip creation of /usr/share/man/sv/man1/faked.1.gz because associated file /usr/share/man/sv/man1/faked-sysv.1.gz (of link group fakeroot) doesn't exist\n",
      "Setting up libhx509-5-heimdal:amd64 (7.5.0+dfsg-1) ...\n",
      "Setting up libgcc-7-dev:amd64 (7.5.0-3ubuntu1~18.04) ...\n",
      "Setting up cpp-7 (7.5.0-3ubuntu1~18.04) ...\n",
      "Setting up libdrm2:amd64 (2.4.101-2~18.04.1) ...\n",
      "Setting up libstdc++-7-dev:amd64 (7.5.0-3ubuntu1~18.04) ...\n",
      "Setting up libdrm-intel1:amd64 (2.4.101-2~18.04.1) ...\n",
      "Setting up libperl5.26:amd64 (5.26.1-6ubuntu0.5) ...\n",
      "Setting up libexpat1-dev:amd64 (2.2.5-3ubuntu0.2) ...\n",
      "Setting up libkrb5-3:amd64 (1.16-2ubuntu0.1) ...\n",
      "Setting up libavahi-common3:amd64 (0.7-3.1ubuntu1.2) ...\n",
      "Setting up libdrm-radeon1:amd64 (2.4.101-2~18.04.1) ...\n",
      "Setting up libkrb5-26-heimdal:amd64 (7.5.0+dfsg-1) ...\n",
      "Setting up libdrm-nouveau2:amd64 (2.4.101-2~18.04.1) ...\n",
      "Setting up libxcb1:amd64 (1.13-2~ubuntu18.04) ...\n",
      "Setting up libheimntlm0-heimdal:amd64 (7.5.0+dfsg-1) ...\n",
      "Setting up libpython3.6:amd64 (3.6.9-1~18.04ubuntu1.3) ...\n",
      "Setting up binutils-x86-64-linux-gnu (2.30-21ubuntu1~18.04.4) ...\n",
      "Setting up libpython3-stdlib:amd64 (3.6.7-1~18.04) ...\n",
      "Setting up cpp (4:7.4.0-1ubuntu2.3) ...\n",
      "Setting up libxcb-present0:amd64 (1.13-2~ubuntu18.04) ...\n",
      "Setting up libfontconfig1:amd64 (2.12.6-0ubuntu2) ...\n",
      "Setting up libxcb-dri2-0:amd64 (1.13-2~ubuntu18.04) ...\n",
      "Setting up libxcb-dri3-0:amd64 (1.13-2~ubuntu18.04) ...\n",
      "Setting up libxcb-glx0:amd64 (1.13-2~ubuntu18.04) ...\n",
      "Setting up python3 (3.6.7-1~18.04) ...\n",
      "Setting up libdrm-amdgpu1:amd64 (2.4.101-2~18.04.1) ...\n",
      "Setting up vim (2:8.0.1453-1ubuntu1.4) ...\n",
      "update-alternatives: using /usr/bin/vim.basic to provide /usr/bin/vim (vim) in auto mode\n",
      "update-alternatives: using /usr/bin/vim.basic to provide /usr/bin/vimdiff (vimdiff) in auto mode\n",
      "update-alternatives: using /usr/bin/vim.basic to provide /usr/bin/rvim (rvim) in auto mode\n",
      "update-alternatives: using /usr/bin/vim.basic to provide /usr/bin/rview (rview) in auto mode\n",
      "update-alternatives: using /usr/bin/vim.basic to provide /usr/bin/vi (vi) in auto mode\n",
      "update-alternatives: warning: skip creation of /usr/share/man/fr/man1/vi.1.gz because associated file /usr/share/man/fr/man1/vim.1.gz (of link group vi) doesn't exist\n",
      "update-alternatives: warning: skip creation of /usr/share/man/it/man1/vi.1.gz because associated file /usr/share/man/it/man1/vim.1.gz (of link group vi) doesn't exist\n",
      "update-alternatives: warning: skip creation of /usr/share/man/pl/man1/vi.1.gz because associated file /usr/share/man/pl/man1/vim.1.gz (of link group vi) doesn't exist\n",
      "update-alternatives: warning: skip creation of /usr/share/man/ru/man1/vi.1.gz because associated file /usr/share/man/ru/man1/vim.1.gz (of link group vi) doesn't exist\n",
      "update-alternatives: warning: skip creation of /usr/share/man/ja/man1/vi.1.gz because associated file /usr/share/man/ja/man1/vim.1.gz (of link group vi) doesn't exist\n",
      "update-alternatives: warning: skip creation of /usr/share/man/man1/vi.1.gz because associated file /usr/share/man/man1/vim.1.gz (of link group vi) doesn't exist\n",
      "update-alternatives: using /usr/bin/vim.basic to provide /usr/bin/view (view) in auto mode\n",
      "update-alternatives: warning: skip creation of /usr/share/man/fr/man1/view.1.gz because associated file /usr/share/man/fr/man1/vim.1.gz (of link group view) doesn't exist\n",
      "update-alternatives: warning: skip creation of /usr/share/man/it/man1/view.1.gz because associated file /usr/share/man/it/man1/vim.1.gz (of link group view) doesn't exist\n",
      "update-alternatives: warning: skip creation of /usr/share/man/pl/man1/view.1.gz because associated file /usr/share/man/pl/man1/vim.1.gz (of link group view) doesn't exist\n",
      "update-alternatives: warning: skip creation of /usr/share/man/ru/man1/view.1.gz because associated file /usr/share/man/ru/man1/vim.1.gz (of link group view) doesn't exist\n",
      "update-alternatives: warning: skip creation of /usr/share/man/ja/man1/view.1.gz because associated file /usr/share/man/ja/man1/vim.1.gz (of link group view) doesn't exist\n",
      "update-alternatives: warning: skip creation of /usr/share/man/man1/view.1.gz because associated file /usr/share/man/man1/vim.1.gz (of link group view) doesn't exist\n",
      "update-alternatives: using /usr/bin/vim.basic to provide /usr/bin/ex (ex) in auto mode\n",
      "update-alternatives: warning: skip creation of /usr/share/man/fr/man1/ex.1.gz because associated file /usr/share/man/fr/man1/vim.1.gz (of link group ex) doesn't exist\n",
      "update-alternatives: warning: skip creation of /usr/share/man/it/man1/ex.1.gz because associated file /usr/share/man/it/man1/vim.1.gz (of link group ex) doesn't exist\n",
      "update-alternatives: warning: skip creation of /usr/share/man/pl/man1/ex.1.gz because associated file /usr/share/man/pl/man1/vim.1.gz (of link group ex) doesn't exist\n",
      "update-alternatives: warning: skip creation of /usr/share/man/ru/man1/ex.1.gz because associated file /usr/share/man/ru/man1/vim.1.gz (of link group ex) doesn't exist\n",
      "update-alternatives: warning: skip creation of /usr/share/man/ja/man1/ex.1.gz because associated file /usr/share/man/ja/man1/vim.1.gz (of link group ex) doesn't exist\n",
      "update-alternatives: warning: skip creation of /usr/share/man/man1/ex.1.gz because associated file /usr/share/man/man1/vim.1.gz (of link group ex) doesn't exist\n",
      "update-alternatives: using /usr/bin/vim.basic to provide /usr/bin/editor (editor) in auto mode\n",
      "update-alternatives: warning: skip creation of /usr/share/man/fr/man1/editor.1.gz because associated file /usr/share/man/fr/man1/vim.1.gz (of link group editor) doesn't exist\n",
      "update-alternatives: warning: skip creation of /usr/share/man/it/man1/editor.1.gz because associated file /usr/share/man/it/man1/vim.1.gz (of link group editor) doesn't exist\n",
      "update-alternatives: warning: skip creation of /usr/share/man/pl/man1/editor.1.gz because associated file /usr/share/man/pl/man1/vim.1.gz (of link group editor) doesn't exist\n",
      "update-alternatives: warning: skip creation of /usr/share/man/ru/man1/editor.1.gz because associated file /usr/share/man/ru/man1/vim.1.gz (of link group editor) doesn't exist\n",
      "update-alternatives: warning: skip creation of /usr/share/man/ja/man1/editor.1.gz because associated file /usr/share/man/ja/man1/vim.1.gz (of link group editor) doesn't exist\n",
      "update-alternatives: warning: skip creation of /usr/share/man/man1/editor.1.gz because associated file /usr/share/man/man1/vim.1.gz (of link group editor) doesn't exist\n",
      "Setting up libx11-6:amd64 (2:1.6.4-3ubuntu0.3) ...\n",
      "Setting up libgl1-mesa-dri:amd64 (20.0.8-0ubuntu1~18.04.1) ...\n",
      "Setting up libpython3.6-dev:amd64 (3.6.9-1~18.04ubuntu1.3) ...\n",
      "Setting up libxcb-sync1:amd64 (1.13-2~ubuntu18.04) ...\n",
      "Setting up libgssapi-krb5-2:amd64 (1.16-2ubuntu0.1) ...\n",
      "Setting up perl (5.26.1-6ubuntu0.5) ...\n",
      "Setting up libxrender1:amd64 (1:0.9.10-1) ...\n",
      "Setting up libavahi-client3:amd64 (0.7-3.1ubuntu1.2) ...\n",
      "Setting up binutils (2.30-21ubuntu1~18.04.4) ...\n",
      "Setting up libgssapi3-heimdal:amd64 (7.5.0+dfsg-1) ...\n",
      "Setting up python3.6-dev (3.6.9-1~18.04ubuntu1.3) ...\n",
      "Setting up python3-lib2to3 (3.6.9-1~18.04) ...\n",
      "Setting up python3-distutils (3.6.9-1~18.04) ...\n",
      "Setting up libcups2:amd64 (2.2.7-1ubuntu2.8) ...\n",
      "Setting up libpython3-dev:amd64 (3.6.7-1~18.04) ...\n",
      "Setting up libxdamage1:amd64 (1:1.1.4-3) ...\n",
      "Setting up libxext6:amd64 (2:1.3.3-1) ...\n",
      "Setting up libxfixes3:amd64 (1:5.0.3-1) ...\n",
      "Setting up gcc-7 (7.5.0-3ubuntu1~18.04) ...\n",
      "Setting up g++-7 (7.5.0-3ubuntu1~18.04) ...\n",
      "Setting up libdpkg-perl (1.19.0.5ubuntu2.3) ...\n",
      "Setting up gcc (4:7.4.0-1ubuntu2.3) ...\n",
      "Setting up libxtst6:amd64 (2:1.2.3-1) ...\n",
      "Setting up dpkg-dev (1.19.0.5ubuntu2.3) ...\n",
      "Setting up libldap-2.4-2:amd64 (2.4.45+dfsg-1ubuntu1.6) ...\n",
      "Setting up g++ (4:7.4.0-1ubuntu2.3) ...\n",
      "update-alternatives: using /usr/bin/g++ to provide /usr/bin/c++ (c++) in auto mode\n",
      "update-alternatives: warning: skip creation of /usr/share/man/man1/c++.1.gz because associated file /usr/share/man/man1/g++.1.gz (of link group c++) doesn't exist\n",
      "Setting up libxxf86vm1:amd64 (1:1.1.4-1) ...\n",
      "Setting up dh-python (3.20180325ubuntu2) ...\n",
      "Setting up libglx-mesa0:amd64 (20.0.8-0ubuntu1~18.04.1) ...\n",
      "Setting up libxi6:amd64 (2:1.7.9-1) ...\n",
      "Setting up libcurl4:amd64 (7.58.0-2ubuntu3.10) ...\n",
      "Setting up python3-dev (3.6.7-1~18.04) ...\n",
      "Setting up libglx0:amd64 (1.0.0-2ubuntu2.3) ...\n",
      "Setting up curl (7.58.0-2ubuntu3.10) ...\n",
      "Setting up libgl1:amd64 (1.0.0-2ubuntu2.3) ...\n",
      "Setting up openjdk-11-jre-headless:amd64 (11.0.9+11-0ubuntu1~18.04.1) ...\n",
      "update-alternatives: using /usr/lib/jvm/java-11-openjdk-amd64/bin/rmid to provide /usr/bin/rmid (rmid) in auto mode\n",
      "update-alternatives: using /usr/lib/jvm/java-11-openjdk-amd64/bin/java to provide /usr/bin/java (java) in auto mode\n",
      "update-alternatives: using /usr/lib/jvm/java-11-openjdk-amd64/bin/keytool to provide /usr/bin/keytool (keytool) in auto mode\n",
      "update-alternatives: using /usr/lib/jvm/java-11-openjdk-amd64/bin/jjs to provide /usr/bin/jjs (jjs) in auto mode\n",
      "update-alternatives: using /usr/lib/jvm/java-11-openjdk-amd64/bin/pack200 to provide /usr/bin/pack200 (pack200) in auto mode\n",
      "update-alternatives: using /usr/lib/jvm/java-11-openjdk-amd64/bin/rmiregistry to provide /usr/bin/rmiregistry (rmiregistry) in auto mode\n",
      "update-alternatives: using /usr/lib/jvm/java-11-openjdk-amd64/bin/unpack200 to provide /usr/bin/unpack200 (unpack200) in auto mode\n",
      "update-alternatives: using /usr/lib/jvm/java-11-openjdk-amd64/bin/jfr to provide /usr/bin/jfr (jfr) in auto mode\n",
      "update-alternatives: using /usr/lib/jvm/java-11-openjdk-amd64/lib/jexec to provide /usr/bin/jexec (jexec) in auto mode\n",
      "Setting up openjdk-11-jdk-headless:amd64 (11.0.9+11-0ubuntu1~18.04.1) ...\n",
      "update-alternatives: using /usr/lib/jvm/java-11-openjdk-amd64/bin/jar to provide /usr/bin/jar (jar) in auto mode\n",
      "update-alternatives: using /usr/lib/jvm/java-11-openjdk-amd64/bin/jarsigner to provide /usr/bin/jarsigner (jarsigner) in auto mode\n",
      "update-alternatives: using /usr/lib/jvm/java-11-openjdk-amd64/bin/javac to provide /usr/bin/javac (javac) in auto mode\n",
      "update-alternatives: using /usr/lib/jvm/java-11-openjdk-amd64/bin/javadoc to provide /usr/bin/javadoc (javadoc) in auto mode\n",
      "update-alternatives: using /usr/lib/jvm/java-11-openjdk-amd64/bin/javap to provide /usr/bin/javap (javap) in auto mode\n",
      "update-alternatives: using /usr/lib/jvm/java-11-openjdk-amd64/bin/jcmd to provide /usr/bin/jcmd (jcmd) in auto mode\n",
      "update-alternatives: using /usr/lib/jvm/java-11-openjdk-amd64/bin/jdb to provide /usr/bin/jdb (jdb) in auto mode\n",
      "update-alternatives: using /usr/lib/jvm/java-11-openjdk-amd64/bin/jdeprscan to provide /usr/bin/jdeprscan (jdeprscan) in auto mode\n",
      "update-alternatives: using /usr/lib/jvm/java-11-openjdk-amd64/bin/jdeps to provide /usr/bin/jdeps (jdeps) in auto mode\n",
      "update-alternatives: using /usr/lib/jvm/java-11-openjdk-amd64/bin/jimage to provide /usr/bin/jimage (jimage) in auto mode\n",
      "update-alternatives: using /usr/lib/jvm/java-11-openjdk-amd64/bin/jinfo to provide /usr/bin/jinfo (jinfo) in auto mode\n",
      "update-alternatives: using /usr/lib/jvm/java-11-openjdk-amd64/bin/jlink to provide /usr/bin/jlink (jlink) in auto mode\n",
      "update-alternatives: using /usr/lib/jvm/java-11-openjdk-amd64/bin/jmap to provide /usr/bin/jmap (jmap) in auto mode\n",
      "update-alternatives: using /usr/lib/jvm/java-11-openjdk-amd64/bin/jmod to provide /usr/bin/jmod (jmod) in auto mode\n",
      "update-alternatives: using /usr/lib/jvm/java-11-openjdk-amd64/bin/jps to provide /usr/bin/jps (jps) in auto mode\n",
      "update-alternatives: using /usr/lib/jvm/java-11-openjdk-amd64/bin/jrunscript to provide /usr/bin/jrunscript (jrunscript) in auto mode\n",
      "update-alternatives: using /usr/lib/jvm/java-11-openjdk-amd64/bin/jshell to provide /usr/bin/jshell (jshell) in auto mode\n",
      "update-alternatives: using /usr/lib/jvm/java-11-openjdk-amd64/bin/jstack to provide /usr/bin/jstack (jstack) in auto mode\n",
      "update-alternatives: using /usr/lib/jvm/java-11-openjdk-amd64/bin/jstat to provide /usr/bin/jstat (jstat) in auto mode\n",
      "update-alternatives: using /usr/lib/jvm/java-11-openjdk-amd64/bin/jstatd to provide /usr/bin/jstatd (jstatd) in auto mode\n",
      "update-alternatives: using /usr/lib/jvm/java-11-openjdk-amd64/bin/rmic to provide /usr/bin/rmic (rmic) in auto mode\n",
      "update-alternatives: using /usr/lib/jvm/java-11-openjdk-amd64/bin/serialver to provide /usr/bin/serialver (serialver) in auto mode\n",
      "update-alternatives: using /usr/lib/jvm/java-11-openjdk-amd64/bin/jaotc to provide /usr/bin/jaotc (jaotc) in auto mode\n",
      "update-alternatives: using /usr/lib/jvm/java-11-openjdk-amd64/bin/jhsdb to provide /usr/bin/jhsdb (jhsdb) in auto mode\n",
      "Setting up openjdk-11-jre:amd64 (11.0.9+11-0ubuntu1~18.04.1) ...\n",
      "Setting up ca-certificates-java (20180516ubuntu1~18.04.1) ...\n",
      "head: cannot open '/etc/ssl/certs/java/cacerts' for reading: No such file or directory\n",
      "Adding debian:thawte_Primary_Root_CA.pem\n",
      "Adding debian:Microsoft_RSA_Root_Certificate_Authority_2017.pem\n",
      "Adding debian:GTS_Root_R4.pem\n",
      "Adding debian:Chambers_of_Commerce_Root_-_2008.pem\n",
      "Adding debian:DigiCert_Assured_ID_Root_G2.pem\n",
      "Adding debian:QuoVadis_Root_CA_3.pem\n",
      "Adding debian:IdenTrust_Commercial_Root_CA_1.pem\n",
      "Adding debian:E-Tugra_Certification_Authority.pem\n",
      "Adding debian:Hongkong_Post_Root_CA_3.pem\n",
      "Adding debian:CA_Disig_Root_R2.pem\n",
      "Adding debian:NetLock_Arany_=Class_Gold=_Főtanúsítvány.pem\n",
      "Adding debian:QuoVadis_Root_CA.pem\n",
      "Adding debian:TUBITAK_Kamu_SM_SSL_Kok_Sertifikasi_-_Surum_1.pem\n",
      "Adding debian:XRamp_Global_CA_Root.pem\n",
      "Adding debian:SZAFIR_ROOT_CA2.pem\n",
      "Adding debian:Security_Communication_Root_CA.pem\n",
      "Adding debian:GTS_Root_R1.pem\n",
      "Adding debian:Hongkong_Post_Root_CA_1.pem\n",
      "Adding debian:AC_RAIZ_FNMT-RCM.pem\n",
      "Adding debian:D-TRUST_Root_Class_3_CA_2_EV_2009.pem\n",
      "Adding debian:Trustis_FPS_Root_CA.pem\n",
      "Adding debian:IdenTrust_Public_Sector_Root_CA_1.pem\n",
      "Adding debian:emSign_Root_CA_-_G1.pem\n",
      "Adding debian:DigiCert_Global_Root_G3.pem\n",
      "Adding debian:VeriSign_Class_3_Public_Primary_Certification_Authority_-_G5.pem\n",
      "Adding debian:Trustwave_Global_Certification_Authority.pem\n",
      "Adding debian:Certigna.pem\n",
      "Adding debian:DigiCert_Assured_ID_Root_CA.pem\n",
      "Adding debian:AffirmTrust_Commercial.pem\n",
      "Adding debian:D-TRUST_Root_Class_3_CA_2_2009.pem\n",
      "Adding debian:Global_Chambersign_Root_-_2008.pem\n",
      "Adding debian:Amazon_Root_CA_2.pem\n",
      "Adding debian:TeliaSonera_Root_CA_v1.pem\n",
      "Adding debian:TrustCor_RootCert_CA-1.pem\n",
      "Adding debian:SwissSign_Gold_CA_-_G2.pem\n",
      "Adding debian:Amazon_Root_CA_3.pem\n",
      "Adding debian:Microsec_e-Szigno_Root_CA_2009.pem\n",
      "Adding debian:EC-ACC.pem\n",
      "Adding debian:Entrust.net_Premium_2048_Secure_Server_CA.pem\n",
      "Adding debian:COMODO_RSA_Certification_Authority.pem\n",
      "Adding debian:emSign_Root_CA_-_C1.pem\n",
      "Adding debian:DigiCert_High_Assurance_EV_Root_CA.pem\n",
      "Adding debian:GDCA_TrustAUTH_R5_ROOT.pem\n",
      "Adding debian:Certigna_Root_CA.pem\n",
      "Adding debian:T-TeleSec_GlobalRoot_Class_2.pem\n",
      "Adding debian:Go_Daddy_Root_Certificate_Authority_-_G2.pem\n",
      "Adding debian:Certum_Trusted_Network_CA_2.pem\n",
      "Adding debian:Entrust_Root_Certification_Authority_-_G4.pem\n",
      "Adding debian:Baltimore_CyberTrust_Root.pem\n",
      "Adding debian:GTS_Root_R2.pem\n",
      "Adding debian:DigiCert_Trusted_Root_G4.pem\n",
      "Adding debian:USERTrust_ECC_Certification_Authority.pem\n",
      "Adding debian:QuoVadis_Root_CA_2_G3.pem\n",
      "Adding debian:SwissSign_Silver_CA_-_G2.pem\n",
      "Adding debian:VeriSign_Class_3_Public_Primary_Certification_Authority_-_G4.pem\n",
      "Adding debian:Microsoft_ECC_Root_Certificate_Authority_2017.pem\n",
      "Adding debian:SSL.com_Root_Certification_Authority_ECC.pem\n",
      "Adding debian:Autoridad_de_Certificacion_Firmaprofesional_CIF_A62634068.pem\n",
      "Adding debian:UCA_Global_G2_Root.pem\n",
      "Adding debian:Entrust_Root_Certification_Authority_-_G2.pem\n",
      "Adding debian:GeoTrust_Primary_Certification_Authority.pem\n",
      "Adding debian:DST_Root_CA_X3.pem\n",
      "Adding debian:COMODO_ECC_Certification_Authority.pem\n",
      "Adding debian:GlobalSign_Root_CA_-_R6.pem\n",
      "Adding debian:VeriSign_Universal_Root_Certification_Authority.pem\n",
      "Adding debian:TWCA_Root_Certification_Authority.pem\n",
      "Adding debian:Hellenic_Academic_and_Research_Institutions_ECC_RootCA_2015.pem\n",
      "Adding debian:GeoTrust_Global_CA.pem\n",
      "Adding debian:Cybertrust_Global_Root.pem\n",
      "Adding debian:AffirmTrust_Networking.pem\n",
      "Adding debian:COMODO_Certification_Authority.pem\n",
      "Adding debian:thawte_Primary_Root_CA_-_G2.pem\n",
      "Adding debian:ISRG_Root_X1.pem\n",
      "Adding debian:UCA_Extended_Validation_Root.pem\n",
      "Adding debian:GeoTrust_Universal_CA.pem\n",
      "Adding debian:Staat_der_Nederlanden_EV_Root_CA.pem\n",
      "Adding debian:Trustwave_Global_ECC_P384_Certification_Authority.pem\n",
      "Adding debian:Network_Solutions_Certificate_Authority.pem\n",
      "Adding debian:e-Szigno_Root_CA_2017.pem\n",
      "Adding debian:Amazon_Root_CA_4.pem\n",
      "Adding debian:Go_Daddy_Class_2_CA.pem\n",
      "Adding debian:AffirmTrust_Premium.pem\n",
      "Adding debian:Hellenic_Academic_and_Research_Institutions_RootCA_2011.pem\n",
      "Adding debian:ACCVRAIZ1.pem\n",
      "Adding debian:TrustCor_ECA-1.pem\n",
      "Adding debian:USERTrust_RSA_Certification_Authority.pem\n",
      "Adding debian:certSIGN_Root_CA_G2.pem\n",
      "Adding debian:thawte_Primary_Root_CA_-_G3.pem\n",
      "Adding debian:GeoTrust_Primary_Certification_Authority_-_G3.pem\n",
      "Adding debian:Staat_der_Nederlanden_Root_CA_-_G3.pem\n",
      "Adding debian:TWCA_Global_Root_CA.pem\n",
      "Adding debian:DigiCert_Global_Root_G2.pem\n",
      "Adding debian:GeoTrust_Primary_Certification_Authority_-_G2.pem\n",
      "Adding debian:Izenpe.com.pem\n",
      "Adding debian:ePKI_Root_Certification_Authority.pem\n",
      "Adding debian:Sonera_Class_2_Root_CA.pem\n",
      "Adding debian:QuoVadis_Root_CA_3_G3.pem\n",
      "Adding debian:SSL.com_Root_Certification_Authority_RSA.pem\n",
      "Adding debian:Security_Communication_RootCA2.pem\n",
      "Adding debian:Starfield_Class_2_CA.pem\n",
      "Adding debian:SecureTrust_CA.pem\n",
      "Adding debian:Certum_Trusted_Network_CA.pem\n",
      "Adding debian:Amazon_Root_CA_1.pem\n",
      "Adding debian:SecureSign_RootCA11.pem\n",
      "Adding debian:TrustCor_RootCert_CA-2.pem\n",
      "Adding debian:DigiCert_Global_Root_CA.pem\n",
      "Adding debian:GTS_Root_R3.pem\n",
      "Adding debian:SSL.com_EV_Root_Certification_Authority_ECC.pem\n",
      "Adding debian:OISTE_WISeKey_Global_Root_GB_CA.pem\n",
      "Adding debian:Secure_Global_CA.pem\n",
      "Adding debian:AffirmTrust_Premium_ECC.pem\n",
      "Adding debian:GlobalSign_Root_CA_-_R3.pem\n",
      "Adding debian:emSign_ECC_Root_CA_-_G3.pem\n",
      "Adding debian:Buypass_Class_3_Root_CA.pem\n",
      "Adding debian:Comodo_AAA_Services_root.pem\n",
      "Adding debian:Starfield_Root_Certificate_Authority_-_G2.pem\n",
      "Adding debian:QuoVadis_Root_CA_2.pem\n",
      "Adding debian:Buypass_Class_2_Root_CA.pem\n",
      "Adding debian:Actalis_Authentication_Root_CA.pem\n",
      "Adding debian:Trustwave_Global_ECC_P256_Certification_Authority.pem\n",
      "Adding debian:QuoVadis_Root_CA_1_G3.pem\n",
      "Adding debian:DigiCert_Assured_ID_Root_G3.pem\n",
      "Adding debian:Entrust_Root_Certification_Authority_-_EC1.pem\n",
      "Adding debian:emSign_ECC_Root_CA_-_C3.pem\n",
      "Adding debian:OISTE_WISeKey_Global_Root_GC_CA.pem\n",
      "Adding debian:T-TeleSec_GlobalRoot_Class_3.pem\n",
      "Adding debian:GlobalSign_ECC_Root_CA_-_R5.pem\n",
      "Adding debian:Starfield_Services_Root_Certificate_Authority_-_G2.pem\n",
      "Adding debian:CFCA_EV_ROOT.pem\n",
      "Adding debian:Hellenic_Academic_and_Research_Institutions_RootCA_2015.pem\n",
      "Adding debian:Entrust_Root_Certification_Authority.pem\n",
      "Adding debian:GlobalSign_Root_CA.pem\n",
      "Adding debian:certSIGN_ROOT_CA.pem\n",
      "Adding debian:Atos_TrustedRoot_2011.pem\n",
      "Adding debian:GlobalSign_ECC_Root_CA_-_R4.pem\n",
      "Adding debian:SSL.com_EV_Root_Certification_Authority_RSA_R2.pem\n",
      "Adding debian:GlobalSign_Root_CA_-_R2.pem\n",
      "Adding debian:GeoTrust_Universal_CA_2.pem\n",
      "done.\n",
      "Setting up openjdk-11-jdk:amd64 (11.0.9+11-0ubuntu1~18.04.1) ...\n",
      "update-alternatives: using /usr/lib/jvm/java-11-openjdk-amd64/bin/jconsole to provide /usr/bin/jconsole (jconsole) in auto mode\n",
      "Processing triggers for libc-bin (2.27-3ubuntu1.2) ...\n",
      "Processing triggers for ca-certificates (20201027ubuntu0.18.04.1) ...\n",
      "Updating certificates in /etc/ssl/certs...\n",
      "0 added, 0 removed; done.\n",
      "Running hooks in /etc/ca-certificates/update.d...\n",
      "\n",
      "done.\n",
      "done.\n",
      "\u001b[91m  %\u001b[0m\u001b[91m Total\u001b[0m\u001b[91m \u001b[0m\u001b[91m   % Receiv\u001b[0m\u001b[91med\u001b[0m\u001b[91m %\u001b[0m\u001b[91m Xferd\u001b[0m\u001b[91m  \u001b[0m\u001b[91mAve\u001b[0m\u001b[91mrage\u001b[0m\u001b[91m \u001b[0m\u001b[91mS\u001b[0m\u001b[91mp\u001b[0m\u001b[91me\u001b[0m\u001b[91me\u001b[0m\u001b[91md   Ti\u001b[0m\u001b[91mme \u001b[0m\u001b[91m  \u001b[0m\u001b[91m Time\u001b[0m\u001b[91m \u001b[0m\u001b[91m \u001b[0m\u001b[91m   Ti\u001b[0m\u001b[91mm\u001b[0m\u001b[91me\u001b[0m\u001b[91m \u001b[0m\u001b[91m Curre\u001b[0m\u001b[91mnt\u001b[0m\u001b[91m\n",
      "     \u001b[0m\u001b[91m  \u001b[0m\u001b[91m   \u001b[0m\u001b[91m \u001b[0m\u001b[91m \u001b[0m\u001b[91m       \u001b[0m\u001b[91m  \u001b[0m\u001b[91m  \u001b[0m\u001b[91m  \u001b[0m\u001b[91m  \u001b[0m\u001b[91m     \u001b[0m\u001b[91m \u001b[0m\u001b[91mD\u001b[0m\u001b[91ml\u001b[0m\u001b[91mo\u001b[0m\u001b[91mad  \u001b[0m\u001b[91mUpl\u001b[0m\u001b[91mo\u001b[0m\u001b[91ma\u001b[0m\u001b[91md\u001b[0m\u001b[91m \u001b[0m\u001b[91m  Tota\u001b[0m\u001b[91ml\u001b[0m\u001b[91m \u001b[0m\u001b[91m \u001b[0m\u001b[91m S\u001b[0m\u001b[91mpent \u001b[0m\u001b[91m  \u001b[0m\u001b[91m Le\u001b[0m\u001b[91mft\u001b[0m\u001b[91m \u001b[0m\u001b[91m \u001b[0m\u001b[91mS\u001b[0m\u001b[91mp\u001b[0m\u001b[91meed\n",
      "100 1842k  100 1842k    0     0  5075k      0\u001b[0m\u001b[91m --:--:-- --:--:-- --:--:-- 5075k91m 0\u001b[0m\u001b[91m \u001b[0m\u001b[91m  \u001b[0m\u001b[91m \u001b[0m\u001b[91m0\u001b[0m\u001b[91m \u001b[0m\u001b[91m \u001b[0m\u001b[91m   \u001b[0m\u001b[91m0  \u001b[0m\u001b[91m \u001b[0m\u001b[91m \u001b[0m\u001b[91m  \u001b[0m\u001b[91m0\u001b[0m\u001b[91m  \u001b[0m\u001b[91m \u001b[0m\u001b[91m  \u001b[0m\u001b[91m \u001b[0m\u001b[91m0\u001b[0m\u001b[91m -\u001b[0m\u001b[91m-\u001b[0m\u001b[91m:--\u001b[0m\u001b[91m:\u001b[0m\u001b[91m-\u001b[0m\u001b[91m-\u001b[0m\u001b[91m --:--:-- --:--:--     0\u001b[0m\u001b[91m\n",
      "\u001b[0mCollecting pip\n",
      "  Downloading pip-20.2.4-py2.py3-none-any.whl (1.5 MB)\n",
      "Collecting setuptools\n",
      "  Downloading setuptools-50.3.2-py3-none-any.whl (785 kB)\n",
      "Collecting wheel\n",
      "  Downloading wheel-0.35.1-py2.py3-none-any.whl (33 kB)\n",
      "Installing collected packages: pip, setuptools, wheel\n",
      "Successfully installed pip-20.2.4 setuptools-50.3.2 wheel-0.35.1\n",
      "Removing intermediate container a469b4ccc086\n",
      " ---> baf4891b0531\n",
      "Step 4/16 : RUN update-alternatives --install /usr/bin/python python /usr/bin/python3 1\n",
      " ---> Running in 78f87c2790c8\n",
      "update-alternatives: using /usr/bin/python3 to provide /usr/bin/python (python) in auto mode\n",
      "Removing intermediate container 78f87c2790c8\n",
      " ---> 437e1ece2902\n",
      "Step 5/16 : RUN update-alternatives --install /usr/local/bin/pip pip /usr/local/bin/pip3 1\n",
      " ---> Running in 80351b1e557d\n",
      "update-alternatives: using /usr/local/bin/pip3 to provide /usr/local/bin/pip (pip) in auto mode\n",
      "\u001b[91mupdate-alternatives: warning: not replacing /usr/local/bin/pip with a link\n",
      "\u001b[0mRemoving intermediate container 80351b1e557d\n",
      " ---> 4e10d1f979b1\n",
      "Step 6/16 : RUN pip install --no-cache-dir psutil                 --no-cache-dir torch                 --no-cache-dir torchvision\n",
      " ---> Running in fc9cc8c67de5\n",
      "Collecting psutil\n",
      "  Downloading psutil-5.7.3.tar.gz (465 kB)\n",
      "Collecting torch\n",
      "  Downloading torch-1.7.0-cp36-cp36m-manylinux1_x86_64.whl (776.7 MB)\n",
      "Collecting torchvision\n",
      "  Downloading torchvision-0.8.1-cp36-cp36m-manylinux1_x86_64.whl (12.8 MB)\n",
      "Collecting dataclasses\n",
      "  Downloading dataclasses-0.7-py3-none-any.whl (18 kB)\n",
      "Collecting numpy\n",
      "  Downloading numpy-1.19.4-cp36-cp36m-manylinux2010_x86_64.whl (14.5 MB)\n",
      "Collecting typing-extensions\n",
      "  Downloading typing_extensions-3.7.4.3-py3-none-any.whl (22 kB)\n",
      "Collecting future\n",
      "  Downloading future-0.18.2.tar.gz (829 kB)\n",
      "Collecting pillow>=4.1.1\n",
      "  Downloading Pillow-8.0.1-cp36-cp36m-manylinux1_x86_64.whl (2.2 MB)\n",
      "Building wheels for collected packages: psutil, future\n",
      "  Building wheel for psutil (setup.py): started\n",
      "  Building wheel for psutil (setup.py): finished with status 'done'\n",
      "  Created wheel for psutil: filename=psutil-5.7.3-cp36-cp36m-linux_x86_64.whl size=281534 sha256=095854e199c0647cc44b56934b39952276f93efb5581cc1c13a7b5bb17365605\n",
      "  Stored in directory: /tmp/pip-ephem-wheel-cache-wzdrxitc/wheels/fa/ad/67/90bbaacdcfe970960dd5158397f23a6579b51d853720d7856d\n",
      "  Building wheel for future (setup.py): started\n",
      "  Building wheel for future (setup.py): finished with status 'done'\n",
      "  Created wheel for future: filename=future-0.18.2-py3-none-any.whl size=491059 sha256=ae6333693c5483c30eb02c9a8b4e26f8721aa8814af1f159f1af226647ceb7d8\n",
      "  Stored in directory: /tmp/pip-ephem-wheel-cache-wzdrxitc/wheels/6e/9c/ed/4499c9865ac1002697793e0ae05ba6be33553d098f3347fb94\n",
      "Successfully built psutil future\n",
      "Installing collected packages: psutil, dataclasses, numpy, typing-extensions, future, torch, pillow, torchvision\n",
      "Successfully installed dataclasses-0.7 future-0.18.2 numpy-1.19.4 pillow-8.0.1 psutil-5.7.3 torch-1.7.0 torchvision-0.8.1 typing-extensions-3.7.4.3\n",
      "Removing intermediate container fc9cc8c67de5\n",
      " ---> b8416eae66bb\n",
      "Step 7/16 : ADD serve serve\n",
      " ---> ef135b78261a\n",
      "Step 8/16 : RUN pip install ../serve/\n",
      " ---> Running in 73a081631204\n",
      "Processing /serve\n",
      "Requirement already satisfied: Pillow in /usr/local/lib/python3.6/dist-packages (from torchserve==0.0.1b20201103) (8.0.1)\n",
      "Requirement already satisfied: psutil in /usr/local/lib/python3.6/dist-packages (from torchserve==0.0.1b20201103) (5.7.3)\n",
      "Requirement already satisfied: future in /usr/local/lib/python3.6/dist-packages (from torchserve==0.0.1b20201103) (0.18.2)\n",
      "Building wheels for collected packages: torchserve\n",
      "  Building wheel for torchserve (setup.py): started\n",
      "  Building wheel for torchserve (setup.py): still running...\n",
      "  Building wheel for torchserve (setup.py): still running...\n",
      "  Building wheel for torchserve (setup.py): still running...\n",
      "  Building wheel for torchserve (setup.py): finished with status 'done'\n",
      "  Created wheel for torchserve: filename=torchserve-0.0.1b20201103-py3-none-any.whl size=4548888 sha256=e26128290026927475963ebf30653e1cc811c840559618bfe4e16b97d8d382f5\n",
      "  Stored in directory: /tmp/pip-ephem-wheel-cache-f2cu7w6w/wheels/e0/2d/47/eeb1e34cdf27eebe4ed67c397489eaadf725da4a8e148eb347\n",
      "Successfully built torchserve\n",
      "Installing collected packages: torchserve\n",
      "Successfully installed torchserve-0.0.1b20201103\n",
      "Removing intermediate container 73a081631204\n",
      " ---> b42d991d0b08\n",
      "Step 9/16 : COPY dockerd-entrypoint.sh /usr/local/bin/dockerd-entrypoint.sh\n",
      " ---> 4b4f787b3d67\n",
      "Step 10/16 : RUN chmod +x /usr/local/bin/dockerd-entrypoint.sh\n",
      " ---> Running in f15a92fabd35\n",
      "Removing intermediate container f15a92fabd35\n",
      " ---> 9bfdb5297612\n",
      "Step 11/16 : RUN mkdir -p /home/model-server/ && mkdir -p /home/model-server/tmp\n",
      " ---> Running in a9cf79203ee2\n",
      "Removing intermediate container a9cf79203ee2\n",
      " ---> 16017e499f3f\n",
      "Step 12/16 : COPY config.properties /home/model-server/config.properties\n",
      " ---> 925efa79b1dc\n",
      "Step 13/16 : WORKDIR /home/model-server\n",
      " ---> Running in cae2712195e2\n",
      "Removing intermediate container cae2712195e2\n",
      " ---> 8995ed5e3d30\n",
      "Step 14/16 : ENV TEMP=/home/model-server/tmp\n",
      " ---> Running in 2bbfc5fb254b\n",
      "Removing intermediate container 2bbfc5fb254b\n",
      " ---> 4b29d899aaaa\n",
      "Step 15/16 : ENTRYPOINT [\"/usr/local/bin/dockerd-entrypoint.sh\"]\n",
      " ---> Running in b71c237f7c65\n",
      "Removing intermediate container b71c237f7c65\n",
      " ---> 2645756f2a93\n",
      "Step 16/16 : CMD [\"serve\"]\n",
      " ---> Running in c15d8a0f4bd3\n",
      "Removing intermediate container c15d8a0f4bd3\n",
      " ---> 31cb03dfaa8a\n",
      "Successfully built 31cb03dfaa8a\n",
      "Successfully tagged torchserve:v1\n",
      "WARNING! Using --password via the CLI is insecure. Use --password-stdin.\n",
      "WARNING! Your password will be stored unencrypted in /home/ec2-user/.docker/config.json.\n",
      "Configure a credential helper to remove this warning. See\n",
      "https://docs.docker.com/engine/reference/commandline/login/#credentials-store\n",
      "\n",
      "Login Succeeded\n",
      "The push refers to repository [364546270619.dkr.ecr.us-east-2.amazonaws.com/torchserve]\n",
      "\n",
      "\u001b[1B9ddc3d34: Preparing \n",
      "\u001b[1Bca5aa7be: Preparing \n",
      "\u001b[1B2ed45e16: Preparing \n",
      "\u001b[1B82455182: Preparing \n",
      "\u001b[1Bffbd0c53: Preparing \n",
      "\u001b[1B10e1bee8: Preparing \n",
      "\u001b[1B830c1c04: Preparing \n",
      "\u001b[1B7c899c65: Preparing \n",
      "\u001b[1Bd47b9809: Preparing \n",
      "\u001b[1B0ee983bc: Preparing \n",
      "\u001b[1B4df0ad6c: Preparing \n",
      "\u001b[1Bdf553184: Preparing \n",
      "\u001b[7B830c1c04: Pushed    1.67GB/1.665GB\u001b[2K\u001b[9A\u001b[2K\u001b[10A\u001b[2K\u001b[9A\u001b[2K\u001b[13A\u001b[2K\u001b[9A\u001b[2K\u001b[6A\u001b[2K\u001b[6A\u001b[2K\u001b[7A\u001b[2K\u001b[8A\u001b[2K\u001b[5A\u001b[2K\u001b[9A\u001b[2K\u001b[8A\u001b[2K\u001b[7A\u001b[2K\u001b[9A\u001b[2K\u001b[7A\u001b[2K\u001b[8A\u001b[2K\u001b[8A\u001b[2K\u001b[7A\u001b[2K\u001b[8A\u001b[2K\u001b[7A\u001b[2K\u001b[8A\u001b[2K\u001b[9A\u001b[2K\u001b[7A\u001b[2K\u001b[9A\u001b[2K\u001b[7A\u001b[2K\u001b[8A\u001b[2K\u001b[7A\u001b[2K\u001b[9A\u001b[2K\u001b[8A\u001b[2K\u001b[9A\u001b[2K\u001b[6A\u001b[2K\u001b[9A\u001b[2K\u001b[8A\u001b[2K\u001b[7A\u001b[2K\u001b[8A\u001b[2K\u001b[7A\u001b[2K\u001b[7A\u001b[2K\u001b[8A\u001b[2K\u001b[7A\u001b[2K\u001b[9A\u001b[2K\u001b[7A\u001b[2K\u001b[9A\u001b[2K\u001b[7A\u001b[2K\u001b[8A\u001b[2K\u001b[8A\u001b[2K\u001b[9A\u001b[2K\u001b[7A\u001b[2K\u001b[8A\u001b[2K\u001b[2A\u001b[2K\u001b[4A\u001b[2K\u001b[7A\u001b[2K\u001b[1A\u001b[2K\u001b[7A\u001b[2K\u001b[8A\u001b[2K\u001b[7A\u001b[2K\u001b[8A\u001b[2K\u001b[9A\u001b[2K\u001b[7A\u001b[2K\u001b[8A\u001b[2K\u001b[4A\u001b[2K\u001b[9A\u001b[2K\u001b[4A\u001b[2K\u001b[9A\u001b[2K\u001b[7A\u001b[2K\u001b[4A\u001b[2K\u001b[9A\u001b[2K\u001b[9A\u001b[2K\u001b[8A\u001b[2K\u001b[4A\u001b[2K\u001b[7A\u001b[2K\u001b[4A\u001b[2K\u001b[9A\u001b[2K\u001b[4A\u001b[2K\u001b[8A\u001b[2K\u001b[4A\u001b[2K\u001b[9A\u001b[2K\u001b[8A\u001b[2K\u001b[9A\u001b[2K\u001b[4A\u001b[2K\u001b[8A\u001b[2K\u001b[7A\u001b[2K\u001b[8A\u001b[2K\u001b[4A\u001b[2K\u001b[7A\u001b[2K\u001b[8A\u001b[2K\u001b[7A\u001b[2K\u001b[8A\u001b[2K\u001b[4A\u001b[2K\u001b[7A\u001b[2K\u001b[4A\u001b[2K\u001b[7A\u001b[2K\u001b[9A\u001b[2K\u001b[9A\u001b[2K\u001b[8A\u001b[2K\u001b[4A\u001b[2K\u001b[9A\u001b[2K\u001b[7A\u001b[2K\u001b[4A\u001b[2K\u001b[9A\u001b[2K\u001b[7A\u001b[2K\u001b[4A\u001b[2K\u001b[7A\u001b[2K\u001b[4A\u001b[2K\u001b[9A\u001b[2K\u001b[7A\u001b[2K\u001b[4A\u001b[2K\u001b[9A\u001b[2K\u001b[4A\u001b[2K\u001b[7A\u001b[2K\u001b[7A\u001b[2K\u001b[9A\u001b[2K\u001b[7A\u001b[2K\u001b[4A\u001b[2K\u001b[9A\u001b[2K\u001b[4A\u001b[2K\u001b[7A\u001b[2K\u001b[4A\u001b[2K\u001b[9A\u001b[2K\u001b[7A\u001b[2K\u001b[9A\u001b[2K\u001b[4A\u001b[2K\u001b[9A\u001b[2K\u001b[4A\u001b[2K\u001b[9A\u001b[2K\u001b[4A\u001b[2K\u001b[7A\u001b[2K\u001b[9A\u001b[2K\u001b[4A\u001b[2K\u001b[9A\u001b[2K\u001b[4A\u001b[2K\u001b[7A\u001b[2K\u001b[9A\u001b[2K\u001b[8A\u001b[2K\u001b[9A\u001b[2K\u001b[7A\u001b[2K\u001b[4A\u001b[2K\u001b[9A\u001b[2K\u001b[7A\u001b[2K\u001b[4A\u001b[2K\u001b[7A\u001b[2K\u001b[9A\u001b[2K\u001b[4A\u001b[2K\u001b[9A\u001b[2K\u001b[4A\u001b[2K\u001b[9A\u001b[2K\u001b[4A\u001b[2K\u001b[7A\u001b[2K\u001b[4A\u001b[2K\u001b[9A\u001b[2K\u001b[4A\u001b[2K\u001b[9A\u001b[2K\u001b[4A\u001b[2K\u001b[9A\u001b[2K\u001b[7A\u001b[2K\u001b[9A\u001b[2K\u001b[4A\u001b[2K\u001b[9A\u001b[2K\u001b[7A\u001b[2K\u001b[9A\u001b[2K\u001b[4A\u001b[2K\u001b[7A\u001b[2K\u001b[4A\u001b[2K\u001b[7A\u001b[2K\u001b[9A\u001b[2K\u001b[4A\u001b[2K\u001b[9A\u001b[2K\u001b[7A\u001b[2K\u001b[4A\u001b[2K\u001b[9A\u001b[2K\u001b[4A\u001b[2K\u001b[9A\u001b[2K\u001b[4A\u001b[2K\u001b[9A\u001b[2K\u001b[7A\u001b[2K\u001b[9A\u001b[2K\u001b[4A\u001b[2K\u001b[9A\u001b[2K\u001b[4A\u001b[2K\u001b[7A\u001b[2K\u001b[4A\u001b[2K\u001b[9A\u001b[2K\u001b[7A\u001b[2K\u001b[9A\u001b[2K\u001b[4A\u001b[2K\u001b[9A\u001b[2K\u001b[7A\u001b[2K\u001b[7A\u001b[2K\u001b[9A\u001b[2K\u001b[7A\u001b[2K\u001b[4A\u001b[2K\u001b[4A\u001b[2K\u001b[7A\u001b[2K\u001b[4A\u001b[2K\u001b[7A\u001b[2K\u001b[7A\u001b[2K\u001b[4A\u001b[2K\u001b[7A\u001b[2K\u001b[4A\u001b[2K\u001b[7A\u001b[2K\u001b[9A\u001b[2K\u001b[7A\u001b[2K\u001b[9A\u001b[2K\u001b[4A\u001b[2K\u001b[9A\u001b[2K\u001b[7A\u001b[2K\u001b[4A\u001b[2K\u001b[7A\u001b[2K\u001b[9A\u001b[2K\u001b[7A\u001b[2K\u001b[4A\u001b[2K\u001b[9A\u001b[2K\u001b[4A\u001b[2K\u001b[7A\u001b[2K\u001b[9A\u001b[2K\u001b[4A\u001b[2K\u001b[7A\u001b[2K\u001b[9A\u001b[2K\u001b[4A\u001b[2K\u001b[7A\u001b[2K\u001b[4A\u001b[2K\u001b[7A\u001b[2K\u001b[9A\u001b[2K\u001b[7A\u001b[2K\u001b[4A\u001b[2K\u001b[7A\u001b[2K\u001b[9A\u001b[2K\u001b[7A\u001b[2K\u001b[9A\u001b[2K\u001b[7A\u001b[2K\u001b[9A\u001b[2K\u001b[7A\u001b[2K\u001b[9A\u001b[2K\u001b[4A\u001b[2K\u001b[9A\u001b[2K\u001b[7A\u001b[2K\u001b[4A\u001b[2K\u001b[9A\u001b[2K\u001b[4A\u001b[2K\u001b[9A\u001b[2K\u001b[7A\u001b[2K\u001b[9A\u001b[2K\u001b[4A\u001b[2K\u001b[7A\u001b[2K\u001b[4A\u001b[2K\u001b[7A\u001b[2K\u001b[4A\u001b[2K\u001b[9A\u001b[2K\u001b[4A\u001b[2K\u001b[4A\u001b[2K\u001b[4A\u001b[2K\u001b[7A\u001b[2K\u001b[9A\u001b[2K\u001b[4A\u001b[2K\u001b[7A\u001b[2K\u001b[4A\u001b[2K\u001b[7A\u001b[2K\u001b[7A\u001b[2K\u001b[4A\u001b[2K\u001b[7A\u001b[2K\u001b[4A\u001b[2K\u001b[4A\u001b[2K\u001b[4A\u001b[2K\u001b[7A\u001b[2K\u001b[4A\u001b[2K\u001b[9A\u001b[2K\u001b[7A\u001b[2K\u001b[4A\u001b[2K\u001b[9A\u001b[2K\u001b[4A\u001b[2K\u001b[7A\u001b[2K\u001b[4A\u001b[2K\u001b[9A\u001b[2K\u001b[9A\u001b[2K\u001b[9A\u001b[2K\u001b[9A\u001b[2K\u001b[7A\u001b[2K\u001b[7A\u001b[2K\u001b[4A\u001b[2K\u001b[4A\u001b[2K\u001b[7A\u001b[2K\u001b[4A\u001b[2K\u001b[4A\u001b[2K\u001b[7A\u001b[2K\u001b[9A\u001b[2K\u001b[4A\u001b[2K\u001b[9A\u001b[2K\u001b[4A\u001b[2K\u001b[9A\u001b[2K\u001b[4A\u001b[2K\u001b[9A\u001b[2K\u001b[4A\u001b[2K\u001b[9A\u001b[2K\u001b[4A\u001b[2K\u001b[9A\u001b[2K\u001b[4A\u001b[2K\u001b[9A\u001b[2K\u001b[4A\u001b[2K\u001b[9A\u001b[2K\u001b[4A\u001b[2K\u001b[9A\u001b[2K\u001b[4A\u001b[2K\u001b[9A\u001b[2K\u001b[4A\u001b[2K\u001b[9A\u001b[2K\u001b[4A\u001b[2K\u001b[4A\u001b[2K\u001b[9A\u001b[2K\u001b[4A\u001b[2K\u001b[9A\u001b[2K\u001b[4A\u001b[2K\u001b[7A\u001b[2K\u001b[4A\u001b[2K\u001b[9A\u001b[2K\u001b[4A\u001b[2K\u001b[9A\u001b[2K\u001b[4A\u001b[2K\u001b[9A\u001b[2K\u001b[4A\u001b[2K\u001b[9A\u001b[2K\u001b[4A\u001b[2K\u001b[9A\u001b[2K\u001b[4A\u001b[2K\u001b[9A\u001b[2K\u001b[4A\u001b[2K\u001b[9A\u001b[2K\u001b[4A\u001b[2K\u001b[9A\u001b[2K\u001b[4A\u001b[2K\u001b[9A\u001b[2K\u001b[4A\u001b[2K\u001b[9A\u001b[2K\u001b[4A\u001b[2K\u001b[9A\u001b[2K\u001b[4A\u001b[2K\u001b[9A\u001b[2K\u001b[4A\u001b[2K\u001b[9A\u001b[2K\u001b[4A\u001b[2K\u001b[9A\u001b[2K\u001b[4A\u001b[2K\u001b[9A\u001b[2K\u001b[4A\u001b[2K\u001b[9A\u001b[2K\u001b[7A\u001b[2K\u001b[4A\u001b[2K\u001b[4A\u001b[2K\u001b[9A\u001b[2K\u001b[4A\u001b[2K\u001b[9A\u001b[2K\u001b[7A\u001b[2K\u001b[4A\u001b[2K\u001b[9A\u001b[2K\u001b[7A\u001b[2K\u001b[4A\u001b[2K\u001b[7A\u001b[2K\u001b[4A\u001b[2K\u001b[4A\u001b[2K\u001b[7A\u001b[2K\u001b[7A\u001b[2K\u001b[7A\u001b[2K\u001b[4A\u001b[2K\u001b[7A\u001b[2K\u001b[4A\u001b[2K\u001b[7A\u001b[2K\u001b[4A\u001b[2K\u001b[4A\u001b[2K\u001b[7A\u001b[2K\u001b[7A\u001b[2K\u001b[4A\u001b[2K\u001b[7A\u001b[2K\u001b[4A\u001b[2K\u001b[7A\u001b[2K\u001b[4A\u001b[2K\u001b[7A\u001b[2K\u001b[4A\u001b[2K\u001b[7A\u001b[2K\u001b[4A\u001b[2K\u001b[7A\u001b[2K\u001b[4A\u001b[2K\u001b[7A\u001b[2K\u001b[4A\u001b[2K\u001b[7A\u001b[2K\u001b[4A\u001b[2K\u001b[7A\u001b[2K\u001b[4A\u001b[2K\u001b[7A\u001b[2K\u001b[4A\u001b[2K\u001b[7A\u001b[2K\u001b[4A\u001b[2K\u001b[4A\u001b[2K\u001b[4A\u001b[2K\u001b[7A\u001b[2K\u001b[4A\u001b[2K\u001b[4A\u001b[2K\u001b[7A\u001b[2K\u001b[4A\u001b[2K\u001b[7A\u001b[2K\u001b[4A\u001b[2K\u001b[7A\u001b[2K\u001b[4A\u001b[2K\u001b[7A\u001b[2K\u001b[4A\u001b[2K\u001b[7A\u001b[2K\u001b[7A\u001b[2K\u001b[4A\u001b[2K\u001b[7A\u001b[2K\u001b[4A\u001b[2K\u001b[7A\u001b[2K\u001b[4A\u001b[2K\u001b[7A\u001b[2K\u001b[4A\u001b[2K\u001b[7A\u001b[2K\u001b[4A\u001b[2K\u001b[4A\u001b[2K\u001b[7A\u001b[2K\u001b[7A\u001b[2K\u001b[7A\u001b[2K\u001b[7A\u001b[2K\u001b[4A\u001b[2K\u001b[4A\u001b[2K\u001b[4A\u001b[2K\u001b[7A\u001b[2K\u001b[4A\u001b[2K\u001b[4A\u001b[2K\u001b[7A\u001b[2K\u001b[7A\u001b[2K\u001b[7A\u001b[2K\u001b[4A\u001b[2K\u001b[7A\u001b[2K\u001b[4A\u001b[2K\u001b[7A\u001b[2K\u001b[4A\u001b[2K\u001b[7A\u001b[2K\u001b[4A\u001b[2K\u001b[7A\u001b[2K\u001b[4A\u001b[2K\u001b[7A\u001b[2K\u001b[4A\u001b[2K\u001b[7A\u001b[2K\u001b[4A\u001b[2K\u001b[7A\u001b[2K\u001b[4A\u001b[2K\u001b[7A\u001b[2K\u001b[4A\u001b[2K\u001b[7A\u001b[2K\u001b[7A\u001b[2K\u001b[4A\u001b[2K\u001b[7A\u001b[2K\u001b[4A\u001b[2K\u001b[7A\u001b[2K\u001b[4A\u001b[2K\u001b[7A\u001b[2K\u001b[4A\u001b[2K\u001b[7A\u001b[2K\u001b[4A\u001b[2K\u001b[7A\u001b[2K\u001b[4A\u001b[2K\u001b[7A\u001b[2K\u001b[4A\u001b[2K\u001b[7A\u001b[2K\u001b[4A\u001b[2K\u001b[7A\u001b[2K\u001b[4A\u001b[2K\u001b[7A\u001b[2K\u001b[4A\u001b[2K\u001b[7A\u001b[2K\u001b[4A\u001b[2K\u001b[7A\u001b[2K\u001b[7A\u001b[2K\u001b[4A\u001b[2K\u001b[7A\u001b[2K\u001b[4A\u001b[2K\u001b[7A\u001b[2K\u001b[4A\u001b[2K\u001b[4A\u001b[2K\u001b[4A\u001b[2K\u001b[7A\u001b[2K\u001b[4A\u001b[2K\u001b[4A\u001b[2K\u001b[4A\u001b[2K\u001b[7A\u001b[2K\u001b[4A\u001b[2K\u001b[7A\u001b[2K\u001b[4A\u001b[2K\u001b[4A\u001b[2K\u001b[7A\u001b[2K\u001b[4A\u001b[2K\u001b[7A\u001b[2K\u001b[4A\u001b[2K\u001b[7A\u001b[2K\u001b[4A\u001b[2K\u001b[7A\u001b[2K\u001b[4A\u001b[2K\u001b[7A\u001b[2K\u001b[7A\u001b[2K\u001b[7A\u001b[2K\u001b[4A\u001b[2K\u001b[7A\u001b[2K\u001b[4A\u001b[2K\u001b[7A\u001b[2K\u001b[4A\u001b[2K\u001b[7A\u001b[2K\u001b[4A\u001b[2K\u001b[7A\u001b[2K\u001b[4A\u001b[2K\u001b[7A\u001b[2K\u001b[4A\u001b[2K\u001b[7A\u001b[2K\u001b[4A\u001b[2K\u001b[7A\u001b[2K\u001b[7A\u001b[2K\u001b[4A\u001b[2K\u001b[7A\u001b[2K\u001b[4A\u001b[2K\u001b[7A\u001b[2K\u001b[4A\u001b[2K\u001b[7A\u001b[2K\u001b[7A\u001b[2K\u001b[7A\u001b[2K\u001b[7A\u001b[2K\u001b[7A\u001b[2K\u001b[4A\u001b[2K\u001b[7A\u001b[2K\u001b[4A\u001b[2K\u001b[7A\u001b[2K\u001b[4A\u001b[2K\u001b[7A\u001b[2K\u001b[4A\u001b[2K\u001b[7A\u001b[2K\u001b[4A\u001b[2K\u001b[7A\u001b[2K\u001b[4A\u001b[2K\u001b[7A\u001b[2K\u001b[4A\u001b[2K\u001b[4A\u001b[2K\u001b[7A\u001b[2K\u001b[4A\u001b[2K\u001b[7A\u001b[2K\u001b[4A\u001b[2K\u001b[7A\u001b[2K\u001b[4A\u001b[2K\u001b[7A\u001b[2K\u001b[4A\u001b[2K\u001b[4A\u001b[2K\u001b[7A\u001b[2K\u001b[7A\u001b[2K\u001b[7A\u001b[2K\u001b[4A\u001b[2K\u001b[7A\u001b[2K\u001b[4A\u001b[2K\u001b[7A\u001b[2K\u001b[4A\u001b[2K\u001b[7A\u001b[2K\u001b[4A\u001b[2K\u001b[7A\u001b[2K\u001b[7A\u001b[2K\u001b[4A\u001b[2K\u001b[7A\u001b[2K\u001b[7A\u001b[2K\u001b[7A\u001b[2K\u001b[7A\u001b[2K\u001b[7A\u001b[2K\u001b[7A\u001b[2K\u001b[4A\u001b[2K\u001b[7A\u001b[2K\u001b[4A\u001b[2K\u001b[7A\u001b[2K\u001b[4A\u001b[2K\u001b[7A\u001b[2K\u001b[4A\u001b[2K\u001b[7A\u001b[2K\u001b[4A\u001b[2K\u001b[7A\u001b[2K\u001b[4A\u001b[2K\u001b[4A\u001b[2K\u001b[7A\u001b[2K\u001b[4A\u001b[2K\u001b[4A\u001b[2K\u001b[7A\u001b[2K\u001b[4A\u001b[2K\u001b[4A\u001b[2K\u001b[4A\u001b[2K\u001b[7A\u001b[2K\u001b[4A\u001b[2K\u001b[7A\u001b[2K\u001b[4A\u001b[2K\u001b[7A\u001b[2K\u001b[4A\u001b[2K\u001b[7A\u001b[2K\u001b[4A\u001b[2K\u001b[4A\u001b[2K\u001b[4A\u001b[2K\u001b[4A\u001b[2K\u001b[7A\u001b[2K\u001b[7A\u001b[2K\u001b[7A\u001b[2K\u001b[4A\u001b[2K\u001b[7A\u001b[2K\u001b[4A\u001b[2K\u001b[7A\u001b[2K\u001b[4A\u001b[2K\u001b[7A\u001b[2K\u001b[4A\u001b[2K\u001b[7A\u001b[2K\u001b[4A\u001b[2K\u001b[7A\u001b[2K\u001b[4A\u001b[2K\u001b[7A\u001b[2K\u001b[4A\u001b[2K\u001b[7A\u001b[2K\u001b[4A\u001b[2K\u001b[7A\u001b[2K\u001b[7A\u001b[2K\u001b[4A\u001b[2K\u001b[7A\u001b[2K\u001b[4A\u001b[2K\u001b[4A\u001b[2K\u001b[4A\u001b[2K\u001b[7A\u001b[2K\u001b[4A\u001b[2K\u001b[7A\u001b[2K\u001b[7A\u001b[2K\u001b[7A\u001b[2K\u001b[4A\u001b[2K\u001b[7A\u001b[2K\u001b[4A\u001b[2K\u001b[7A\u001b[2K\u001b[4A\u001b[2K\u001b[7A\u001b[2K\u001b[7A\u001b[2K\u001b[7A\u001b[2K\u001b[4A\u001b[2K\u001b[7A\u001b[2K\u001b[4A\u001b[2K\u001b[7A\u001b[2K\u001b[4A\u001b[2K\u001b[7A\u001b[2K\u001b[4A\u001b[2K\u001b[4A\u001b[2K\u001b[7A\u001b[2K\u001b[7A\u001b[2K\u001b[2K\u001b[7A\u001b[2K\u001b[4A\u001b[2K\u001b[7A\u001b[2K\u001b[4A\u001b[2K\u001b[4A\u001b[2K\u001b[7A\u001b[2K\u001b[7A\u001b[2K\u001b[4A\u001b[2K\u001b[4A\u001b[2K\u001b[7A\u001b[2K\u001b[4A\u001b[2K\u001b[7A\u001b[2K\u001b[7A\u001b[2K\u001b[7A\u001b[2K\u001b[4A\u001b[2K\u001b[7A\u001b[2K\u001b[4A\u001b[2K\u001b[7A\u001b[2K\u001b[4A\u001b[2K\u001b[7A\u001b[2K\u001b[4A\u001b[2K\u001b[7A\u001b[2K\u001b[7A\u001b[2K\u001b[4A\u001b[2K\u001b[7A\u001b[2K\u001b[4A\u001b[2K\u001b[7A\u001b[2K\u001b[4A\u001b[2KPushing  523.8MB/1.665GB\u001b[7A\u001b[2K\u001b[4A\u001b[2K\u001b[7A\u001b[2K\u001b[4A\u001b[2K\u001b[7A\u001b[2K\u001b[4A\u001b[2K\u001b[4A\u001b[2K\u001b[7A\u001b[2K\u001b[4A\u001b[2K\u001b[7A\u001b[2K\u001b[7A\u001b[2K\u001b[4A\u001b[2K\u001b[7A\u001b[2K\u001b[7A\u001b[2K\u001b[7A\u001b[2K\u001b[7A\u001b[2K\u001b[4A\u001b[2K\u001b[7A\u001b[2K\u001b[7A\u001b[2K\u001b[7A\u001b[2K\u001b[4A\u001b[2K\u001b[7A\u001b[2K\u001b[7A\u001b[2K\u001b[4A\u001b[2K\u001b[7A\u001b[2K\u001b[4A\u001b[2K\u001b[7A\u001b[2K\u001b[4A\u001b[2K\u001b[4A\u001b[2K\u001b[7A\u001b[2K\u001b[7A\u001b[2K\u001b[4A\u001b[2K\u001b[7A\u001b[2K\u001b[4A\u001b[2K\u001b[7A\u001b[2K\u001b[7A\u001b[2K\u001b[7A\u001b[2K\u001b[4A\u001b[2K\u001b[7A\u001b[2K\u001b[4A\u001b[2K\u001b[7A\u001b[2K\u001b[4A\u001b[2K\u001b[7A\u001b[2K\u001b[4A\u001b[2K\u001b[7A\u001b[2K\u001b[4A\u001b[2K\u001b[7A\u001b[2K\u001b[7A\u001b[2K\u001b[7A\u001b[2K\u001b[7A\u001b[2K\u001b[7A\u001b[2K\u001b[7A\u001b[2K\u001b[4A\u001b[2K\u001b[7A\u001b[2K\u001b[7A\u001b[2K\u001b[4A\u001b[2K\u001b[7A\u001b[2K\u001b[7A\u001b[2K\u001b[4A\u001b[2K\u001b[7A\u001b[2K\u001b[7A\u001b[2K\u001b[7A\u001b[2K\u001b[4A\u001b[2K\u001b[7A\u001b[2K\u001b[7A\u001b[2K\u001b[4A\u001b[2K\u001b[7A\u001b[2K\u001b[7A\u001b[2K\u001b[7A\u001b[2K\u001b[4A\u001b[2K\u001b[7A\u001b[2K\u001b[7A\u001b[2K\u001b[4A\u001b[2K\u001b[7A\u001b[2K\u001b[7A\u001b[2K\u001b[4A\u001b[2K\u001b[7A\u001b[2K\u001b[7A\u001b[2K\u001b[4A\u001b[2K\u001b[7A\u001b[2K\u001b[4A\u001b[2K\u001b[7A\u001b[2K\u001b[4A\u001b[2K\u001b[7A\u001b[2K\u001b[4A\u001b[2K\u001b[4A\u001b[2K\u001b[7A\u001b[2K\u001b[4A\u001b[2KPushing  577.8MB/1.665GB\u001b[7A\u001b[2K\u001b[7A\u001b[2K\u001b[7A\u001b[2K\u001b[7A\u001b[2K\u001b[7A\u001b[2K\u001b[4A\u001b[2K\u001b[7A\u001b[2K\u001b[4A\u001b[2K\u001b[7A\u001b[2K\u001b[4A\u001b[2K\u001b[7A\u001b[2K\u001b[7A\u001b[2K\u001b[7A\u001b[2K\u001b[7A\u001b[2K\u001b[4A\u001b[2K\u001b[7A\u001b[2K\u001b[7A\u001b[2K\u001b[7A\u001b[2K\u001b[7A\u001b[2K\u001b[7A\u001b[2K\u001b[7A\u001b[2K\u001b[4A\u001b[2K\u001b[4A\u001b[2K\u001b[7A\u001b[2K\u001b[7A\u001b[2K\u001b[4A\u001b[2K\u001b[7A\u001b[2K\u001b[4A\u001b[2K\u001b[4A\u001b[2K\u001b[7A\u001b[2K\u001b[4A\u001b[2K\u001b[7A\u001b[2K\u001b[4A\u001b[2K\u001b[7A\u001b[2K\u001b[7A\u001b[2K\u001b[4A\u001b[2K\u001b[7A\u001b[2K\u001b[7A\u001b[2K\u001b[4A\u001b[2K\u001b[4A\u001b[2K\u001b[7A\u001b[2K\u001b[7A\u001b[2K\u001b[7A\u001b[2K\u001b[4A\u001b[2K\u001b[7A\u001b[2K\u001b[4A\u001b[2K\u001b[7A\u001b[2K\u001b[4A\u001b[2K\u001b[7A\u001b[2K\u001b[7A\u001b[2K\u001b[7A\u001b[2K\u001b[4A\u001b[2K\u001b[4A\u001b[2K\u001b[4A\u001b[2K\u001b[7A\u001b[2K\u001b[4A\u001b[2K\u001b[7A\u001b[2K\u001b[4A\u001b[2K\u001b[7A\u001b[2K\u001b[7A\u001b[2K\u001b[4A\u001b[2K\u001b[7A\u001b[2K\u001b[7A\u001b[2K\u001b[4A\u001b[2K\u001b[7A\u001b[2K\u001b[7A\u001b[2K\u001b[7A\u001b[2K\u001b[4A\u001b[2K\u001b[7A\u001b[2K\u001b[4A\u001b[2K\u001b[7A\u001b[2K\u001b[4A\u001b[2K\u001b[7A\u001b[2K\u001b[4A\u001b[2K\u001b[7A\u001b[2K\u001b[7A\u001b[2K\u001b[7A\u001b[2K\u001b[7A\u001b[2K\u001b[4A\u001b[2K\u001b[7A\u001b[2K\u001b[7A\u001b[2K\u001b[4A\u001b[2K\u001b[7A\u001b[2K\u001b[7A\u001b[2K\u001b[7A\u001b[2K\u001b[4A\u001b[2K\u001b[7A\u001b[2K\u001b[7A\u001b[2K\u001b[4A\u001b[2K\u001b[7A\u001b[2K\u001b[4A\u001b[2K\u001b[4A\u001b[2K\u001b[7A\u001b[2K\u001b[4A\u001b[2K\u001b[4A\u001b[2K\u001b[7A\u001b[2K\u001b[4A\u001b[2K\u001b[7A\u001b[2K\u001b[7A\u001b[2K\u001b[4A\u001b[2K\u001b[7A\u001b[2K\u001b[7A\u001b[2K\u001b[7A\u001b[2K\u001b[7A\u001b[2K\u001b[7A\u001b[2K\u001b[4A\u001b[2K\u001b[7A\u001b[2K\u001b[7A\u001b[2K\u001b[4A\u001b[2K\u001b[4A\u001b[2K\u001b[7A\u001b[2K\u001b[7A\u001b[2K\u001b[7A\u001b[2K\u001b[7A\u001b[2K\u001b[4A\u001b[2K\u001b[7A\u001b[2K\u001b[4A\u001b[2K\u001b[7A\u001b[2K\u001b[4A\u001b[2K\u001b[7A\u001b[2K\u001b[4A\u001b[2K\u001b[7A\u001b[2K\u001b[7A\u001b[2K\u001b[7A\u001b[2K\u001b[4A\u001b[2K\u001b[7A\u001b[2K\u001b[4A\u001b[2K\u001b[7A\u001b[2K\u001b[4A\u001b[2K\u001b[7A\u001b[2K\u001b[4A\u001b[2K\u001b[7A\u001b[2K\u001b[4A\u001b[2K\u001b[7A\u001b[2K\u001b[7A\u001b[2K\u001b[4A\u001b[2K\u001b[7A\u001b[2K\u001b[4A\u001b[2K\u001b[7A\u001b[2K\u001b[4A\u001b[2K\u001b[7A\u001b[2K\u001b[4A\u001b[2K\u001b[7A\u001b[2K\u001b[4A\u001b[2K\u001b[4A\u001b[2K\u001b[4A\u001b[2K\u001b[7A\u001b[2K\u001b[4A\u001b[2K\u001b[7A\u001b[2K\u001b[4A\u001b[2K\u001b[4A\u001b[2K\u001b[4A\u001b[2K\u001b[7A\u001b[2K\u001b[4A\u001b[2K\u001b[7A\u001b[2K\u001b[4A\u001b[2K\u001b[7A\u001b[2K\u001b[7A\u001b[2K\u001b[4A\u001b[2K\u001b[7A\u001b[2K\u001b[4A\u001b[2K\u001b[7A\u001b[2K\u001b[4A\u001b[2K\u001b[7A\u001b[2K\u001b[4A\u001b[2K\u001b[7A\u001b[2K\u001b[4A\u001b[2K\u001b[7A\u001b[2K\u001b[4A\u001b[2K\u001b[7A\u001b[2K\u001b[7A\u001b[2K\u001b[7A\u001b[2K\u001b[4A\u001b[2K\u001b[4A\u001b[2K\u001b[4A\u001b[2K\u001b[4A\u001b[2K\u001b[4A\u001b[2K\u001b[7A\u001b[2K\u001b[4A\u001b[2K\u001b[7A\u001b[2K\u001b[4A\u001b[2K\u001b[7A\u001b[2K\u001b[4A\u001b[2K\u001b[7A\u001b[2K\u001b[4A\u001b[2K\u001b[7A\u001b[2K\u001b[4A\u001b[2K\u001b[7A\u001b[2K\u001b[4A\u001b[2K\u001b[7A\u001b[2K\u001b[4A\u001b[2K\u001b[7A\u001b[2K\u001b[4A\u001b[2K\u001b[7A\u001b[2K\u001b[4A\u001b[2K\u001b[4A\u001b[2K\u001b[7A\u001b[2K\u001b[4A\u001b[2K\u001b[7A\u001b[2K\u001b[4A\u001b[2K\u001b[4A\u001b[2K\u001b[7A\u001b[2K\u001b[4A\u001b[2K\u001b[4A\u001b[2K\u001b[4A\u001b[2K\u001b[7A\u001b[2K\u001b[4A\u001b[2K\u001b[7A\u001b[2K\u001b[4A\u001b[2K\u001b[7A\u001b[2K\u001b[4A\u001b[2K\u001b[7A\u001b[2K\u001b[4A\u001b[2K\u001b[7A\u001b[2K\u001b[7A\u001b[2K\u001b[7A\u001b[2K\u001b[4A\u001b[2K\u001b[4A\u001b[2K\u001b[4A\u001b[2K\u001b[4A\u001b[2K\u001b[7A\u001b[2K\u001b[7A\u001b[2K\u001b[7A\u001b[2K\u001b[4A\u001b[2K\u001b[7A\u001b[2K\u001b[4A\u001b[2K\u001b[7A\u001b[2K\u001b[4A\u001b[2K\u001b[7A\u001b[2K\u001b[4A\u001b[2K\u001b[7A\u001b[2K\u001b[4A\u001b[2K\u001b[7A\u001b[2K\u001b[7A\u001b[2K\u001b[7A\u001b[2K\u001b[4A\u001b[2K\u001b[7A\u001b[2K\u001b[4A\u001b[2K\u001b[7A\u001b[2K\u001b[4A\u001b[2K\u001b[4A\u001b[2K\u001b[7A\u001b[2K\u001b[7A\u001b[2K\u001b[4A\u001b[2K\u001b[7A\u001b[2K\u001b[7A\u001b[2K\u001b[7A\u001b[2K\u001b[4A\u001b[2K\u001b[7A\u001b[2K\u001b[4A\u001b[2K\u001b[7A\u001b[2K\u001b[4A\u001b[2K\u001b[7A\u001b[2K\u001b[4A\u001b[2K\u001b[7A\u001b[2K\u001b[4A\u001b[2K\u001b[7A\u001b[2K\u001b[4A\u001b[2K\u001b[7A\u001b[2K\u001b[4A\u001b[2K\u001b[7A\u001b[2K\u001b[4A\u001b[2K\u001b[7A\u001b[2K\u001b[4A\u001b[2K\u001b[7A\u001b[2K\u001b[4A\u001b[2K\u001b[7A\u001b[2K\u001b[4A\u001b[2K\u001b[7A\u001b[2K\u001b[4A\u001b[2K\u001b[7A\u001b[2K\u001b[4A\u001b[2K\u001b[7A\u001b[2K\u001b[4A\u001b[2K\u001b[7A\u001b[2K\u001b[4A\u001b[2K\u001b[7A\u001b[2K\u001b[7A\u001b[2K\u001b[4A\u001b[2K\u001b[7A\u001b[2K\u001b[4A\u001b[2K\u001b[7A\u001b[2K\u001b[4A\u001b[2K\u001b[7A\u001b[2K\u001b[4A\u001b[2K\u001b[4A\u001b[2K\u001b[7A\u001b[2K\u001b[7A\u001b[2K\u001b[4A\u001b[2K\u001b[7A\u001b[2K\u001b[7A\u001b[2K\u001b[7A\u001b[2K\u001b[4A\u001b[2K\u001b[7A\u001b[2K\u001b[4A\u001b[2K\u001b[7A\u001b[2K\u001b[4A\u001b[2K\u001b[7A\u001b[2K\u001b[4A\u001b[2K\u001b[7A\u001b[2K\u001b[4A\u001b[2K\u001b[7A\u001b[2K\u001b[4A\u001b[2K\u001b[7A\u001b[2K\u001b[7A\u001b[2K\u001b[7A\u001b[2K\u001b[4A\u001b[2K\u001b[7A\u001b[2K\u001b[7A\u001b[2K\u001b[4A\u001b[2K\u001b[7A\u001b[2K\u001b[4A\u001b[2K\u001b[7A\u001b[2K\u001b[4A\u001b[2K\u001b[7A\u001b[2K\u001b[4A\u001b[2K\u001b[7A\u001b[2K\u001b[7A\u001b[2K\u001b[4A\u001b[2K\u001b[7A\u001b[2K\u001b[4A\u001b[2K\u001b[7A\u001b[2K\u001b[4A\u001b[2K\u001b[7A\u001b[2K\u001b[4A\u001b[2K\u001b[7A\u001b[2K\u001b[7A\u001b[2K\u001b[4A\u001b[2K\u001b[7A\u001b[2K\u001b[4A\u001b[2K\u001b[7A\u001b[2K\u001b[4A\u001b[2K\u001b[7A\u001b[2K\u001b[4A\u001b[2K\u001b[7A\u001b[2K\u001b[4A\u001b[2K\u001b[7A\u001b[2K\u001b[4A\u001b[2K\u001b[7A\u001b[2K\u001b[4A\u001b[2K\u001b[7A\u001b[2K\u001b[4A\u001b[2K\u001b[4A\u001b[2K\u001b[7A\u001b[2K\u001b[4A\u001b[2K\u001b[7A\u001b[2K\u001b[4A\u001b[2K\u001b[7A\u001b[2K\u001b[4A\u001b[2K\u001b[7A\u001b[2K\u001b[4A\u001b[2K\u001b[7A\u001b[2K\u001b[4A\u001b[2K\u001b[7A\u001b[2K\u001b[7A\u001b[2K\u001b[4A\u001b[2K\u001b[4A\u001b[2K\u001b[7A\u001b[2K\u001b[4A\u001b[2K\u001b[4A\u001b[2K\u001b[4A\u001b[2K\u001b[7A\u001b[2K\u001b[7A\u001b[2K\u001b[7A\u001b[2K\u001b[7A\u001b[2K\u001b[4A\u001b[2K\u001b[7A\u001b[2K\u001b[4A\u001b[2K\u001b[7A\u001b[2K\u001b[4A\u001b[2K\u001b[7A\u001b[2K\u001b[4A\u001b[2K\u001b[7A\u001b[2K\u001b[7A\u001b[2K\u001b[7A\u001b[2K\u001b[4A\u001b[2K\u001b[7A\u001b[2K\u001b[7A\u001b[2K\u001b[4A\u001b[2K\u001b[7A\u001b[2K\u001b[4A\u001b[2K\u001b[4A\u001b[2K\u001b[7A\u001b[2K\u001b[7A\u001b[2K\u001b[7A\u001b[2K\u001b[7A\u001b[2K\u001b[7A\u001b[2K\u001b[4A\u001b[2K\u001b[7A\u001b[2K\u001b[7A\u001b[2K\u001b[7A\u001b[2K\u001b[7A\u001b[2K\u001b[7A\u001b[2K\u001b[7A\u001b[2K\u001b[7A\u001b[2K\u001b[7A\u001b[2K\u001b[7A\u001b[2K\u001b[7A\u001b[2K\u001b[7A\u001b[2K\u001b[7A\u001b[2K\u001b[7A\u001b[2K\u001b[7A\u001b[2K\u001b[7A\u001b[2K\u001b[7A\u001b[2K\u001b[7A\u001b[2K\u001b[7A\u001b[2K\u001b[7A\u001b[2K\u001b[7A\u001b[2K\u001b[7A\u001b[2K\u001b[7A\u001b[2K\u001b[7A\u001b[2K\u001b[7A\u001b[2K\u001b[7A\u001b[2K\u001b[7A\u001b[2K\u001b[7A\u001b[2K\u001b[7A\u001b[2K\u001b[7A\u001b[2K\u001b[7A\u001b[2K\u001b[7A\u001b[2K\u001b[7A\u001b[2K\u001b[7A\u001b[2K\u001b[7A\u001b[2K\u001b[7A\u001b[2K\u001b[7A\u001b[2K\u001b[7A\u001b[2K\u001b[7A\u001b[2K\u001b[7A\u001b[2K\u001b[7A\u001b[2K\u001b[7A\u001b[2K\u001b[7A\u001b[2K\u001b[7A\u001b[2K\u001b[7A\u001b[2K\u001b[7A\u001b[2K\u001b[7A\u001b[2K\u001b[7A\u001b[2K\u001b[7A\u001b[2K\u001b[7A\u001b[2K\u001b[7A\u001b[2K\u001b[7A\u001b[2K\u001b[7A\u001b[2K\u001b[7A\u001b[2K\u001b[7A\u001b[2K\u001b[7A\u001b[2K\u001b[7A\u001b[2K\u001b[7A\u001b[2K\u001b[7A\u001b[2K\u001b[7A\u001b[2K\u001b[7A\u001b[2K\u001b[7A\u001b[2K\u001b[7A\u001b[2K\u001b[7A\u001b[2K\u001b[7A\u001b[2K\u001b[7A\u001b[2K\u001b[7A\u001b[2K\u001b[7A\u001b[2K\u001b[7A\u001b[2K\u001b[7A\u001b[2K\u001b[7A\u001b[2K\u001b[7A\u001b[2K\u001b[7A\u001b[2K\u001b[7A\u001b[2K\u001b[7A\u001b[2K\u001b[7A\u001b[2K\u001b[7A\u001b[2K\u001b[7A\u001b[2K\u001b[7A\u001b[2K\u001b[7A\u001b[2K\u001b[7A\u001b[2K\u001b[7A\u001b[2K\u001b[7A\u001b[2K\u001b[7A\u001b[2K\u001b[7A\u001b[2K\u001b[7A\u001b[2K\u001b[7A\u001b[2K\u001b[7A\u001b[2K\u001b[7A\u001b[2K\u001b[7A\u001b[2K\u001b[7A\u001b[2K\u001b[7A\u001b[2K\u001b[7A\u001b[2K\u001b[7A\u001b[2K\u001b[7A\u001b[2K\u001b[7A\u001b[2K\u001b[7A\u001b[2K\u001b[7A\u001b[2K\u001b[7A\u001b[2K\u001b[7A\u001b[2K\u001b[7A\u001b[2K\u001b[7A\u001b[2K\u001b[7A\u001b[2K\u001b[7A\u001b[2K\u001b[7A\u001b[2K\u001b[7A\u001b[2K\u001b[7A\u001b[2K\u001b[7A\u001b[2K\u001b[7A\u001b[2K\u001b[7A\u001b[2K\u001b[7A\u001b[2K\u001b[7A\u001b[2K\u001b[7A\u001b[2K\u001b[7A\u001b[2K\u001b[7A\u001b[2K\u001b[7A\u001b[2K\u001b[7A\u001b[2K\u001b[7A\u001b[2K\u001b[7A\u001b[2K\u001b[7A\u001b[2K\u001b[7A\u001b[2K\u001b[7A\u001b[2K\u001b[7A\u001b[2K\u001b[7A\u001b[2K\u001b[7A\u001b[2K\u001b[7A\u001b[2K\u001b[7A\u001b[2K\u001b[7A\u001b[2K\u001b[7A\u001b[2K\u001b[7A\u001b[2K\u001b[7A\u001b[2K\u001b[7A\u001b[2K\u001b[7A\u001b[2K\u001b[7A\u001b[2K\u001b[7A\u001b[2K\u001b[7A\u001b[2K\u001b[7A\u001b[2K\u001b[7A\u001b[2K\u001b[7A\u001b[2K\u001b[7A\u001b[2K\u001b[7A\u001b[2K\u001b[7A\u001b[2K\u001b[7A\u001b[2K\u001b[7A\u001b[2K\u001b[7A\u001b[2K\u001b[7A\u001b[2K\u001b[7A\u001b[2K\u001b[7A\u001b[2K\u001b[7A\u001b[2K\u001b[7A\u001b[2K\u001b[7A\u001b[2K\u001b[7A\u001b[2K\u001b[7A\u001b[2K\u001b[7A\u001b[2K\u001b[7A\u001b[2K\u001b[7A\u001b[2K\u001b[7A\u001b[2K\u001b[7A\u001b[2K\u001b[7A\u001b[2K\u001b[7A\u001b[2K\u001b[7A\u001b[2K\u001b[7A\u001b[2K\u001b[7A\u001b[2K\u001b[7A\u001b[2K\u001b[7A\u001b[2K\u001b[7A\u001b[2K\u001b[7A\u001b[2K\u001b[7A\u001b[2K\u001b[7A\u001b[2K\u001b[7A\u001b[2K\u001b[7A\u001b[2K\u001b[7A\u001b[2K\u001b[7A\u001b[2K\u001b[7A\u001b[2K\u001b[7A\u001b[2K\u001b[7A\u001b[2K\u001b[7A\u001b[2K\u001b[7A\u001b[2K\u001b[7A\u001b[2K\u001b[7A\u001b[2K\u001b[7A\u001b[2K\u001b[7A\u001b[2K\u001b[7A\u001b[2K\u001b[7A\u001b[2K\u001b[7A\u001b[2K\u001b[7A\u001b[2K\u001b[7A\u001b[2K\u001b[7A\u001b[2K\u001b[7A\u001b[2K\u001b[7A\u001b[2K\u001b[7A\u001b[2K\u001b[7A\u001b[2K\u001b[7A\u001b[2K\u001b[7A\u001b[2K\u001b[7A\u001b[2K\u001b[7A\u001b[2K\u001b[7A\u001b[2K\u001b[7A\u001b[2K\u001b[7A\u001b[2K\u001b[7A\u001b[2K\u001b[7A\u001b[2K\u001b[7A\u001b[2K\u001b[7A\u001b[2K\u001b[7A\u001b[2KPushing   1.47GB/1.665GB\u001b[7A\u001b[2K\u001b[7A\u001b[2K\u001b[7A\u001b[2K\u001b[7A\u001b[2K\u001b[7A\u001b[2K\u001b[7A\u001b[2K\u001b[7A\u001b[2K\u001b[7A\u001b[2K\u001b[7A\u001b[2K\u001b[7A\u001b[2K\u001b[7A\u001b[2K\u001b[7A\u001b[2K\u001b[7A\u001b[2K\u001b[7A\u001b[2K\u001b[7A\u001b[2K\u001b[7A\u001b[2K\u001b[7A\u001b[2K\u001b[7A\u001b[2K\u001b[7A\u001b[2K\u001b[7A\u001b[2K\u001b[7A\u001b[2K\u001b[7A\u001b[2K\u001b[7A\u001b[2K\u001b[7A\u001b[2K\u001b[7A\u001b[2K\u001b[7A\u001b[2K\u001b[7A\u001b[2K\u001b[7A\u001b[2K\u001b[7A\u001b[2K\u001b[7A\u001b[2K\u001b[7A\u001b[2K\u001b[7A\u001b[2K\u001b[7A\u001b[2K\u001b[7A\u001b[2K\u001b[7A\u001b[2K\u001b[7A\u001b[2K\u001b[7A\u001b[2K\u001b[7A\u001b[2K\u001b[7A\u001b[2K\u001b[7A\u001b[2K\u001b[7A\u001b[2K\u001b[7A\u001b[2K\u001b[7A\u001b[2K\u001b[7A\u001b[2K\u001b[7A\u001b[2K\u001b[7A\u001b[2K\u001b[7A\u001b[2K\u001b[7A\u001b[2K\u001b[7A\u001b[2K\u001b[7A\u001b[2K\u001b[7A\u001b[2K\u001b[7A\u001b[2K\u001b[7A\u001b[2K\u001b[7A\u001b[2K\u001b[7A\u001b[2K\u001b[7A\u001b[2K\u001b[7A\u001b[2K\u001b[7A\u001b[2K\u001b[7A\u001b[2K\u001b[7A\u001b[2K\u001b[7A\u001b[2K\u001b[7A\u001b[2K\u001b[7A\u001b[2K\u001b[7A\u001b[2K\u001b[7A\u001b[2K\u001b[7A\u001b[2K\u001b[7A\u001b[2K\u001b[7A\u001b[2K\u001b[7A\u001b[2K\u001b[7A\u001b[2K\u001b[7A\u001b[2K\u001b[7A\u001b[2K\u001b[7A\u001b[2K\u001b[7A\u001b[2K\u001b[7A\u001b[2K\u001b[7A\u001b[2K\u001b[7A\u001b[2K\u001b[7A\u001b[2K\u001b[7A\u001b[2K\u001b[7A\u001b[2K\u001b[7A\u001b[2K\u001b[7A\u001b[2K\u001b[7A\u001b[2Kv1: digest: sha256:1e6c613669d01197406cb4223ee25d489518043df0109d10a52bce491511c914 size: 3038\n"
     ]
    }
   ],
   "source": [
    "image_label = 'v1'\n",
    "image = f'{account}.dkr.ecr.{region}.amazonaws.com/{registry_name}:{image_label}'\n",
    "\n",
    "!docker build -t {registry_name}:{image_label} .\n",
    "!$(aws ecr get-login --no-include-email --region {region})\n",
    "!docker tag {registry_name}:{image_label} {image}\n",
    "!docker push {image}"
   ]
  },
  {
   "cell_type": "markdown",
   "metadata": {},
   "source": [
    "## Deploying Endpoint & Prediction via Amazon SageMaker SDK"
   ]
  },
  {
   "cell_type": "markdown",
   "metadata": {},
   "source": [
    "**NOTE:** The `model_file_name` parameter can have `_` whereas `sm_model_name` and `endpoint_name` parameters can't have `_` character and so we replace it by `-`. In the Lambda function, refer to the endpoints and hence `-` version."
   ]
  },
  {
   "cell_type": "markdown",
   "metadata": {},
   "source": [
    "### Detection Model"
   ]
  },
  {
   "cell_type": "code",
   "execution_count": 13,
   "metadata": {},
   "outputs": [],
   "source": [
    "model_file_name = 'btnx_maskrcnn'\n",
    "model_data = f's3://{bucket_name}/{prefix}/models/{model_file_name}.tar.gz'\n",
    "\n",
    "sm_model_name = 'btnx-maskrcnn'\n",
    "endpoint_name = 'btnx-maskrcnn'"
   ]
  },
  {
   "cell_type": "code",
   "execution_count": 14,
   "metadata": {},
   "outputs": [
    {
     "name": "stderr",
     "output_type": "stream",
     "text": [
      "Parameter image will be renamed to image_uri in SageMaker Python SDK v2.\n",
      "Using already existing model: btnx-maskrcnn\n"
     ]
    },
    {
     "ename": "ClientError",
     "evalue": "An error occurred (ValidationException) when calling the CreateEndpoint operation: Cannot create already existing endpoint \"arn:aws:sagemaker:us-east-2:364546270619:endpoint/btnx-maskrcnn\".",
     "output_type": "error",
     "traceback": [
      "\u001b[0;31m---------------------------------------------------------------------------\u001b[0m",
      "\u001b[0;31mClientError\u001b[0m                               Traceback (most recent call last)",
      "\u001b[0;32m<ipython-input-14-7b3180935307>\u001b[0m in \u001b[0;36m<module>\u001b[0;34m\u001b[0m\n\u001b[1;32m      7\u001b[0m predictor_detector = torchserve_model.deploy(instance_type='ml.m4.xlarge',\n\u001b[1;32m      8\u001b[0m                                              \u001b[0minitial_instance_count\u001b[0m\u001b[0;34m=\u001b[0m\u001b[0;36m1\u001b[0m\u001b[0;34m,\u001b[0m\u001b[0;34m\u001b[0m\u001b[0;34m\u001b[0m\u001b[0m\n\u001b[0;32m----> 9\u001b[0;31m                                              endpoint_name=endpoint_name)\n\u001b[0m",
      "\u001b[0;32m~/anaconda3/envs/pytorch_p36/lib/python3.6/site-packages/sagemaker/model.py\u001b[0m in \u001b[0;36mdeploy\u001b[0;34m(self, initial_instance_count, instance_type, accelerator_type, endpoint_name, update_endpoint, tags, kms_key, wait, data_capture_config)\u001b[0m\n\u001b[1;32m    515\u001b[0m                 \u001b[0mkms_key\u001b[0m\u001b[0;34m=\u001b[0m\u001b[0mkms_key\u001b[0m\u001b[0;34m,\u001b[0m\u001b[0;34m\u001b[0m\u001b[0;34m\u001b[0m\u001b[0m\n\u001b[1;32m    516\u001b[0m                 \u001b[0mwait\u001b[0m\u001b[0;34m=\u001b[0m\u001b[0mwait\u001b[0m\u001b[0;34m,\u001b[0m\u001b[0;34m\u001b[0m\u001b[0;34m\u001b[0m\u001b[0m\n\u001b[0;32m--> 517\u001b[0;31m                 \u001b[0mdata_capture_config_dict\u001b[0m\u001b[0;34m=\u001b[0m\u001b[0mdata_capture_config_dict\u001b[0m\u001b[0;34m,\u001b[0m\u001b[0;34m\u001b[0m\u001b[0;34m\u001b[0m\u001b[0m\n\u001b[0m\u001b[1;32m    518\u001b[0m             )\n\u001b[1;32m    519\u001b[0m \u001b[0;34m\u001b[0m\u001b[0m\n",
      "\u001b[0;32m~/anaconda3/envs/pytorch_p36/lib/python3.6/site-packages/sagemaker/session.py\u001b[0m in \u001b[0;36mendpoint_from_production_variants\u001b[0;34m(self, name, production_variants, tags, kms_key, wait, data_capture_config_dict)\u001b[0m\n\u001b[1;32m   2903\u001b[0m \u001b[0;34m\u001b[0m\u001b[0m\n\u001b[1;32m   2904\u001b[0m             \u001b[0mself\u001b[0m\u001b[0;34m.\u001b[0m\u001b[0msagemaker_client\u001b[0m\u001b[0;34m.\u001b[0m\u001b[0mcreate_endpoint_config\u001b[0m\u001b[0;34m(\u001b[0m\u001b[0;34m**\u001b[0m\u001b[0mconfig_options\u001b[0m\u001b[0;34m)\u001b[0m\u001b[0;34m\u001b[0m\u001b[0;34m\u001b[0m\u001b[0m\n\u001b[0;32m-> 2905\u001b[0;31m         \u001b[0;32mreturn\u001b[0m \u001b[0mself\u001b[0m\u001b[0;34m.\u001b[0m\u001b[0mcreate_endpoint\u001b[0m\u001b[0;34m(\u001b[0m\u001b[0mendpoint_name\u001b[0m\u001b[0;34m=\u001b[0m\u001b[0mname\u001b[0m\u001b[0;34m,\u001b[0m \u001b[0mconfig_name\u001b[0m\u001b[0;34m=\u001b[0m\u001b[0mname\u001b[0m\u001b[0;34m,\u001b[0m \u001b[0mtags\u001b[0m\u001b[0;34m=\u001b[0m\u001b[0mtags\u001b[0m\u001b[0;34m,\u001b[0m \u001b[0mwait\u001b[0m\u001b[0;34m=\u001b[0m\u001b[0mwait\u001b[0m\u001b[0;34m)\u001b[0m\u001b[0;34m\u001b[0m\u001b[0;34m\u001b[0m\u001b[0m\n\u001b[0m\u001b[1;32m   2906\u001b[0m \u001b[0;34m\u001b[0m\u001b[0m\n\u001b[1;32m   2907\u001b[0m     \u001b[0;32mdef\u001b[0m \u001b[0mexpand_role\u001b[0m\u001b[0;34m(\u001b[0m\u001b[0mself\u001b[0m\u001b[0;34m,\u001b[0m \u001b[0mrole\u001b[0m\u001b[0;34m)\u001b[0m\u001b[0;34m:\u001b[0m\u001b[0;34m\u001b[0m\u001b[0;34m\u001b[0m\u001b[0m\n",
      "\u001b[0;32m~/anaconda3/envs/pytorch_p36/lib/python3.6/site-packages/sagemaker/session.py\u001b[0m in \u001b[0;36mcreate_endpoint\u001b[0;34m(self, endpoint_name, config_name, tags, wait)\u001b[0m\n\u001b[1;32m   2420\u001b[0m \u001b[0;34m\u001b[0m\u001b[0m\n\u001b[1;32m   2421\u001b[0m         self.sagemaker_client.create_endpoint(\n\u001b[0;32m-> 2422\u001b[0;31m             \u001b[0mEndpointName\u001b[0m\u001b[0;34m=\u001b[0m\u001b[0mendpoint_name\u001b[0m\u001b[0;34m,\u001b[0m \u001b[0mEndpointConfigName\u001b[0m\u001b[0;34m=\u001b[0m\u001b[0mconfig_name\u001b[0m\u001b[0;34m,\u001b[0m \u001b[0mTags\u001b[0m\u001b[0;34m=\u001b[0m\u001b[0mtags\u001b[0m\u001b[0;34m\u001b[0m\u001b[0;34m\u001b[0m\u001b[0m\n\u001b[0m\u001b[1;32m   2423\u001b[0m         )\n\u001b[1;32m   2424\u001b[0m         \u001b[0;32mif\u001b[0m \u001b[0mwait\u001b[0m\u001b[0;34m:\u001b[0m\u001b[0;34m\u001b[0m\u001b[0;34m\u001b[0m\u001b[0m\n",
      "\u001b[0;32m~/anaconda3/envs/pytorch_p36/lib/python3.6/site-packages/botocore/client.py\u001b[0m in \u001b[0;36m_api_call\u001b[0;34m(self, *args, **kwargs)\u001b[0m\n\u001b[1;32m    314\u001b[0m                     \"%s() only accepts keyword arguments.\" % py_operation_name)\n\u001b[1;32m    315\u001b[0m             \u001b[0;31m# The \"self\" in this scope is referring to the BaseClient.\u001b[0m\u001b[0;34m\u001b[0m\u001b[0;34m\u001b[0m\u001b[0;34m\u001b[0m\u001b[0m\n\u001b[0;32m--> 316\u001b[0;31m             \u001b[0;32mreturn\u001b[0m \u001b[0mself\u001b[0m\u001b[0;34m.\u001b[0m\u001b[0m_make_api_call\u001b[0m\u001b[0;34m(\u001b[0m\u001b[0moperation_name\u001b[0m\u001b[0;34m,\u001b[0m \u001b[0mkwargs\u001b[0m\u001b[0;34m)\u001b[0m\u001b[0;34m\u001b[0m\u001b[0;34m\u001b[0m\u001b[0m\n\u001b[0m\u001b[1;32m    317\u001b[0m \u001b[0;34m\u001b[0m\u001b[0m\n\u001b[1;32m    318\u001b[0m         \u001b[0m_api_call\u001b[0m\u001b[0;34m.\u001b[0m\u001b[0m__name__\u001b[0m \u001b[0;34m=\u001b[0m \u001b[0mstr\u001b[0m\u001b[0;34m(\u001b[0m\u001b[0mpy_operation_name\u001b[0m\u001b[0;34m)\u001b[0m\u001b[0;34m\u001b[0m\u001b[0;34m\u001b[0m\u001b[0m\n",
      "\u001b[0;32m~/anaconda3/envs/pytorch_p36/lib/python3.6/site-packages/botocore/client.py\u001b[0m in \u001b[0;36m_make_api_call\u001b[0;34m(self, operation_name, api_params)\u001b[0m\n\u001b[1;32m    633\u001b[0m             \u001b[0merror_code\u001b[0m \u001b[0;34m=\u001b[0m \u001b[0mparsed_response\u001b[0m\u001b[0;34m.\u001b[0m\u001b[0mget\u001b[0m\u001b[0;34m(\u001b[0m\u001b[0;34m\"Error\"\u001b[0m\u001b[0;34m,\u001b[0m \u001b[0;34m{\u001b[0m\u001b[0;34m}\u001b[0m\u001b[0;34m)\u001b[0m\u001b[0;34m.\u001b[0m\u001b[0mget\u001b[0m\u001b[0;34m(\u001b[0m\u001b[0;34m\"Code\"\u001b[0m\u001b[0;34m)\u001b[0m\u001b[0;34m\u001b[0m\u001b[0;34m\u001b[0m\u001b[0m\n\u001b[1;32m    634\u001b[0m             \u001b[0merror_class\u001b[0m \u001b[0;34m=\u001b[0m \u001b[0mself\u001b[0m\u001b[0;34m.\u001b[0m\u001b[0mexceptions\u001b[0m\u001b[0;34m.\u001b[0m\u001b[0mfrom_code\u001b[0m\u001b[0;34m(\u001b[0m\u001b[0merror_code\u001b[0m\u001b[0;34m)\u001b[0m\u001b[0;34m\u001b[0m\u001b[0;34m\u001b[0m\u001b[0m\n\u001b[0;32m--> 635\u001b[0;31m             \u001b[0;32mraise\u001b[0m \u001b[0merror_class\u001b[0m\u001b[0;34m(\u001b[0m\u001b[0mparsed_response\u001b[0m\u001b[0;34m,\u001b[0m \u001b[0moperation_name\u001b[0m\u001b[0;34m)\u001b[0m\u001b[0;34m\u001b[0m\u001b[0;34m\u001b[0m\u001b[0m\n\u001b[0m\u001b[1;32m    636\u001b[0m         \u001b[0;32melse\u001b[0m\u001b[0;34m:\u001b[0m\u001b[0;34m\u001b[0m\u001b[0;34m\u001b[0m\u001b[0m\n\u001b[1;32m    637\u001b[0m             \u001b[0;32mreturn\u001b[0m \u001b[0mparsed_response\u001b[0m\u001b[0;34m\u001b[0m\u001b[0;34m\u001b[0m\u001b[0m\n",
      "\u001b[0;31mClientError\u001b[0m: An error occurred (ValidationException) when calling the CreateEndpoint operation: Cannot create already existing endpoint \"arn:aws:sagemaker:us-east-2:364546270619:endpoint/btnx-maskrcnn\"."
     ]
    }
   ],
   "source": [
    "torchserve_model = Model(model_data=model_data, \n",
    "                         image=image,\n",
    "                         role=role,\n",
    "                         predictor_cls=RealTimePredictor,\n",
    "                         name=sm_model_name)\n",
    "\n",
    "predictor_detector = torchserve_model.deploy(instance_type='ml.m4.xlarge',\n",
    "                                             initial_instance_count=1,\n",
    "                                             endpoint_name=endpoint_name)"
   ]
  },
  {
   "cell_type": "markdown",
   "metadata": {},
   "source": [
    "### Classification Model"
   ]
  },
  {
   "cell_type": "code",
   "execution_count": 16,
   "metadata": {},
   "outputs": [],
   "source": [
    "model_file_name = 'btnx_classifier'\n",
    "model_data = f's3://{bucket_name}/{prefix}/models/{model_file_name}.tar.gz'\n",
    "\n",
    "sm_model_name = 'btnx-classifier'\n",
    "endpoint_name = 'btnx-classifier'"
   ]
  },
  {
   "cell_type": "code",
   "execution_count": 17,
   "metadata": {},
   "outputs": [
    {
     "name": "stderr",
     "output_type": "stream",
     "text": [
      "Parameter image will be renamed to image_uri in SageMaker Python SDK v2.\n"
     ]
    },
    {
     "name": "stdout",
     "output_type": "stream",
     "text": [
      "---------------!"
     ]
    }
   ],
   "source": [
    "torchserve_model = Model(model_data=model_data, \n",
    "                         image=image,\n",
    "                         role=role,\n",
    "                         predictor_cls=RealTimePredictor,\n",
    "                         name=sm_model_name)\n",
    "\n",
    "predictor_classifier = torchserve_model.deploy(instance_type='ml.m4.xlarge',\n",
    "                                               initial_instance_count=1,\n",
    "                                               endpoint_name=endpoint_name)"
   ]
  },
  {
   "cell_type": "code",
   "execution_count": 17,
   "metadata": {},
   "outputs": [
    {
     "name": "stdout",
     "output_type": "stream",
     "text": [
      "(800, 600, 3)\n"
     ]
    },
    {
     "data": {
      "image/png": "[encoded data removed]",
      "text/plain": [
       "<Figure size 432x288 with 1 Axes>"
      ]
     },
     "metadata": {
      "needs_background": "light"
     },
     "output_type": "display_data"
    }
   ],
   "source": [
    "# file_name = 'btnx_sample.jpg'\n",
    "file_name = 'initial_image.jpg'\n",
    "with open(file_name, 'rb') as f:\n",
    "    payload = f.read()\n",
    "    \n",
    "image = cv2.imread(file_name)\n",
    "H, W, C = image.shape\n",
    "print((H, W, C))\n",
    "plt.imshow(image)\n",
    "plt.show()"
   ]
  },
  {
   "cell_type": "code",
   "execution_count": 18,
   "metadata": {},
   "outputs": [
    {
     "ename": "NameError",
     "evalue": "name 'predictor_detector' is not defined",
     "output_type": "error",
     "traceback": [
      "\u001b[0;31m---------------------------------------------------------------------------\u001b[0m",
      "\u001b[0;31mNameError\u001b[0m                                 Traceback (most recent call last)",
      "\u001b[0;32m<ipython-input-18-226372ee87e6>\u001b[0m in \u001b[0;36m<module>\u001b[0;34m\u001b[0m\n\u001b[0;32m----> 1\u001b[0;31m \u001b[0mresponse\u001b[0m \u001b[0;34m=\u001b[0m \u001b[0mpredictor_detector\u001b[0m\u001b[0;34m.\u001b[0m\u001b[0mpredict\u001b[0m\u001b[0;34m(\u001b[0m\u001b[0mdata\u001b[0m\u001b[0;34m=\u001b[0m\u001b[0mpayload\u001b[0m\u001b[0;34m)\u001b[0m\u001b[0;34m\u001b[0m\u001b[0;34m\u001b[0m\u001b[0m\n\u001b[0m",
      "\u001b[0;31mNameError\u001b[0m: name 'predictor_detector' is not defined"
     ]
    }
   ],
   "source": [
    "response = predictor_detector.predict(data=payload)"
   ]
  },
  {
   "cell_type": "code",
   "execution_count": null,
   "metadata": {},
   "outputs": [],
   "source": [
    "response"
   ]
  },
  {
   "cell_type": "code",
   "execution_count": 54,
   "metadata": {},
   "outputs": [],
   "source": [
    "with open('detection_response.txt', 'w') as f:\n",
    "    f.write(response.decode(\"utf-8\"))"
   ]
  },
  {
   "cell_type": "code",
   "execution_count": 55,
   "metadata": {},
   "outputs": [],
   "source": [
    "output = json.loads(response)"
   ]
  },
  {
   "cell_type": "code",
   "execution_count": 56,
   "metadata": {},
   "outputs": [
    {
     "data": {
      "text/plain": [
       "2"
      ]
     },
     "execution_count": 56,
     "metadata": {},
     "output_type": "execute_result"
    }
   ],
   "source": [
    "len(output)"
   ]
  },
  {
   "cell_type": "code",
   "execution_count": 57,
   "metadata": {},
   "outputs": [
    {
     "data": {
      "text/plain": [
       "'kit'"
      ]
     },
     "execution_count": 57,
     "metadata": {},
     "output_type": "execute_result"
    }
   ],
   "source": [
    "output[1]['label']"
   ]
  },
  {
   "cell_type": "markdown",
   "metadata": {},
   "source": [
    "### Outlier Model"
   ]
  },
  {
   "cell_type": "code",
   "execution_count": 13,
   "metadata": {},
   "outputs": [],
   "source": [
    "model_file_name = 'btnx_outlier'\n",
    "model_data = f's3://{bucket_name}/{prefix}/models/{model_file_name}.tar.gz'\n",
    "\n",
    "sm_model_name = 'btnx-outlier'\n",
    "endpoint_name = 'btnx-outlier'"
   ]
  },
  {
   "cell_type": "code",
   "execution_count": 14,
   "metadata": {},
   "outputs": [
    {
     "name": "stderr",
     "output_type": "stream",
     "text": [
      "Parameter image will be renamed to image_uri in SageMaker Python SDK v2.\n"
     ]
    },
    {
     "name": "stdout",
     "output_type": "stream",
     "text": [
      "---------------!"
     ]
    }
   ],
   "source": [
    "torchserve_model = Model(model_data=model_data, \n",
    "                         image=image,\n",
    "                         role=role,\n",
    "                         predictor_cls=RealTimePredictor,\n",
    "                         name=sm_model_name)\n",
    "\n",
    "predictor_outlier = torchserve_model.deploy(instance_type='ml.t2.medium',\n",
    "                                            initial_instance_count=1,\n",
    "                                            endpoint_name=endpoint_name)"
   ]
  },
  {
   "cell_type": "code",
   "execution_count": 15,
   "metadata": {},
   "outputs": [
    {
     "name": "stdout",
     "output_type": "stream",
     "text": [
      "(176, 108, 3)\n"
     ]
    },
    {
     "data": {
      "image/png": "[encoded data removed]",
      "text/plain": [
       "<Figure size 432x288 with 1 Axes>"
      ]
     },
     "metadata": {
      "needs_background": "light"
     },
     "output_type": "display_data"
    }
   ],
   "source": [
    "file_name = 'invalid_zone.jpg'\n",
    "with open(file_name, 'rb') as f:\n",
    "    payload = f.read()\n",
    "    \n",
    "image = cv2.imread(file_name)\n",
    "H, W, C = image.shape\n",
    "print((H, W, C))\n",
    "plt.imshow(image)\n",
    "plt.show()"
   ]
  },
  {
   "cell_type": "code",
   "execution_count": 16,
   "metadata": {},
   "outputs": [],
   "source": [
    "response = predictor_outlier.predict(data=payload)"
   ]
  },
  {
   "cell_type": "code",
   "execution_count": 17,
   "metadata": {},
   "outputs": [
    {
     "data": {
      "text/plain": [
       "b'[\\n  {\\n    \"anomaly_detection\": \"1\",\\n    \"loss\": \"3.758268117904663\"\\n  }\\n]'"
      ]
     },
     "execution_count": 17,
     "metadata": {},
     "output_type": "execute_result"
    }
   ],
   "source": [
    "response"
   ]
  },
  {
   "cell_type": "markdown",
   "metadata": {},
   "source": [
    "## Custom Utilities, Orientation Fix, Membrane Cropping\n",
    "\n",
    "Now that we get the desired outputs, lets process them to get the membrane. First, let's create some utility functions mainly for orientation fix and getting bbox coordinates."
   ]
  },
  {
   "cell_type": "code",
   "execution_count": 19,
   "metadata": {},
   "outputs": [],
   "source": [
    "def rotate_image(image, angle):\n",
    "    image_center = tuple(np.array(image.shape[1::-1]) / 2)\n",
    "    rot_mat = cv2.getRotationMatrix2D(image_center, angle, 1.0)\n",
    "    result = cv2.warpAffine(image, rot_mat, image.shape[1::-1], flags=cv2.INTER_LINEAR)\n",
    "    return result\n",
    "\n",
    "def get_corners(array):\n",
    "    H,W,C = array.shape\n",
    "    left_edges = np.where(array.any(axis=1),array.argmax(axis=1),W+1)\n",
    "    flip_lr = cv2.flip(array,1) #1 horz vert 0\n",
    "    right_edges = W-np.where(flip_lr.any(axis=1),flip_lr.argmax(axis=1),W+1)\n",
    "    top_edges = np.where(array.any(axis=0),array.argmax(axis=0),H+1)\n",
    "    flip_ud = cv2.flip(array,0) #1 horz vert 0\n",
    "    bottom_edges = H - np.where(flip_ud.any(axis=0),flip_ud.argmax(axis=0),H+1)\n",
    "    leftmost = left_edges.min()\n",
    "    rightmost = right_edges.max()\n",
    "    topmost = top_edges.min()\n",
    "    bottommost = bottom_edges.max()\n",
    "    return leftmost, rightmost, topmost, bottommost\n",
    "\n",
    "def rotatedRectWithMaxArea(w, h, angle):\n",
    "    \"\"\"\n",
    "    https://stackoverflow.com/questions/16702966/rotate-image-and-crop-out-black-borders\n",
    "    Given a rectangle of size wxh that has been rotated by 'angle' (in\n",
    "    radians), computes the width and height of the largest possible\n",
    "    axis-aligned rectangle (maximal area) within the rotated rectangle.\n",
    "    \"\"\"\n",
    "    if w <= 0 or h <= 0:\n",
    "        return 0,0\n",
    "    \n",
    "    width_is_longer = w >= h\n",
    "    side_long, side_short = (w,h) if width_is_longer else (h,w)\n",
    "    \n",
    "    # since the solutions for angle, -angle and 180-angle are all the same,\n",
    "    # if suffices to look at the first quadrant and the absolute values of sin,cos:\n",
    "    sin_a, cos_a = abs(math.sin(angle)), abs(math.cos(angle))\n",
    "    if side_short <= 2.*sin_a*cos_a*side_long or abs(sin_a-cos_a) < 1e-10:\n",
    "        # half constrained case: two crop corners touch the longer side,\n",
    "        #   the other two corners are on the mid-line parallel to the longer line\n",
    "        x = 0.5*side_short\n",
    "        wr,hr = (x/sin_a,x/cos_a) if width_is_longer else (x/cos_a,x/sin_a)\n",
    "    else:\n",
    "        # fully constrained case: crop touches all 4 sides\n",
    "        cos_2a = cos_a*cos_a - sin_a*sin_a\n",
    "        wr,hr = (w*cos_a - h*sin_a)/cos_2a, (h*cos_a - w*sin_a)/cos_2a\n",
    "        \n",
    "    w_bb = w*cos_a + h*sin_a\n",
    "    h_bb = w*sin_a + h*cos_a\n",
    "    inset_horizontal = (w_bb - wr) / 2\n",
    "    inset_vertical = (h_bb - hr) / 2\n",
    "    \n",
    "    # return wr, hr\n",
    "    return round(wr), round(hr), round(inset_horizontal), round(inset_vertical)"
   ]
  },
  {
   "cell_type": "code",
   "execution_count": 59,
   "metadata": {},
   "outputs": [
    {
     "data": {
      "text/plain": [
       "(['membrane', 'kit'], [0.9992854, 0.99736893])"
      ]
     },
     "execution_count": 59,
     "metadata": {},
     "output_type": "execute_result"
    }
   ],
   "source": [
    "labels = [pred['label'] for pred in output]\n",
    "scores = [eval(pred['score']) for pred in output]\n",
    "labels, scores"
   ]
  },
  {
   "cell_type": "code",
   "execution_count": 60,
   "metadata": {},
   "outputs": [
    {
     "data": {
      "text/plain": [
       "((2, 2, 2), (2, 1, 800, 600))"
      ]
     },
     "execution_count": 60,
     "metadata": {},
     "output_type": "execute_result"
    }
   ],
   "source": [
    "boxes = np.array([eval(pred['box']) for pred in output])\n",
    "masks = np.array([eval(pred['mask']) for pred in output])\n",
    "boxes.shape, masks.shape"
   ]
  },
  {
   "cell_type": "code",
   "execution_count": 61,
   "metadata": {},
   "outputs": [],
   "source": [
    "try:\n",
    "    kit_loc, membrane_loc = labels.index('kit'), labels.index('membrane')\n",
    "    kit_score, membrane_score = scores[kit_loc], scores[membrane_loc]\n",
    "except:\n",
    "    raise ValueError('Either kit or membrane is missing from the prediction or the image')"
   ]
  },
  {
   "cell_type": "code",
   "execution_count": 62,
   "metadata": {},
   "outputs": [],
   "source": [
    "if kit_score < 0.85 or membrane_score < 0.85:\n",
    "    raise ValueError('Either kit or membrane has low confidence!')"
   ]
  },
  {
   "cell_type": "code",
   "execution_count": 63,
   "metadata": {},
   "outputs": [],
   "source": [
    "kit_box, membrane_box = boxes[kit_loc, :], boxes[membrane_loc, :]\n",
    "kit_mask, membrane_mask = masks[kit_loc, :, :, :], masks[membrane_loc, :, :, :]"
   ]
  },
  {
   "cell_type": "code",
   "execution_count": 64,
   "metadata": {},
   "outputs": [
    {
     "data": {
      "image/png": "[encoded data removed]",
      "text/plain": [
       "<Figure size 432x288 with 1 Axes>"
      ]
     },
     "metadata": {
      "needs_background": "light"
     },
     "output_type": "display_data"
    }
   ],
   "source": [
    "kit_mask[kit_mask >= 0.85] = 1.\n",
    "kit_mask[kit_mask < 0.85] = 0.\n",
    "kit_mask = np.array(np.concatenate([kit_mask.reshape((H, W, 1)) * 255] * 3, axis=-1), dtype=np.uint8)\n",
    "plt.imshow(kit_mask)\n",
    "plt.show()"
   ]
  },
  {
   "cell_type": "code",
   "execution_count": 65,
   "metadata": {},
   "outputs": [
    {
     "data": {
      "image/png": "[encoded data removed]",
      "text/plain": [
       "<Figure size 432x288 with 1 Axes>"
      ]
     },
     "metadata": {
      "needs_background": "light"
     },
     "output_type": "display_data"
    }
   ],
   "source": [
    "membrane_mask[membrane_mask >= 0.85] = 1.\n",
    "membrane_mask[membrane_mask < 0.85] = 0.\n",
    "membrane_mask = np.array(np.concatenate([membrane_mask.reshape((H, W, 1)) * 255] * 3, axis=-1), dtype=np.uint8)\n",
    "plt.imshow(membrane_mask)\n",
    "plt.show()"
   ]
  },
  {
   "cell_type": "code",
   "execution_count": 66,
   "metadata": {},
   "outputs": [
    {
     "name": "stdout",
     "output_type": "stream",
     "text": [
      "CONSENSUS ANGLE:  -3\n"
     ]
    }
   ],
   "source": [
    "global_lefttop = (0, 0)\n",
    "global_righttop = (0, W)\n",
    "global_letfbottom = (H, 0)\n",
    "global_rightbottom = (H, W)\n",
    "\n",
    "kit_mask_coordinates = np.argwhere(kit_mask[:, :, 0] == 255)\n",
    "\n",
    "lefttop_distances = np.sum((kit_mask_coordinates  - global_lefttop)**2, axis=1)\n",
    "righttop_distances = np.sum((kit_mask_coordinates  - global_righttop)**2, axis=1)\n",
    "leftbottom_distances = np.sum((kit_mask_coordinates  - global_letfbottom)**2, axis=1)\n",
    "rightbottom_distances = np.sum((kit_mask_coordinates  - global_rightbottom)**2, axis=1)\n",
    "\n",
    "lefttop_coordinates = kit_mask_coordinates[np.argmin(lefttop_distances)]\n",
    "righttop_coordinates = kit_mask_coordinates[np.argmin(righttop_distances)]\n",
    "leftbottom_coordinates = kit_mask_coordinates[np.argmin(leftbottom_distances)]\n",
    "rightbottom_coordinates = kit_mask_coordinates[np.argmin(rightbottom_distances)]\n",
    "\n",
    "\n",
    "left_angle = math.atan((leftbottom_coordinates[1] - lefttop_coordinates[1]) / \n",
    "                       (leftbottom_coordinates[0] - lefttop_coordinates[0])) * (180 / math.pi)\n",
    "\n",
    "right_angle = math.atan((rightbottom_coordinates[1] - righttop_coordinates[1]) /\n",
    "                        (rightbottom_coordinates[0] - righttop_coordinates[0])) * (180 / math.pi)\n",
    "\n",
    "angle = int(round((left_angle + right_angle) / 2))\n",
    "print('CONSENSUS ANGLE: ', angle)"
   ]
  },
  {
   "cell_type": "code",
   "execution_count": 67,
   "metadata": {},
   "outputs": [
    {
     "data": {
      "image/png": "[encoded data removed]",
      "text/plain": [
       "<Figure size 432x288 with 1 Axes>"
      ]
     },
     "metadata": {
      "needs_background": "light"
     },
     "output_type": "display_data"
    }
   ],
   "source": [
    "rotated_image = rotate_image(image, -angle)\n",
    "plt.imshow(rotated_image)\n",
    "plt.show()"
   ]
  },
  {
   "cell_type": "code",
   "execution_count": 68,
   "metadata": {},
   "outputs": [
    {
     "name": "stdout",
     "output_type": "stream",
     "text": [
      "242 358 224 636\n"
     ]
    },
    {
     "data": {
      "image/png": "[encoded data removed]",
      "text/plain": [
       "<Figure size 432x288 with 1 Axes>"
      ]
     },
     "metadata": {
      "needs_background": "light"
     },
     "output_type": "display_data"
    }
   ],
   "source": [
    "rotated_kit_mask = rotate_image(kit_mask, -angle)\n",
    "kit_xmin, kit_xmax, kit_ymin, kit_ymax = get_corners(rotated_kit_mask)\n",
    "print(kit_xmin, kit_xmax, kit_ymin, kit_ymax)\n",
    "plt.imshow(rotated_kit_mask)\n",
    "plt.show()"
   ]
  },
  {
   "cell_type": "code",
   "execution_count": 69,
   "metadata": {},
   "outputs": [
    {
     "name": "stdout",
     "output_type": "stream",
     "text": [
      "287 311 369 462\n"
     ]
    },
    {
     "data": {
      "image/png": "[encoded data removed]",
      "text/plain": [
       "<Figure size 432x288 with 1 Axes>"
      ]
     },
     "metadata": {
      "needs_background": "light"
     },
     "output_type": "display_data"
    }
   ],
   "source": [
    "membrane_xmin, membrane_xmax, membrane_ymin, membrane_ymax = get_corners(membrane_mask)\n",
    "rotated_membrane = rotate_image(image[membrane_ymin: membrane_ymax, membrane_xmin: membrane_xmax, :], -angle)\n",
    "print(membrane_xmin, membrane_xmax, membrane_ymin, membrane_ymax)\n",
    "plt.imshow(rotated_membrane)\n",
    "plt.show()"
   ]
  },
  {
   "cell_type": "code",
   "execution_count": 70,
   "metadata": {},
   "outputs": [
    {
     "data": {
      "image/png": "[encoded data removed]",
      "text/plain": [
       "<Figure size 432x288 with 1 Axes>"
      ]
     },
     "metadata": {
      "needs_background": "light"
     },
     "output_type": "display_data"
    }
   ],
   "source": [
    "ymax, xmax, ymin, xmin = rotatedRectWithMaxArea(rotated_membrane.shape[0], \n",
    "                                                rotated_membrane.shape[1], \n",
    "                                                angle * (math.pi / 180))\n",
    "best_rotated_membrane = rotated_membrane[ymin: ymax, xmin: xmax, :]\n",
    "plt.imshow(best_rotated_membrane)\n",
    "plt.show()"
   ]
  },
  {
   "cell_type": "markdown",
   "metadata": {},
   "source": [
    "## Classification and Diagnosis!"
   ]
  },
  {
   "cell_type": "markdown",
   "metadata": {},
   "source": [
    "**NOTE:** We won't be rotating the membrane any further, the model implicitly takes care of the rest!"
   ]
  },
  {
   "cell_type": "code",
   "execution_count": 18,
   "metadata": {},
   "outputs": [
    {
     "ename": "NameError",
     "evalue": "name 'best_rotated_membrane' is not defined",
     "output_type": "error",
     "traceback": [
      "\u001b[0;31m---------------------------------------------------------------------------\u001b[0m",
      "\u001b[0;31mNameError\u001b[0m                                 Traceback (most recent call last)",
      "\u001b[0;32m<ipython-input-18-f2100fae7753>\u001b[0m in \u001b[0;36m<module>\u001b[0;34m\u001b[0m\n\u001b[0;32m----> 1\u001b[0;31m \u001b[0mcv2\u001b[0m\u001b[0;34m.\u001b[0m\u001b[0mimwrite\u001b[0m\u001b[0;34m(\u001b[0m\u001b[0;34m'extracted_membrane.jpg'\u001b[0m\u001b[0;34m,\u001b[0m \u001b[0mbest_rotated_membrane\u001b[0m\u001b[0;34m)\u001b[0m\u001b[0;34m\u001b[0m\u001b[0;34m\u001b[0m\u001b[0m\n\u001b[0m",
      "\u001b[0;31mNameError\u001b[0m: name 'best_rotated_membrane' is not defined"
     ]
    }
   ],
   "source": [
    "cv2.imwrite('extracted_membrane.jpg', best_rotated_membrane)"
   ]
  },
  {
   "cell_type": "code",
   "execution_count": 19,
   "metadata": {},
   "outputs": [],
   "source": [
    "with open('extracted_membrane.jpg', 'rb') as f:\n",
    "    payload = f.read()\n",
    "    payload = payload\n",
    "    \n",
    "response = predictor_classifier.predict(data=payload)"
   ]
  },
  {
   "cell_type": "code",
   "execution_count": 20,
   "metadata": {},
   "outputs": [],
   "source": [
    "with open('classification_response.txt', 'w') as f:\n",
    "    f.write(response.decode(\"utf-8\"))"
   ]
  },
  {
   "cell_type": "code",
   "execution_count": 21,
   "metadata": {},
   "outputs": [],
   "source": [
    "output = json.loads(response)"
   ]
  },
  {
   "cell_type": "code",
   "execution_count": 22,
   "metadata": {},
   "outputs": [
    {
     "data": {
      "text/plain": [
       "[{'zone_classification': '[1, 0, 0]', 'diagnosis': '0'}]"
      ]
     },
     "execution_count": 22,
     "metadata": {},
     "output_type": "execute_result"
    }
   ],
   "source": [
    "output"
   ]
  },
  {
   "cell_type": "code",
   "execution_count": 23,
   "metadata": {},
   "outputs": [
    {
     "name": "stdout",
     "output_type": "stream",
     "text": [
      "NEGATIVE\n"
     ]
    }
   ],
   "source": [
    "zone_classification = eval(output[0]['zone_classification'])\n",
    "diagnosis = eval(output[0]['diagnosis'])\n",
    "if diagnosis == 0:\n",
    "    print('NEGATIVE')\n",
    "elif diagnosis == 1:\n",
    "    print('POSITIVE')\n",
    "else:\n",
    "    print('INVALID')"
   ]
  },
  {
   "cell_type": "code",
   "execution_count": 77,
   "metadata": {},
   "outputs": [
    {
     "data": {
      "text/plain": [
       "[1, 1]"
      ]
     },
     "execution_count": 77,
     "metadata": {},
     "output_type": "execute_result"
    }
   ],
   "source": [
    "zone_classification"
   ]
  },
  {
   "cell_type": "code",
   "execution_count": null,
   "metadata": {},
   "outputs": [],
   "source": [
    "!pip freeze > requirements.txt"
   ]
  }
 ],
 "metadata": {
  "kernelspec": {
   "display_name": "Python 3",
   "language": "python",
   "name": "python3"
  },
  "language_info": {
   "codemirror_mode": {
    "name": "ipython",
    "version": 3
   },
   "file_extension": ".py",
   "mimetype": "text/x-python",
   "name": "python",
   "nbconvert_exporter": "python",
   "pygments_lexer": "ipython3",
   "version": "3.7.4"
  }
 },
 "nbformat": 4,
 "nbformat_minor": 4
}
